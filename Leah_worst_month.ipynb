{
 "cells": [
  {
   "cell_type": "code",
   "execution_count": 48,
   "metadata": {},
   "outputs": [],
   "source": [
    "import pandas as pd\n",
    "import datetime"
   ]
  },
  {
   "cell_type": "code",
   "execution_count": 37,
   "metadata": {},
   "outputs": [],
   "source": [
    "dna_data = pd.read_csv(\"Cleaned_Date_Culture_Data.csv\")"
   ]
  },
  {
   "cell_type": "code",
   "execution_count": 38,
   "metadata": {},
   "outputs": [
    {
     "data": {
      "text/html": [
       "<div>\n",
       "<style scoped>\n",
       "    .dataframe tbody tr th:only-of-type {\n",
       "        vertical-align: middle;\n",
       "    }\n",
       "\n",
       "    .dataframe tbody tr th {\n",
       "        vertical-align: top;\n",
       "    }\n",
       "\n",
       "    .dataframe thead th {\n",
       "        text-align: right;\n",
       "    }\n",
       "</style>\n",
       "<table border=\"1\" class=\"dataframe\">\n",
       "  <thead>\n",
       "    <tr style=\"text-align: right;\">\n",
       "      <th></th>\n",
       "      <th>Unnamed: 0</th>\n",
       "      <th>Culture Test ID</th>\n",
       "      <th>Culture Sample 1 Timestamp</th>\n",
       "      <th>Beach</th>\n",
       "      <th>Culture Sample 1 Reading</th>\n",
       "      <th>Culture Sample 2 Reading</th>\n",
       "      <th>Culture Reading Mean</th>\n",
       "      <th>Latitude</th>\n",
       "      <th>Longitude</th>\n",
       "      <th>Sample Date</th>\n",
       "      <th>Sample Time</th>\n",
       "    </tr>\n",
       "  </thead>\n",
       "  <tbody>\n",
       "    <tr>\n",
       "      <th>0</th>\n",
       "      <td>2231</td>\n",
       "      <td>113666.0</td>\n",
       "      <td>2016-08-04 08:30:00</td>\n",
       "      <td>Humboldt</td>\n",
       "      <td>1.0</td>\n",
       "      <td>1.0</td>\n",
       "      <td>1.0</td>\n",
       "      <td>41.90643</td>\n",
       "      <td>-87.703717</td>\n",
       "      <td>2016-08-04</td>\n",
       "      <td>08:30:00</td>\n",
       "    </tr>\n",
       "    <tr>\n",
       "      <th>1</th>\n",
       "      <td>2374</td>\n",
       "      <td>112689.0</td>\n",
       "      <td>2016-06-01 07:15:00</td>\n",
       "      <td>Calumet</td>\n",
       "      <td>629.0</td>\n",
       "      <td>1300.0</td>\n",
       "      <td>904.3</td>\n",
       "      <td>41.71420</td>\n",
       "      <td>-87.529900</td>\n",
       "      <td>2016-06-01</td>\n",
       "      <td>07:15:00</td>\n",
       "    </tr>\n",
       "    <tr>\n",
       "      <th>2</th>\n",
       "      <td>2375</td>\n",
       "      <td>112669.0</td>\n",
       "      <td>2016-06-01 08:00:00</td>\n",
       "      <td>Calumet</td>\n",
       "      <td>345.0</td>\n",
       "      <td>517.0</td>\n",
       "      <td>422.3</td>\n",
       "      <td>41.71420</td>\n",
       "      <td>-87.529900</td>\n",
       "      <td>2016-06-01</td>\n",
       "      <td>08:00:00</td>\n",
       "    </tr>\n",
       "    <tr>\n",
       "      <th>3</th>\n",
       "      <td>4980</td>\n",
       "      <td>109008.0</td>\n",
       "      <td>2013-05-26 00:00:00</td>\n",
       "      <td>57th Street</td>\n",
       "      <td>17.0</td>\n",
       "      <td>20.0</td>\n",
       "      <td>18.4</td>\n",
       "      <td>41.79110</td>\n",
       "      <td>-87.579700</td>\n",
       "      <td>2013-05-26</td>\n",
       "      <td>00:00:00</td>\n",
       "    </tr>\n",
       "    <tr>\n",
       "      <th>4</th>\n",
       "      <td>4983</td>\n",
       "      <td>93134.0</td>\n",
       "      <td>2015-07-07 00:00:00</td>\n",
       "      <td>Leone</td>\n",
       "      <td>727.0</td>\n",
       "      <td>727.0</td>\n",
       "      <td>727.0</td>\n",
       "      <td>42.01310</td>\n",
       "      <td>-87.663500</td>\n",
       "      <td>2015-07-07</td>\n",
       "      <td>00:00:00</td>\n",
       "    </tr>\n",
       "  </tbody>\n",
       "</table>\n",
       "</div>"
      ],
      "text/plain": [
       "   Unnamed: 0  Culture Test ID Culture Sample 1 Timestamp        Beach  \\\n",
       "0        2231         113666.0        2016-08-04 08:30:00     Humboldt   \n",
       "1        2374         112689.0        2016-06-01 07:15:00      Calumet   \n",
       "2        2375         112669.0        2016-06-01 08:00:00      Calumet   \n",
       "3        4980         109008.0        2013-05-26 00:00:00  57th Street   \n",
       "4        4983          93134.0        2015-07-07 00:00:00        Leone   \n",
       "\n",
       "   Culture Sample 1 Reading  Culture Sample 2 Reading  Culture Reading Mean  \\\n",
       "0                       1.0                       1.0                   1.0   \n",
       "1                     629.0                    1300.0                 904.3   \n",
       "2                     345.0                     517.0                 422.3   \n",
       "3                      17.0                      20.0                  18.4   \n",
       "4                     727.0                     727.0                 727.0   \n",
       "\n",
       "   Latitude  Longitude Sample Date Sample Time  \n",
       "0  41.90643 -87.703717  2016-08-04    08:30:00  \n",
       "1  41.71420 -87.529900  2016-06-01    07:15:00  \n",
       "2  41.71420 -87.529900  2016-06-01    08:00:00  \n",
       "3  41.79110 -87.579700  2013-05-26    00:00:00  \n",
       "4  42.01310 -87.663500  2015-07-07    00:00:00  "
      ]
     },
     "execution_count": 38,
     "metadata": {},
     "output_type": "execute_result"
    }
   ],
   "source": [
    "dna_data.head()"
   ]
  },
  {
   "cell_type": "code",
   "execution_count": 39,
   "metadata": {},
   "outputs": [],
   "source": [
    "test = \"2016-08-04\"\n",
    "\n",
    "formatted = datetime.strptime(test, \"%Y-%m-%d\")"
   ]
  },
  {
   "cell_type": "code",
   "execution_count": 40,
   "metadata": {},
   "outputs": [
    {
     "data": {
      "text/plain": [
       "8"
      ]
     },
     "execution_count": 40,
     "metadata": {},
     "output_type": "execute_result"
    }
   ],
   "source": [
    "formatted.month"
   ]
  },
  {
   "cell_type": "code",
   "execution_count": 41,
   "metadata": {},
   "outputs": [],
   "source": [
    "dna_data[\"Sample Month\"] = \"\"\n",
    "\n",
    "for index, row in dna_data.iterrows():\n",
    "    \n",
    "    date = row[\"Sample Date\"]\n",
    "    \n",
    "    formatted = datetime.strptime(date, \"%Y-%m-%d\")\n",
    "    \n",
    "    dna_data.loc[index, \"Sample Month\"] = formatted.month\n",
    "    \n",
    "# using striptime: https://stackoverflow.com/questions/26105804/extract-month-from-date-in-python/26105888\n"
   ]
  },
  {
   "cell_type": "code",
   "execution_count": 43,
   "metadata": {},
   "outputs": [
    {
     "data": {
      "text/html": [
       "<div>\n",
       "<style scoped>\n",
       "    .dataframe tbody tr th:only-of-type {\n",
       "        vertical-align: middle;\n",
       "    }\n",
       "\n",
       "    .dataframe tbody tr th {\n",
       "        vertical-align: top;\n",
       "    }\n",
       "\n",
       "    .dataframe thead th {\n",
       "        text-align: right;\n",
       "    }\n",
       "</style>\n",
       "<table border=\"1\" class=\"dataframe\">\n",
       "  <thead>\n",
       "    <tr style=\"text-align: right;\">\n",
       "      <th></th>\n",
       "      <th>Unnamed: 0</th>\n",
       "      <th>Culture Test ID</th>\n",
       "      <th>Culture Sample 1 Timestamp</th>\n",
       "      <th>Beach</th>\n",
       "      <th>Culture Sample 1 Reading</th>\n",
       "      <th>Culture Sample 2 Reading</th>\n",
       "      <th>Culture Reading Mean</th>\n",
       "      <th>Latitude</th>\n",
       "      <th>Longitude</th>\n",
       "      <th>Sample Date</th>\n",
       "      <th>Sample Time</th>\n",
       "      <th>Sample Month</th>\n",
       "    </tr>\n",
       "  </thead>\n",
       "  <tbody>\n",
       "    <tr>\n",
       "      <th>0</th>\n",
       "      <td>2231</td>\n",
       "      <td>113666.0</td>\n",
       "      <td>2016-08-04 08:30:00</td>\n",
       "      <td>Humboldt</td>\n",
       "      <td>1.0</td>\n",
       "      <td>1.0</td>\n",
       "      <td>1.0</td>\n",
       "      <td>41.90643</td>\n",
       "      <td>-87.703717</td>\n",
       "      <td>2016-08-04</td>\n",
       "      <td>08:30:00</td>\n",
       "      <td>8</td>\n",
       "    </tr>\n",
       "    <tr>\n",
       "      <th>1</th>\n",
       "      <td>2374</td>\n",
       "      <td>112689.0</td>\n",
       "      <td>2016-06-01 07:15:00</td>\n",
       "      <td>Calumet</td>\n",
       "      <td>629.0</td>\n",
       "      <td>1300.0</td>\n",
       "      <td>904.3</td>\n",
       "      <td>41.71420</td>\n",
       "      <td>-87.529900</td>\n",
       "      <td>2016-06-01</td>\n",
       "      <td>07:15:00</td>\n",
       "      <td>6</td>\n",
       "    </tr>\n",
       "    <tr>\n",
       "      <th>2</th>\n",
       "      <td>2375</td>\n",
       "      <td>112669.0</td>\n",
       "      <td>2016-06-01 08:00:00</td>\n",
       "      <td>Calumet</td>\n",
       "      <td>345.0</td>\n",
       "      <td>517.0</td>\n",
       "      <td>422.3</td>\n",
       "      <td>41.71420</td>\n",
       "      <td>-87.529900</td>\n",
       "      <td>2016-06-01</td>\n",
       "      <td>08:00:00</td>\n",
       "      <td>6</td>\n",
       "    </tr>\n",
       "    <tr>\n",
       "      <th>3</th>\n",
       "      <td>4980</td>\n",
       "      <td>109008.0</td>\n",
       "      <td>2013-05-26 00:00:00</td>\n",
       "      <td>57th Street</td>\n",
       "      <td>17.0</td>\n",
       "      <td>20.0</td>\n",
       "      <td>18.4</td>\n",
       "      <td>41.79110</td>\n",
       "      <td>-87.579700</td>\n",
       "      <td>2013-05-26</td>\n",
       "      <td>00:00:00</td>\n",
       "      <td>5</td>\n",
       "    </tr>\n",
       "    <tr>\n",
       "      <th>4</th>\n",
       "      <td>4983</td>\n",
       "      <td>93134.0</td>\n",
       "      <td>2015-07-07 00:00:00</td>\n",
       "      <td>Leone</td>\n",
       "      <td>727.0</td>\n",
       "      <td>727.0</td>\n",
       "      <td>727.0</td>\n",
       "      <td>42.01310</td>\n",
       "      <td>-87.663500</td>\n",
       "      <td>2015-07-07</td>\n",
       "      <td>00:00:00</td>\n",
       "      <td>7</td>\n",
       "    </tr>\n",
       "  </tbody>\n",
       "</table>\n",
       "</div>"
      ],
      "text/plain": [
       "   Unnamed: 0  Culture Test ID Culture Sample 1 Timestamp        Beach  \\\n",
       "0        2231         113666.0        2016-08-04 08:30:00     Humboldt   \n",
       "1        2374         112689.0        2016-06-01 07:15:00      Calumet   \n",
       "2        2375         112669.0        2016-06-01 08:00:00      Calumet   \n",
       "3        4980         109008.0        2013-05-26 00:00:00  57th Street   \n",
       "4        4983          93134.0        2015-07-07 00:00:00        Leone   \n",
       "\n",
       "   Culture Sample 1 Reading  Culture Sample 2 Reading  Culture Reading Mean  \\\n",
       "0                       1.0                       1.0                   1.0   \n",
       "1                     629.0                    1300.0                 904.3   \n",
       "2                     345.0                     517.0                 422.3   \n",
       "3                      17.0                      20.0                  18.4   \n",
       "4                     727.0                     727.0                 727.0   \n",
       "\n",
       "   Latitude  Longitude Sample Date Sample Time Sample Month  \n",
       "0  41.90643 -87.703717  2016-08-04    08:30:00            8  \n",
       "1  41.71420 -87.529900  2016-06-01    07:15:00            6  \n",
       "2  41.71420 -87.529900  2016-06-01    08:00:00            6  \n",
       "3  41.79110 -87.579700  2013-05-26    00:00:00            5  \n",
       "4  42.01310 -87.663500  2015-07-07    00:00:00            7  "
      ]
     },
     "execution_count": 43,
     "metadata": {},
     "output_type": "execute_result"
    }
   ],
   "source": [
    "dna_data.head()"
   ]
  },
  {
   "cell_type": "code",
   "execution_count": null,
   "metadata": {},
   "outputs": [],
   "source": [
    "# options from here:\n",
    "\n",
    "# groupby month, get mean of test result per month, make a bar graph of mean grossness per month\n",
    "\n",
    "# could also use datetime to get the month and day, subtract january 1 to get what number \n",
    "# day it is in the year, plot a line graph and label the appropriate days as as jan 1, feb 1 etc\n",
    "# instead of the day of the year\n",
    "\n",
    "#   pros: might look cooler, would sync up with weather data\n",
    "#   cons: harder :)\n",
    "\n",
    "# my thoughts - do both? bar graph of how gross the months are seems like a good quick takeaway\n",
    "# but I think we need more if we want to compare with milwaukee weather"
   ]
  },
  {
   "cell_type": "code",
   "execution_count": 49,
   "metadata": {},
   "outputs": [
    {
     "data": {
      "text/plain": [
       "209"
      ]
     },
     "execution_count": 49,
     "metadata": {},
     "output_type": "execute_result"
    }
   ],
   "source": [
    "#finding the day of the year\n",
    "#https://stackoverflow.com/questions/151199/how-to-calculate-number-of-days-between-two-given-dates\n",
    "\n",
    "bday = datetime.date(2021, 7, 28)\n",
    "day0 = datetime.date(2020, 12, 31)\n",
    "delta = bday - day0\n",
    "\n",
    "delta.days"
   ]
  },
  {
   "cell_type": "code",
   "execution_count": 57,
   "metadata": {},
   "outputs": [
    {
     "data": {
      "text/plain": [
       "datetime.date(2021, 7, 28)"
      ]
     },
     "execution_count": 57,
     "metadata": {},
     "output_type": "execute_result"
    }
   ],
   "source": [
    "#adding day of the year to make a date\n",
    "\n",
    "added_back = day0 + delta\n",
    "added_back"
   ]
  },
  {
   "cell_type": "code",
   "execution_count": 56,
   "metadata": {},
   "outputs": [
    {
     "data": {
      "text/plain": [
       "'2021-7-28'"
      ]
     },
     "execution_count": 56,
     "metadata": {},
     "output_type": "execute_result"
    }
   ],
   "source": [
    "#putting it back in a string\n",
    "\n",
    "f\"{added_back.year}-{added_back.month}-{added_back.day}\""
   ]
  },
  {
   "cell_type": "code",
   "execution_count": null,
   "metadata": {},
   "outputs": [],
   "source": []
  }
 ],
 "metadata": {
  "kernelspec": {
   "display_name": "Python 3",
   "language": "python",
   "name": "python3"
  },
  "language_info": {
   "codemirror_mode": {
    "name": "ipython",
    "version": 3
   },
   "file_extension": ".py",
   "mimetype": "text/x-python",
   "name": "python",
   "nbconvert_exporter": "python",
   "pygments_lexer": "ipython3",
   "version": "3.8.5"
  }
 },
 "nbformat": 4,
 "nbformat_minor": 4
}
