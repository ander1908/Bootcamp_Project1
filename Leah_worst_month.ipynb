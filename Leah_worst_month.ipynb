{
 "cells": [
  {
   "cell_type": "code",
   "execution_count": 1,
   "metadata": {},
   "outputs": [],
   "source": [
    "import pandas as pd\n",
    "import datetime\n",
    "import matplotlib.pyplot as plt"
   ]
  },
  {
   "cell_type": "code",
   "execution_count": 53,
   "metadata": {},
   "outputs": [],
   "source": [
    "dna_data = pd.read_csv(\"Cleaned_Date_DNA_Data.csv\")\n",
    "culture_data = pd.read_csv(\"Cleaned_Date_culture_Data.csv\")"
   ]
  },
  {
   "cell_type": "code",
   "execution_count": 55,
   "metadata": {},
   "outputs": [
    {
     "data": {
      "text/html": [
       "<div>\n",
       "<style scoped>\n",
       "    .dataframe tbody tr th:only-of-type {\n",
       "        vertical-align: middle;\n",
       "    }\n",
       "\n",
       "    .dataframe tbody tr th {\n",
       "        vertical-align: top;\n",
       "    }\n",
       "\n",
       "    .dataframe thead th {\n",
       "        text-align: right;\n",
       "    }\n",
       "</style>\n",
       "<table border=\"1\" class=\"dataframe\">\n",
       "  <thead>\n",
       "    <tr style=\"text-align: right;\">\n",
       "      <th></th>\n",
       "      <th>Unnamed: 0</th>\n",
       "      <th>Culture Test ID</th>\n",
       "      <th>Culture Sample 1 Timestamp</th>\n",
       "      <th>Beach</th>\n",
       "      <th>Culture Sample 1 Reading</th>\n",
       "      <th>Culture Sample 2 Reading</th>\n",
       "      <th>Culture Reading Mean</th>\n",
       "      <th>Latitude</th>\n",
       "      <th>Longitude</th>\n",
       "      <th>Sample Date</th>\n",
       "      <th>Sample Time</th>\n",
       "    </tr>\n",
       "  </thead>\n",
       "  <tbody>\n",
       "    <tr>\n",
       "      <th>0</th>\n",
       "      <td>2231</td>\n",
       "      <td>113666.0</td>\n",
       "      <td>2016-08-04 08:30:00</td>\n",
       "      <td>Humboldt</td>\n",
       "      <td>1.0</td>\n",
       "      <td>1.0</td>\n",
       "      <td>1.0</td>\n",
       "      <td>41.90643</td>\n",
       "      <td>-87.703717</td>\n",
       "      <td>2016-08-04</td>\n",
       "      <td>08:30:00</td>\n",
       "    </tr>\n",
       "    <tr>\n",
       "      <th>1</th>\n",
       "      <td>2374</td>\n",
       "      <td>112689.0</td>\n",
       "      <td>2016-06-01 07:15:00</td>\n",
       "      <td>Calumet</td>\n",
       "      <td>629.0</td>\n",
       "      <td>1300.0</td>\n",
       "      <td>904.3</td>\n",
       "      <td>41.71420</td>\n",
       "      <td>-87.529900</td>\n",
       "      <td>2016-06-01</td>\n",
       "      <td>07:15:00</td>\n",
       "    </tr>\n",
       "    <tr>\n",
       "      <th>2</th>\n",
       "      <td>2375</td>\n",
       "      <td>112669.0</td>\n",
       "      <td>2016-06-01 08:00:00</td>\n",
       "      <td>Calumet</td>\n",
       "      <td>345.0</td>\n",
       "      <td>517.0</td>\n",
       "      <td>422.3</td>\n",
       "      <td>41.71420</td>\n",
       "      <td>-87.529900</td>\n",
       "      <td>2016-06-01</td>\n",
       "      <td>08:00:00</td>\n",
       "    </tr>\n",
       "    <tr>\n",
       "      <th>3</th>\n",
       "      <td>4980</td>\n",
       "      <td>109008.0</td>\n",
       "      <td>2013-05-26 00:00:00</td>\n",
       "      <td>57th Street</td>\n",
       "      <td>17.0</td>\n",
       "      <td>20.0</td>\n",
       "      <td>18.4</td>\n",
       "      <td>41.79110</td>\n",
       "      <td>-87.579700</td>\n",
       "      <td>2013-05-26</td>\n",
       "      <td>00:00:00</td>\n",
       "    </tr>\n",
       "    <tr>\n",
       "      <th>4</th>\n",
       "      <td>4983</td>\n",
       "      <td>93134.0</td>\n",
       "      <td>2015-07-07 00:00:00</td>\n",
       "      <td>Leone</td>\n",
       "      <td>727.0</td>\n",
       "      <td>727.0</td>\n",
       "      <td>727.0</td>\n",
       "      <td>42.01310</td>\n",
       "      <td>-87.663500</td>\n",
       "      <td>2015-07-07</td>\n",
       "      <td>00:00:00</td>\n",
       "    </tr>\n",
       "  </tbody>\n",
       "</table>\n",
       "</div>"
      ],
      "text/plain": [
       "   Unnamed: 0  Culture Test ID Culture Sample 1 Timestamp        Beach  \\\n",
       "0        2231         113666.0        2016-08-04 08:30:00     Humboldt   \n",
       "1        2374         112689.0        2016-06-01 07:15:00      Calumet   \n",
       "2        2375         112669.0        2016-06-01 08:00:00      Calumet   \n",
       "3        4980         109008.0        2013-05-26 00:00:00  57th Street   \n",
       "4        4983          93134.0        2015-07-07 00:00:00        Leone   \n",
       "\n",
       "   Culture Sample 1 Reading  Culture Sample 2 Reading  Culture Reading Mean  \\\n",
       "0                       1.0                       1.0                   1.0   \n",
       "1                     629.0                    1300.0                 904.3   \n",
       "2                     345.0                     517.0                 422.3   \n",
       "3                      17.0                      20.0                  18.4   \n",
       "4                     727.0                     727.0                 727.0   \n",
       "\n",
       "   Latitude  Longitude Sample Date Sample Time  \n",
       "0  41.90643 -87.703717  2016-08-04    08:30:00  \n",
       "1  41.71420 -87.529900  2016-06-01    07:15:00  \n",
       "2  41.71420 -87.529900  2016-06-01    08:00:00  \n",
       "3  41.79110 -87.579700  2013-05-26    00:00:00  \n",
       "4  42.01310 -87.663500  2015-07-07    00:00:00  "
      ]
     },
     "execution_count": 55,
     "metadata": {},
     "output_type": "execute_result"
    }
   ],
   "source": [
    "culture_data.head()"
   ]
  },
  {
   "cell_type": "code",
   "execution_count": 4,
   "metadata": {},
   "outputs": [],
   "source": [
    "test = \"2016-08-04\"\n",
    "\n",
    "formatted = datetime.datetime.strptime(test, \"%Y-%m-%d\")"
   ]
  },
  {
   "cell_type": "code",
   "execution_count": 5,
   "metadata": {},
   "outputs": [
    {
     "data": {
      "text/plain": [
       "8"
      ]
     },
     "execution_count": 5,
     "metadata": {},
     "output_type": "execute_result"
    }
   ],
   "source": [
    "formatted.month"
   ]
  },
  {
   "cell_type": "code",
   "execution_count": 59,
   "metadata": {},
   "outputs": [],
   "source": [
    "dna_data[\"Sample Month\"] = \"\"\n",
    "\n",
    "for index, row in dna_data.iterrows():\n",
    "    \n",
    "    date = row[\"Sample Date\"]\n",
    "    \n",
    "    formatted = datetime.datetime.strptime(date, \"%Y-%m-%d\")\n",
    "    \n",
    "    dna_data.loc[index, \"Sample Month\"] = formatted.month\n",
    "    \n",
    "# using striptime: https://stackoverflow.com/questions/26105804/extract-month-from-date-in-python/26105888\n"
   ]
  },
  {
   "cell_type": "code",
   "execution_count": 56,
   "metadata": {},
   "outputs": [],
   "source": [
    "culture_data[\"Sample Month\"] = \"\"\n",
    "\n",
    "for index, row in culture_data.iterrows():\n",
    "    \n",
    "    date = row[\"Sample Date\"]\n",
    "    \n",
    "    formatted = datetime.datetime.strptime(date, \"%Y-%m-%d\")\n",
    "    \n",
    "    culture_data.loc[index, \"Sample Month\"] = formatted.month"
   ]
  },
  {
   "cell_type": "code",
   "execution_count": 57,
   "metadata": {},
   "outputs": [
    {
     "data": {
      "text/html": [
       "<div>\n",
       "<style scoped>\n",
       "    .dataframe tbody tr th:only-of-type {\n",
       "        vertical-align: middle;\n",
       "    }\n",
       "\n",
       "    .dataframe tbody tr th {\n",
       "        vertical-align: top;\n",
       "    }\n",
       "\n",
       "    .dataframe thead th {\n",
       "        text-align: right;\n",
       "    }\n",
       "</style>\n",
       "<table border=\"1\" class=\"dataframe\">\n",
       "  <thead>\n",
       "    <tr style=\"text-align: right;\">\n",
       "      <th></th>\n",
       "      <th>Unnamed: 0</th>\n",
       "      <th>Culture Test ID</th>\n",
       "      <th>Culture Sample 1 Timestamp</th>\n",
       "      <th>Beach</th>\n",
       "      <th>Culture Sample 1 Reading</th>\n",
       "      <th>Culture Sample 2 Reading</th>\n",
       "      <th>Culture Reading Mean</th>\n",
       "      <th>Latitude</th>\n",
       "      <th>Longitude</th>\n",
       "      <th>Sample Date</th>\n",
       "      <th>Sample Time</th>\n",
       "      <th>Sample Month</th>\n",
       "    </tr>\n",
       "  </thead>\n",
       "  <tbody>\n",
       "    <tr>\n",
       "      <th>0</th>\n",
       "      <td>2231</td>\n",
       "      <td>113666.0</td>\n",
       "      <td>2016-08-04 08:30:00</td>\n",
       "      <td>Humboldt</td>\n",
       "      <td>1.0</td>\n",
       "      <td>1.0</td>\n",
       "      <td>1.0</td>\n",
       "      <td>41.90643</td>\n",
       "      <td>-87.703717</td>\n",
       "      <td>2016-08-04</td>\n",
       "      <td>08:30:00</td>\n",
       "      <td>8</td>\n",
       "    </tr>\n",
       "    <tr>\n",
       "      <th>1</th>\n",
       "      <td>2374</td>\n",
       "      <td>112689.0</td>\n",
       "      <td>2016-06-01 07:15:00</td>\n",
       "      <td>Calumet</td>\n",
       "      <td>629.0</td>\n",
       "      <td>1300.0</td>\n",
       "      <td>904.3</td>\n",
       "      <td>41.71420</td>\n",
       "      <td>-87.529900</td>\n",
       "      <td>2016-06-01</td>\n",
       "      <td>07:15:00</td>\n",
       "      <td>6</td>\n",
       "    </tr>\n",
       "    <tr>\n",
       "      <th>2</th>\n",
       "      <td>2375</td>\n",
       "      <td>112669.0</td>\n",
       "      <td>2016-06-01 08:00:00</td>\n",
       "      <td>Calumet</td>\n",
       "      <td>345.0</td>\n",
       "      <td>517.0</td>\n",
       "      <td>422.3</td>\n",
       "      <td>41.71420</td>\n",
       "      <td>-87.529900</td>\n",
       "      <td>2016-06-01</td>\n",
       "      <td>08:00:00</td>\n",
       "      <td>6</td>\n",
       "    </tr>\n",
       "    <tr>\n",
       "      <th>3</th>\n",
       "      <td>4980</td>\n",
       "      <td>109008.0</td>\n",
       "      <td>2013-05-26 00:00:00</td>\n",
       "      <td>57th Street</td>\n",
       "      <td>17.0</td>\n",
       "      <td>20.0</td>\n",
       "      <td>18.4</td>\n",
       "      <td>41.79110</td>\n",
       "      <td>-87.579700</td>\n",
       "      <td>2013-05-26</td>\n",
       "      <td>00:00:00</td>\n",
       "      <td>5</td>\n",
       "    </tr>\n",
       "    <tr>\n",
       "      <th>4</th>\n",
       "      <td>4983</td>\n",
       "      <td>93134.0</td>\n",
       "      <td>2015-07-07 00:00:00</td>\n",
       "      <td>Leone</td>\n",
       "      <td>727.0</td>\n",
       "      <td>727.0</td>\n",
       "      <td>727.0</td>\n",
       "      <td>42.01310</td>\n",
       "      <td>-87.663500</td>\n",
       "      <td>2015-07-07</td>\n",
       "      <td>00:00:00</td>\n",
       "      <td>7</td>\n",
       "    </tr>\n",
       "  </tbody>\n",
       "</table>\n",
       "</div>"
      ],
      "text/plain": [
       "   Unnamed: 0  Culture Test ID Culture Sample 1 Timestamp        Beach  \\\n",
       "0        2231         113666.0        2016-08-04 08:30:00     Humboldt   \n",
       "1        2374         112689.0        2016-06-01 07:15:00      Calumet   \n",
       "2        2375         112669.0        2016-06-01 08:00:00      Calumet   \n",
       "3        4980         109008.0        2013-05-26 00:00:00  57th Street   \n",
       "4        4983          93134.0        2015-07-07 00:00:00        Leone   \n",
       "\n",
       "   Culture Sample 1 Reading  Culture Sample 2 Reading  Culture Reading Mean  \\\n",
       "0                       1.0                       1.0                   1.0   \n",
       "1                     629.0                    1300.0                 904.3   \n",
       "2                     345.0                     517.0                 422.3   \n",
       "3                      17.0                      20.0                  18.4   \n",
       "4                     727.0                     727.0                 727.0   \n",
       "\n",
       "   Latitude  Longitude Sample Date Sample Time Sample Month  \n",
       "0  41.90643 -87.703717  2016-08-04    08:30:00            8  \n",
       "1  41.71420 -87.529900  2016-06-01    07:15:00            6  \n",
       "2  41.71420 -87.529900  2016-06-01    08:00:00            6  \n",
       "3  41.79110 -87.579700  2013-05-26    00:00:00            5  \n",
       "4  42.01310 -87.663500  2015-07-07    00:00:00            7  "
      ]
     },
     "execution_count": 57,
     "metadata": {},
     "output_type": "execute_result"
    }
   ],
   "source": [
    "culture_data.head()"
   ]
  },
  {
   "cell_type": "code",
   "execution_count": 60,
   "metadata": {},
   "outputs": [],
   "source": [
    "dna_by_month = dna_data.groupby(\"Sample Month\")\n",
    "culture_by_month = culture_data.groupby(\"Sample Month\")"
   ]
  },
  {
   "cell_type": "code",
   "execution_count": 69,
   "metadata": {},
   "outputs": [
    {
     "data": {
      "text/plain": [
       "Sample Month\n",
       "5    294.675561\n",
       "6    491.519486\n",
       "7    627.044898\n",
       "8    606.399228\n",
       "9    441.428708\n",
       "Name: DNA Reading Mean, dtype: float64"
      ]
     },
     "execution_count": 69,
     "metadata": {},
     "output_type": "execute_result"
    }
   ],
   "source": [
    "dna_y_axis = dna_by_month[\"DNA Reading Mean\"].mean()\n",
    "dna_y_axis"
   ]
  },
  {
   "cell_type": "code",
   "execution_count": 70,
   "metadata": {},
   "outputs": [],
   "source": [
    "x_axis = [\"May\", \"June\", \"July\", \"August\", \"September\"]"
   ]
  },
  {
   "cell_type": "code",
   "execution_count": 72,
   "metadata": {},
   "outputs": [
    {
     "data": {
      "image/png": "[encoded data removed]",
      "text/plain": [
       "<Figure size 432x288 with 1 Axes>"
      ]
     },
     "metadata": {
      "needs_background": "light"
     },
     "output_type": "display_data"
    }
   ],
   "source": [
    "plt.bar(x_axis, dna_y_axis)\n",
    "\n",
    "plt.title(\"Which month has the most e coli? (DNA test)\")\n",
    "plt.xlabel(\"Month\")\n",
    "plt.ylabel(\"Average e coli level (CCE)\")\n",
    "\n",
    "plt.show()"
   ]
  },
  {
   "cell_type": "code",
   "execution_count": 61,
   "metadata": {},
   "outputs": [
    {
     "data": {
      "text/plain": [
       "Sample Month\n",
       "5     162.750043\n",
       "6     131.254973\n",
       "7     163.658208\n",
       "8     160.541246\n",
       "9     147.932780\n",
       "10      1.000000\n",
       "Name: Culture Reading Mean, dtype: float64"
      ]
     },
     "execution_count": 61,
     "metadata": {},
     "output_type": "execute_result"
    }
   ],
   "source": [
    "culture_y_axis = culture_by_month[\"Culture Reading Mean\"].mean()\n",
    "culture_y_axis"
   ]
  },
  {
   "cell_type": "code",
   "execution_count": 63,
   "metadata": {},
   "outputs": [],
   "source": [
    "#dropping october\n",
    "culture_y_axis=culture_y_axis.drop(labels=10)"
   ]
  },
  {
   "cell_type": "code",
   "execution_count": 64,
   "metadata": {},
   "outputs": [],
   "source": [
    "x_axis = [\"May\", \"June\", \"July\", \"August\", \"September\"]"
   ]
  },
  {
   "cell_type": "code",
   "execution_count": 73,
   "metadata": {},
   "outputs": [
    {
     "data": {
      "image/png": "[encoded data removed]",
      "text/plain": [
       "<Figure size 432x288 with 1 Axes>"
      ]
     },
     "metadata": {
      "needs_background": "light"
     },
     "output_type": "display_data"
    }
   ],
   "source": [
    "plt.bar(x_axis, culture_y_axis)\n",
    "\n",
    "\n",
    "plt.title(\"Which month has the most e coli? (Culture test)\")\n",
    "plt.xlabel(\"Month\")\n",
    "plt.ylabel(\"Average e coli level (CFU/100ml)\")\n",
    "\n",
    "plt.show()"
   ]
  },
  {
   "cell_type": "code",
   "execution_count": 74,
   "metadata": {},
   "outputs": [],
   "source": [
    "dna_by_date = dna_data.groupby(\"Sample Date\")\n",
    "culture_by_date = culture_data.groupby(\"Sample Date\")"
   ]
  },
  {
   "cell_type": "code",
   "execution_count": 76,
   "metadata": {},
   "outputs": [],
   "source": [
    "daily_dna_means = dna_by_date[\"DNA Reading Mean\"].mean()\n",
    "daily_culture_means = culture_by_date[\"Culture Reading Mean\"].mean()"
   ]
  },
  {
   "cell_type": "code",
   "execution_count": 77,
   "metadata": {},
   "outputs": [
    {
     "data": {
      "text/plain": [
       "433"
      ]
     },
     "execution_count": 77,
     "metadata": {},
     "output_type": "execute_result"
    }
   ],
   "source": [
    "len(daily_dna_means)"
   ]
  },
  {
   "cell_type": "code",
   "execution_count": 20,
   "metadata": {},
   "outputs": [],
   "source": [
    "dates = dna_data[\"Sample Date\"].unique()"
   ]
  },
  {
   "cell_type": "code",
   "execution_count": 42,
   "metadata": {},
   "outputs": [
    {
     "data": {
      "text/plain": [
       "433"
      ]
     },
     "execution_count": 42,
     "metadata": {},
     "output_type": "execute_result"
    }
   ],
   "source": [
    "len(dates)"
   ]
  },
  {
   "cell_type": "code",
   "execution_count": 24,
   "metadata": {},
   "outputs": [
    {
     "data": {
      "image/png": "[encoded data removed]",
      "text/plain": [
       "<Figure size 432x288 with 1 Axes>"
      ]
     },
     "metadata": {
      "needs_background": "light"
     },
     "output_type": "display_data"
    }
   ],
   "source": [
    "x_axis = dates\n",
    "y_axis = daily_dna_means\n",
    "\n",
    "plt.plot(x_axis, y_axis)\n",
    "\n",
    "\n",
    "plt.title(\"e coli levels over time (city wide)\")\n",
    "plt.xlabel(\"date\")\n",
    "plt.ylabel(\"Average e coli level (CFU/100ml)\")\n",
    "\n",
    "plt.show()"
   ]
  },
  {
   "cell_type": "code",
   "execution_count": 78,
   "metadata": {},
   "outputs": [],
   "source": [
    "daily_dna_means = daily_dna_means.to_frame()\n",
    "daily_culture_means = daily_culture_means.to_frame()"
   ]
  },
  {
   "cell_type": "code",
   "execution_count": 79,
   "metadata": {},
   "outputs": [],
   "source": [
    "daily_dna_means.reset_index(drop=False, inplace=True)\n",
    "daily_culture_means.reset_index(drop=False, inplace=True)"
   ]
  },
  {
   "cell_type": "code",
   "execution_count": 81,
   "metadata": {},
   "outputs": [],
   "source": [
    "daily_dna_means=daily_dna_means.rename(columns = {\"Sample Date\":\"Date\",\"DNA Reading Mean\":\"Citywide Mean E Coli Level\"})"
   ]
  },
  {
   "cell_type": "code",
   "execution_count": 82,
   "metadata": {},
   "outputs": [
    {
     "data": {
      "text/plain": [
       "Index(['Sample Date', 'Culture Reading Mean'], dtype='object')"
      ]
     },
     "execution_count": 82,
     "metadata": {},
     "output_type": "execute_result"
    }
   ],
   "source": [
    "daily_culture_means.columns"
   ]
  },
  {
   "cell_type": "code",
   "execution_count": 84,
   "metadata": {},
   "outputs": [],
   "source": [
    "daily_culture_means = daily_culture_means.rename(columns = {\"Sample Date\":\"Date\",\"Culture Reading Mean\":\"Citywide Mean E Coli Level\"})"
   ]
  },
  {
   "cell_type": "code",
   "execution_count": 86,
   "metadata": {},
   "outputs": [],
   "source": [
    "daily_dna_means.to_csv('DNA_daily_citywide_means.csv')\n",
    "daily_culture_means.to_csv('culture_daily_citywide_means.csv')"
   ]
  },
  {
   "cell_type": "code",
   "execution_count": null,
   "metadata": {},
   "outputs": [],
   "source": []
  }
 ],
 "metadata": {
  "kernelspec": {
   "display_name": "Python 3",
   "language": "python",
   "name": "python3"
  },
  "language_info": {
   "codemirror_mode": {
    "name": "ipython",
    "version": 3
   },
   "file_extension": ".py",
   "mimetype": "text/x-python",
   "name": "python",
   "nbconvert_exporter": "python",
   "pygments_lexer": "ipython3",
   "version": "3.8.5"
  }
 },
 "nbformat": 4,
 "nbformat_minor": 4
}
