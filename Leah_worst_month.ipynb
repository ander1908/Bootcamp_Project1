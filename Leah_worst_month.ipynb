{
 "cells": [
  {
   "cell_type": "code",
   "execution_count": 1,
   "metadata": {},
   "outputs": [],
   "source": [
    "import pandas as pd\n",
    "import datetime\n",
    "import matplotlib.pyplot as plt\n",
    "from scipy.stats import linregress"
   ]
  },
  {
   "cell_type": "code",
   "execution_count": 2,
   "metadata": {},
   "outputs": [],
   "source": [
    "# which month is the dirtiest?\n",
    "\n",
    "# Looking at the monthly mean e coli levels across all beaches, our results are mixed.\n",
    "# Using the culture test data set, there isn't a strong seasonal pattern. But the DNA \n",
    "# data had a nice bell curve with July as the worst month for E Coli."
   ]
  },
  {
   "cell_type": "code",
   "execution_count": 3,
   "metadata": {},
   "outputs": [],
   "source": [
    "# starts with cleaned data"
   ]
  },
  {
   "cell_type": "code",
   "execution_count": 4,
   "metadata": {},
   "outputs": [],
   "source": [
    "dna_data = pd.read_csv(\"Cleaned_Date_DNA_Data.csv\")\n",
    "culture_data = pd.read_csv(\"Cleaned_Date_culture_Data.csv\")"
   ]
  },
  {
   "cell_type": "code",
   "execution_count": 5,
   "metadata": {},
   "outputs": [
    {
     "data": {
      "text/html": [
       "<div>\n",
       "<style scoped>\n",
       "    .dataframe tbody tr th:only-of-type {\n",
       "        vertical-align: middle;\n",
       "    }\n",
       "\n",
       "    .dataframe tbody tr th {\n",
       "        vertical-align: top;\n",
       "    }\n",
       "\n",
       "    .dataframe thead th {\n",
       "        text-align: right;\n",
       "    }\n",
       "</style>\n",
       "<table border=\"1\" class=\"dataframe\">\n",
       "  <thead>\n",
       "    <tr style=\"text-align: right;\">\n",
       "      <th></th>\n",
       "      <th>Unnamed: 0</th>\n",
       "      <th>Culture Test ID</th>\n",
       "      <th>Culture Sample 1 Timestamp</th>\n",
       "      <th>Beach</th>\n",
       "      <th>Culture Sample 1 Reading</th>\n",
       "      <th>Culture Sample 2 Reading</th>\n",
       "      <th>Culture Reading Mean</th>\n",
       "      <th>Latitude</th>\n",
       "      <th>Longitude</th>\n",
       "      <th>Sample Date</th>\n",
       "      <th>Sample Time</th>\n",
       "    </tr>\n",
       "  </thead>\n",
       "  <tbody>\n",
       "    <tr>\n",
       "      <th>0</th>\n",
       "      <td>2231</td>\n",
       "      <td>113666.0</td>\n",
       "      <td>2016-08-04 08:30:00</td>\n",
       "      <td>Humboldt</td>\n",
       "      <td>1.0</td>\n",
       "      <td>1.0</td>\n",
       "      <td>1.0</td>\n",
       "      <td>41.90643</td>\n",
       "      <td>-87.703717</td>\n",
       "      <td>2016-08-04</td>\n",
       "      <td>08:30:00</td>\n",
       "    </tr>\n",
       "    <tr>\n",
       "      <th>1</th>\n",
       "      <td>2374</td>\n",
       "      <td>112689.0</td>\n",
       "      <td>2016-06-01 07:15:00</td>\n",
       "      <td>Calumet</td>\n",
       "      <td>629.0</td>\n",
       "      <td>1300.0</td>\n",
       "      <td>904.3</td>\n",
       "      <td>41.71420</td>\n",
       "      <td>-87.529900</td>\n",
       "      <td>2016-06-01</td>\n",
       "      <td>07:15:00</td>\n",
       "    </tr>\n",
       "    <tr>\n",
       "      <th>2</th>\n",
       "      <td>2375</td>\n",
       "      <td>112669.0</td>\n",
       "      <td>2016-06-01 08:00:00</td>\n",
       "      <td>Calumet</td>\n",
       "      <td>345.0</td>\n",
       "      <td>517.0</td>\n",
       "      <td>422.3</td>\n",
       "      <td>41.71420</td>\n",
       "      <td>-87.529900</td>\n",
       "      <td>2016-06-01</td>\n",
       "      <td>08:00:00</td>\n",
       "    </tr>\n",
       "    <tr>\n",
       "      <th>3</th>\n",
       "      <td>4980</td>\n",
       "      <td>109008.0</td>\n",
       "      <td>2013-05-26 00:00:00</td>\n",
       "      <td>57th Street</td>\n",
       "      <td>17.0</td>\n",
       "      <td>20.0</td>\n",
       "      <td>18.4</td>\n",
       "      <td>41.79110</td>\n",
       "      <td>-87.579700</td>\n",
       "      <td>2013-05-26</td>\n",
       "      <td>00:00:00</td>\n",
       "    </tr>\n",
       "    <tr>\n",
       "      <th>4</th>\n",
       "      <td>4983</td>\n",
       "      <td>93134.0</td>\n",
       "      <td>2015-07-07 00:00:00</td>\n",
       "      <td>Leone</td>\n",
       "      <td>727.0</td>\n",
       "      <td>727.0</td>\n",
       "      <td>727.0</td>\n",
       "      <td>42.01310</td>\n",
       "      <td>-87.663500</td>\n",
       "      <td>2015-07-07</td>\n",
       "      <td>00:00:00</td>\n",
       "    </tr>\n",
       "  </tbody>\n",
       "</table>\n",
       "</div>"
      ],
      "text/plain": [
       "   Unnamed: 0  Culture Test ID Culture Sample 1 Timestamp        Beach  \\\n",
       "0        2231         113666.0        2016-08-04 08:30:00     Humboldt   \n",
       "1        2374         112689.0        2016-06-01 07:15:00      Calumet   \n",
       "2        2375         112669.0        2016-06-01 08:00:00      Calumet   \n",
       "3        4980         109008.0        2013-05-26 00:00:00  57th Street   \n",
       "4        4983          93134.0        2015-07-07 00:00:00        Leone   \n",
       "\n",
       "   Culture Sample 1 Reading  Culture Sample 2 Reading  Culture Reading Mean  \\\n",
       "0                       1.0                       1.0                   1.0   \n",
       "1                     629.0                    1300.0                 904.3   \n",
       "2                     345.0                     517.0                 422.3   \n",
       "3                      17.0                      20.0                  18.4   \n",
       "4                     727.0                     727.0                 727.0   \n",
       "\n",
       "   Latitude  Longitude Sample Date Sample Time  \n",
       "0  41.90643 -87.703717  2016-08-04    08:30:00  \n",
       "1  41.71420 -87.529900  2016-06-01    07:15:00  \n",
       "2  41.71420 -87.529900  2016-06-01    08:00:00  \n",
       "3  41.79110 -87.579700  2013-05-26    00:00:00  \n",
       "4  42.01310 -87.663500  2015-07-07    00:00:00  "
      ]
     },
     "execution_count": 5,
     "metadata": {},
     "output_type": "execute_result"
    }
   ],
   "source": [
    "culture_data.head()"
   ]
  },
  {
   "cell_type": "code",
   "execution_count": 6,
   "metadata": {},
   "outputs": [],
   "source": [
    "test = \"2016-08-04\"\n",
    "\n",
    "formatted = datetime.datetime.strptime(test, \"%Y-%m-%d\")"
   ]
  },
  {
   "cell_type": "code",
   "execution_count": 7,
   "metadata": {},
   "outputs": [
    {
     "data": {
      "text/plain": [
       "8"
      ]
     },
     "execution_count": 7,
     "metadata": {},
     "output_type": "execute_result"
    }
   ],
   "source": [
    "formatted.month"
   ]
  },
  {
   "cell_type": "code",
   "execution_count": 8,
   "metadata": {},
   "outputs": [],
   "source": [
    "# pulling the month into its own column"
   ]
  },
  {
   "cell_type": "code",
   "execution_count": 9,
   "metadata": {},
   "outputs": [],
   "source": [
    "dna_data[\"Sample Month\"] = \"\"\n",
    "\n",
    "for index, row in dna_data.iterrows():\n",
    "    \n",
    "    date = row[\"Sample Date\"]\n",
    "    \n",
    "    formatted = datetime.datetime.strptime(date, \"%Y-%m-%d\")\n",
    "    \n",
    "    dna_data.loc[index, \"Sample Month\"] = formatted.month\n",
    "    \n",
    "# using striptime: https://stackoverflow.com/questions/26105804/extract-month-from-date-in-python/26105888\n"
   ]
  },
  {
   "cell_type": "code",
   "execution_count": 10,
   "metadata": {},
   "outputs": [],
   "source": [
    "culture_data[\"Sample Month\"] = \"\"\n",
    "\n",
    "for index, row in culture_data.iterrows():\n",
    "    \n",
    "    date = row[\"Sample Date\"]\n",
    "    \n",
    "    formatted = datetime.datetime.strptime(date, \"%Y-%m-%d\")\n",
    "    \n",
    "    culture_data.loc[index, \"Sample Month\"] = formatted.month"
   ]
  },
  {
   "cell_type": "code",
   "execution_count": 11,
   "metadata": {},
   "outputs": [
    {
     "data": {
      "text/html": [
       "<div>\n",
       "<style scoped>\n",
       "    .dataframe tbody tr th:only-of-type {\n",
       "        vertical-align: middle;\n",
       "    }\n",
       "\n",
       "    .dataframe tbody tr th {\n",
       "        vertical-align: top;\n",
       "    }\n",
       "\n",
       "    .dataframe thead th {\n",
       "        text-align: right;\n",
       "    }\n",
       "</style>\n",
       "<table border=\"1\" class=\"dataframe\">\n",
       "  <thead>\n",
       "    <tr style=\"text-align: right;\">\n",
       "      <th></th>\n",
       "      <th>Unnamed: 0</th>\n",
       "      <th>Culture Test ID</th>\n",
       "      <th>Culture Sample 1 Timestamp</th>\n",
       "      <th>Beach</th>\n",
       "      <th>Culture Sample 1 Reading</th>\n",
       "      <th>Culture Sample 2 Reading</th>\n",
       "      <th>Culture Reading Mean</th>\n",
       "      <th>Latitude</th>\n",
       "      <th>Longitude</th>\n",
       "      <th>Sample Date</th>\n",
       "      <th>Sample Time</th>\n",
       "      <th>Sample Month</th>\n",
       "    </tr>\n",
       "  </thead>\n",
       "  <tbody>\n",
       "    <tr>\n",
       "      <th>0</th>\n",
       "      <td>2231</td>\n",
       "      <td>113666.0</td>\n",
       "      <td>2016-08-04 08:30:00</td>\n",
       "      <td>Humboldt</td>\n",
       "      <td>1.0</td>\n",
       "      <td>1.0</td>\n",
       "      <td>1.0</td>\n",
       "      <td>41.90643</td>\n",
       "      <td>-87.703717</td>\n",
       "      <td>2016-08-04</td>\n",
       "      <td>08:30:00</td>\n",
       "      <td>8</td>\n",
       "    </tr>\n",
       "    <tr>\n",
       "      <th>1</th>\n",
       "      <td>2374</td>\n",
       "      <td>112689.0</td>\n",
       "      <td>2016-06-01 07:15:00</td>\n",
       "      <td>Calumet</td>\n",
       "      <td>629.0</td>\n",
       "      <td>1300.0</td>\n",
       "      <td>904.3</td>\n",
       "      <td>41.71420</td>\n",
       "      <td>-87.529900</td>\n",
       "      <td>2016-06-01</td>\n",
       "      <td>07:15:00</td>\n",
       "      <td>6</td>\n",
       "    </tr>\n",
       "    <tr>\n",
       "      <th>2</th>\n",
       "      <td>2375</td>\n",
       "      <td>112669.0</td>\n",
       "      <td>2016-06-01 08:00:00</td>\n",
       "      <td>Calumet</td>\n",
       "      <td>345.0</td>\n",
       "      <td>517.0</td>\n",
       "      <td>422.3</td>\n",
       "      <td>41.71420</td>\n",
       "      <td>-87.529900</td>\n",
       "      <td>2016-06-01</td>\n",
       "      <td>08:00:00</td>\n",
       "      <td>6</td>\n",
       "    </tr>\n",
       "    <tr>\n",
       "      <th>3</th>\n",
       "      <td>4980</td>\n",
       "      <td>109008.0</td>\n",
       "      <td>2013-05-26 00:00:00</td>\n",
       "      <td>57th Street</td>\n",
       "      <td>17.0</td>\n",
       "      <td>20.0</td>\n",
       "      <td>18.4</td>\n",
       "      <td>41.79110</td>\n",
       "      <td>-87.579700</td>\n",
       "      <td>2013-05-26</td>\n",
       "      <td>00:00:00</td>\n",
       "      <td>5</td>\n",
       "    </tr>\n",
       "    <tr>\n",
       "      <th>4</th>\n",
       "      <td>4983</td>\n",
       "      <td>93134.0</td>\n",
       "      <td>2015-07-07 00:00:00</td>\n",
       "      <td>Leone</td>\n",
       "      <td>727.0</td>\n",
       "      <td>727.0</td>\n",
       "      <td>727.0</td>\n",
       "      <td>42.01310</td>\n",
       "      <td>-87.663500</td>\n",
       "      <td>2015-07-07</td>\n",
       "      <td>00:00:00</td>\n",
       "      <td>7</td>\n",
       "    </tr>\n",
       "  </tbody>\n",
       "</table>\n",
       "</div>"
      ],
      "text/plain": [
       "   Unnamed: 0  Culture Test ID Culture Sample 1 Timestamp        Beach  \\\n",
       "0        2231         113666.0        2016-08-04 08:30:00     Humboldt   \n",
       "1        2374         112689.0        2016-06-01 07:15:00      Calumet   \n",
       "2        2375         112669.0        2016-06-01 08:00:00      Calumet   \n",
       "3        4980         109008.0        2013-05-26 00:00:00  57th Street   \n",
       "4        4983          93134.0        2015-07-07 00:00:00        Leone   \n",
       "\n",
       "   Culture Sample 1 Reading  Culture Sample 2 Reading  Culture Reading Mean  \\\n",
       "0                       1.0                       1.0                   1.0   \n",
       "1                     629.0                    1300.0                 904.3   \n",
       "2                     345.0                     517.0                 422.3   \n",
       "3                      17.0                      20.0                  18.4   \n",
       "4                     727.0                     727.0                 727.0   \n",
       "\n",
       "   Latitude  Longitude Sample Date Sample Time Sample Month  \n",
       "0  41.90643 -87.703717  2016-08-04    08:30:00            8  \n",
       "1  41.71420 -87.529900  2016-06-01    07:15:00            6  \n",
       "2  41.71420 -87.529900  2016-06-01    08:00:00            6  \n",
       "3  41.79110 -87.579700  2013-05-26    00:00:00            5  \n",
       "4  42.01310 -87.663500  2015-07-07    00:00:00            7  "
      ]
     },
     "execution_count": 11,
     "metadata": {},
     "output_type": "execute_result"
    }
   ],
   "source": [
    "culture_data.head()"
   ]
  },
  {
   "cell_type": "code",
   "execution_count": 12,
   "metadata": {},
   "outputs": [],
   "source": [
    "#finding the monthly mean across all beaches and plotting"
   ]
  },
  {
   "cell_type": "code",
   "execution_count": 13,
   "metadata": {},
   "outputs": [],
   "source": [
    "dna_by_month = dna_data.groupby(\"Sample Month\")\n",
    "culture_by_month = culture_data.groupby(\"Sample Month\")"
   ]
  },
  {
   "cell_type": "code",
   "execution_count": 14,
   "metadata": {},
   "outputs": [
    {
     "data": {
      "text/plain": [
       "Sample Month\n",
       "5    294.675561\n",
       "6    491.519486\n",
       "7    627.044898\n",
       "8    606.399228\n",
       "9    441.428708\n",
       "Name: DNA Reading Mean, dtype: float64"
      ]
     },
     "execution_count": 14,
     "metadata": {},
     "output_type": "execute_result"
    }
   ],
   "source": [
    "dna_y_axis = dna_by_month[\"DNA Reading Mean\"].mean()\n",
    "dna_y_axis"
   ]
  },
  {
   "cell_type": "code",
   "execution_count": 15,
   "metadata": {},
   "outputs": [],
   "source": [
    "x_axis = [\"May\", \"June\", \"July\", \"August\", \"September\"]"
   ]
  },
  {
   "cell_type": "code",
   "execution_count": 16,
   "metadata": {},
   "outputs": [
    {
     "data": {
      "image/png": "[encoded data removed]",
      "text/plain": [
       "<Figure size 432x288 with 1 Axes>"
      ]
     },
     "metadata": {
      "needs_background": "light"
     },
     "output_type": "display_data"
    }
   ],
   "source": [
    "plt.bar(x_axis, dna_y_axis)\n",
    "\n",
    "plt.title(\"Which month has the most e coli? (DNA test)\")\n",
    "plt.xlabel(\"Month\")\n",
    "plt.ylabel(\"Average e coli level (CCE)\")\n",
    "\n",
    "plt.savefig(\"output/DNA_monthly_mean.png\")\n",
    "\n",
    "plt.show()"
   ]
  },
  {
   "cell_type": "code",
   "execution_count": 17,
   "metadata": {},
   "outputs": [
    {
     "data": {
      "text/plain": [
       "Sample Month\n",
       "5     162.750043\n",
       "6     131.254973\n",
       "7     163.658208\n",
       "8     160.541246\n",
       "9     147.932780\n",
       "10      1.000000\n",
       "Name: Culture Reading Mean, dtype: float64"
      ]
     },
     "execution_count": 17,
     "metadata": {},
     "output_type": "execute_result"
    }
   ],
   "source": [
    "culture_y_axis = culture_by_month[\"Culture Reading Mean\"].mean()\n",
    "culture_y_axis"
   ]
  },
  {
   "cell_type": "code",
   "execution_count": 18,
   "metadata": {},
   "outputs": [],
   "source": [
    "#dropping october because there's so little data\n",
    "culture_y_axis=culture_y_axis.drop(labels=10)"
   ]
  },
  {
   "cell_type": "code",
   "execution_count": 19,
   "metadata": {},
   "outputs": [],
   "source": [
    "x_axis = [\"May\", \"June\", \"July\", \"August\", \"September\"]"
   ]
  },
  {
   "cell_type": "code",
   "execution_count": 20,
   "metadata": {},
   "outputs": [
    {
     "data": {
      "image/png": "[encoded data removed]",
      "text/plain": [
       "<Figure size 432x288 with 1 Axes>"
      ]
     },
     "metadata": {
      "needs_background": "light"
     },
     "output_type": "display_data"
    }
   ],
   "source": [
    "plt.bar(x_axis, culture_y_axis)\n",
    "\n",
    "\n",
    "plt.title(\"Which month has the most e coli? (Culture test)\")\n",
    "plt.xlabel(\"Month\")\n",
    "plt.ylabel(\"Average e coli level (CFU/100ml)\")\n",
    "\n",
    "plt.savefig(\"output/Culture_monthly_mean.png\")\n",
    "\n",
    "plt.show()"
   ]
  },
  {
   "cell_type": "code",
   "execution_count": 21,
   "metadata": {},
   "outputs": [],
   "source": [
    "# looking at daily data but the plot wasn't that great"
   ]
  },
  {
   "cell_type": "code",
   "execution_count": 22,
   "metadata": {},
   "outputs": [],
   "source": [
    "dna_by_date = dna_data.groupby(\"Sample Date\")\n",
    "culture_by_date = culture_data.groupby(\"Sample Date\")\n"
   ]
  },
  {
   "cell_type": "code",
   "execution_count": 23,
   "metadata": {},
   "outputs": [],
   "source": [
    "daily_dna_means = dna_by_date[\"DNA Reading Mean\"].mean()\n",
    "daily_culture_means = culture_by_date[\"Culture Reading Mean\"].mean()"
   ]
  },
  {
   "cell_type": "code",
   "execution_count": 24,
   "metadata": {},
   "outputs": [
    {
     "data": {
      "text/plain": [
       "433"
      ]
     },
     "execution_count": 24,
     "metadata": {},
     "output_type": "execute_result"
    }
   ],
   "source": [
    "len(daily_dna_means)"
   ]
  },
  {
   "cell_type": "code",
   "execution_count": 25,
   "metadata": {},
   "outputs": [],
   "source": [
    "dates = dna_data[\"Sample Date\"].unique()"
   ]
  },
  {
   "cell_type": "code",
   "execution_count": 26,
   "metadata": {},
   "outputs": [
    {
     "data": {
      "text/plain": [
       "433"
      ]
     },
     "execution_count": 26,
     "metadata": {},
     "output_type": "execute_result"
    }
   ],
   "source": [
    "len(dates)"
   ]
  },
  {
   "cell_type": "code",
   "execution_count": 27,
   "metadata": {},
   "outputs": [
    {
     "data": {
      "text/plain": [
       "array(['2015-05-26', '2015-05-27', '2015-05-28', '2015-06-01',\n",
       "       '2015-06-02', '2015-06-03', '2015-06-04', '2015-06-09',\n",
       "       '2015-06-10', '2015-06-11', '2015-06-12', '2015-06-16',\n",
       "       '2015-06-17', '2015-06-18', '2015-06-19', '2015-06-23',\n",
       "       '2015-06-24', '2015-06-25', '2015-06-26', '2015-06-30',\n",
       "       '2015-07-01', '2015-07-02', '2015-07-07', '2015-07-08',\n",
       "       '2015-07-09', '2015-07-10', '2015-07-14', '2015-07-15',\n",
       "       '2015-07-16', '2015-07-17', '2015-07-21', '2015-07-22',\n",
       "       '2015-07-23', '2015-07-24', '2015-07-28', '2015-07-29',\n",
       "       '2015-07-30', '2015-07-31', '2015-08-04', '2015-08-05',\n",
       "       '2015-08-06', '2015-08-07', '2015-08-11', '2015-08-12',\n",
       "       '2015-08-13', '2015-08-14', '2015-08-18', '2015-08-19',\n",
       "       '2015-08-20', '2015-08-21', '2015-08-25', '2015-08-26',\n",
       "       '2015-08-27', '2015-08-28', '2016-05-26', '2016-06-01',\n",
       "       '2016-06-02', '2016-06-03', '2016-06-04', '2016-06-05',\n",
       "       '2016-06-08', '2016-06-09', '2016-06-10', '2016-06-11',\n",
       "       '2016-06-12', '2016-06-15', '2016-06-16', '2016-06-17',\n",
       "       '2016-06-18', '2016-06-19', '2016-06-22', '2016-06-23',\n",
       "       '2016-06-24', '2016-06-25', '2016-06-26', '2016-06-29',\n",
       "       '2016-06-30', '2016-07-01', '2016-07-02', '2016-07-03',\n",
       "       '2016-07-06', '2016-07-07', '2016-07-08', '2016-07-09',\n",
       "       '2016-07-10', '2016-07-13', '2016-07-14', '2016-07-15',\n",
       "       '2016-07-16', '2016-07-17', '2016-07-20', '2016-07-21',\n",
       "       '2016-07-22', '2016-07-23', '2016-07-24', '2016-07-27',\n",
       "       '2016-07-28', '2016-07-29', '2016-07-30', '2016-07-31',\n",
       "       '2016-08-03', '2016-08-04', '2016-08-05', '2016-08-06',\n",
       "       '2016-08-07', '2016-08-10', '2016-08-11', '2016-08-12',\n",
       "       '2016-08-14', '2016-08-17', '2016-08-18', '2016-08-19',\n",
       "       '2016-08-20', '2016-08-21', '2016-08-24', '2016-08-25',\n",
       "       '2016-08-26', '2016-08-27', '2016-08-28', '2016-08-31',\n",
       "       '2016-09-01', '2016-09-02', '2016-09-03', '2016-09-04',\n",
       "       '2017-05-26', '2017-05-27', '2017-05-28', '2017-05-29',\n",
       "       '2017-05-30', '2017-05-31', '2017-06-01', '2017-06-02',\n",
       "       '2017-06-03', '2017-06-04', '2017-06-05', '2017-06-06',\n",
       "       '2017-06-07', '2017-06-08', '2017-06-09', '2017-06-10',\n",
       "       '2017-06-11', '2017-06-12', '2017-06-13', '2017-06-14',\n",
       "       '2017-06-15', '2017-06-16', '2017-06-17', '2017-06-18',\n",
       "       '2017-06-19', '2017-06-20', '2017-06-21', '2017-06-22',\n",
       "       '2017-06-23', '2017-06-24', '2017-06-25', '2017-06-26',\n",
       "       '2017-06-27', '2017-06-28', '2017-06-29', '2017-06-30',\n",
       "       '2017-07-01', '2017-07-02', '2017-07-03', '2017-07-04',\n",
       "       '2017-07-05', '2017-07-06', '2017-07-07', '2017-07-08',\n",
       "       '2017-07-09', '2017-07-10', '2017-07-11', '2017-07-12',\n",
       "       '2017-07-13', '2017-07-14', '2017-07-15', '2017-07-16',\n",
       "       '2017-07-17', '2017-07-18', '2017-07-19', '2017-07-20',\n",
       "       '2017-07-21', '2017-07-22', '2017-07-23', '2017-07-24',\n",
       "       '2017-07-25', '2017-07-26', '2017-07-27', '2017-07-28',\n",
       "       '2017-07-29', '2017-07-30', '2017-07-31', '2017-08-01',\n",
       "       '2017-08-02', '2017-08-03', '2017-08-04', '2017-08-05',\n",
       "       '2017-08-06', '2017-08-07', '2017-08-08', '2017-08-09',\n",
       "       '2017-08-10', '2017-08-11', '2017-08-12', '2017-08-13',\n",
       "       '2017-08-14', '2017-08-15', '2017-08-16', '2017-08-17',\n",
       "       '2017-08-18', '2017-08-19', '2017-08-20', '2017-08-21',\n",
       "       '2017-08-22', '2017-08-23', '2017-08-24', '2017-08-25',\n",
       "       '2017-08-26', '2017-08-27', '2017-08-28', '2017-08-29',\n",
       "       '2017-08-30', '2017-08-31', '2017-09-01', '2017-09-02',\n",
       "       '2017-09-03', '2017-09-04', '2018-05-25', '2018-05-26',\n",
       "       '2018-05-27', '2018-05-28', '2018-05-29', '2018-05-30',\n",
       "       '2018-05-31', '2018-06-01', '2018-06-02', '2018-06-03',\n",
       "       '2018-06-04', '2018-06-05', '2018-06-06', '2018-06-07',\n",
       "       '2018-06-08', '2018-06-09', '2018-06-10', '2018-06-11',\n",
       "       '2018-06-12', '2018-06-13', '2018-06-14', '2018-06-15',\n",
       "       '2018-06-16', '2018-06-17', '2018-06-18', '2018-06-19',\n",
       "       '2018-06-20', '2018-06-21', '2018-06-22', '2018-06-23',\n",
       "       '2018-06-24', '2018-06-25', '2018-06-26', '2018-06-27',\n",
       "       '2018-06-28', '2018-06-29', '2018-06-30', '2018-07-01',\n",
       "       '2018-07-02', '2018-07-03', '2018-07-04', '2018-07-05',\n",
       "       '2018-07-06', '2018-07-07', '2018-07-08', '2018-07-09',\n",
       "       '2018-07-10', '2018-07-11', '2018-07-12', '2018-07-13',\n",
       "       '2018-07-14', '2018-07-15', '2018-07-16', '2018-07-17',\n",
       "       '2018-07-18', '2018-07-19', '2018-07-20', '2018-07-21',\n",
       "       '2018-07-22', '2018-07-23', '2018-07-24', '2018-07-25',\n",
       "       '2018-07-26', '2018-07-27', '2018-07-28', '2018-07-29',\n",
       "       '2018-07-30', '2018-07-31', '2018-08-01', '2018-08-02',\n",
       "       '2018-08-03', '2018-08-04', '2018-08-05', '2018-08-06',\n",
       "       '2018-08-07', '2018-08-08', '2018-08-09', '2018-08-10',\n",
       "       '2018-08-11', '2018-08-12', '2018-08-13', '2018-08-14',\n",
       "       '2018-08-15', '2018-08-16', '2018-08-17', '2018-08-18',\n",
       "       '2018-08-19', '2018-08-20', '2018-08-21', '2018-08-22',\n",
       "       '2018-08-23', '2018-08-24', '2018-08-25', '2018-08-26',\n",
       "       '2018-08-27', '2018-08-28', '2018-08-29', '2018-08-30',\n",
       "       '2018-08-31', '2018-09-01', '2018-09-02', '2018-09-03',\n",
       "       '2019-05-24', '2019-05-25', '2019-05-26', '2019-05-27',\n",
       "       '2019-05-28', '2019-05-29', '2019-05-30', '2019-05-31',\n",
       "       '2019-06-01', '2019-06-02', '2019-06-03', '2019-06-04',\n",
       "       '2019-06-05', '2019-06-06', '2019-06-07', '2019-06-08',\n",
       "       '2019-06-09', '2019-06-10', '2019-06-11', '2019-06-12',\n",
       "       '2019-06-13', '2019-06-14', '2019-06-15', '2019-06-16',\n",
       "       '2019-06-17', '2019-06-18', '2019-06-19', '2019-06-20',\n",
       "       '2019-06-21', '2019-06-22', '2019-06-23', '2019-06-24',\n",
       "       '2019-06-25', '2019-06-26', '2019-06-27', '2019-06-28',\n",
       "       '2019-06-29', '2019-06-30', '2019-07-01', '2019-07-02',\n",
       "       '2019-07-03', '2019-07-04', '2019-07-05', '2019-07-06',\n",
       "       '2019-07-07', '2019-07-08', '2019-07-09', '2019-07-10',\n",
       "       '2019-07-11', '2019-07-12', '2019-07-13', '2019-07-14',\n",
       "       '2019-07-15', '2019-07-16', '2019-07-17', '2019-07-18',\n",
       "       '2019-07-19', '2019-07-20', '2019-07-21', '2019-07-22',\n",
       "       '2019-07-23', '2019-07-24', '2019-07-25', '2019-07-26',\n",
       "       '2019-07-27', '2019-07-28', '2019-07-29', '2019-07-30',\n",
       "       '2019-07-31', '2019-08-01', '2019-08-02', '2019-08-03',\n",
       "       '2019-08-04', '2019-08-05', '2019-08-06', '2019-08-07',\n",
       "       '2019-08-08', '2019-08-09', '2019-08-10', '2019-08-11',\n",
       "       '2019-08-12', '2019-08-13', '2019-08-14', '2019-08-15',\n",
       "       '2019-08-16', '2019-08-17', '2019-08-18', '2019-08-19',\n",
       "       '2019-08-20', '2019-08-21', '2019-08-22', '2019-08-23',\n",
       "       '2019-08-24', '2019-08-25', '2019-08-26', '2019-08-27',\n",
       "       '2019-08-28', '2019-08-29', '2019-08-30', '2019-08-31',\n",
       "       '2019-09-01', '2019-09-02', '2020-07-06', '2020-07-07',\n",
       "       '2020-07-08'], dtype=object)"
      ]
     },
     "execution_count": 27,
     "metadata": {},
     "output_type": "execute_result"
    }
   ],
   "source": [
    "dates.sort()\n",
    "dates"
   ]
  },
  {
   "cell_type": "code",
   "execution_count": 28,
   "metadata": {},
   "outputs": [
    {
     "data": {
      "image/png": "[encoded data removed]",
      "text/plain": [
       "<Figure size 432x288 with 1 Axes>"
      ]
     },
     "metadata": {
      "needs_background": "light"
     },
     "output_type": "display_data"
    }
   ],
   "source": [
    "dna_daily_x = dates\n",
    "dna_daily_y = daily_dna_means\n",
    "\n",
    "plt.plot(dna_daily_x, dna_daily_y)\n",
    "\n",
    "\n",
    "plt.title(\"Citywide Daily E Coli Levels (DNA test)\")\n",
    "plt.xlabel(\"Date (Measurements taken May - September for each year)\")\n",
    "plt.xticks(('2015-05-26', '2016-05-26', '2017-05-26', '2018-05-25', '2019-05-24'), (\"2015\", \"2016\", \"2017\", \"2018\", \"2019\"))\n",
    "plt.ylabel(\"Average E Coli Level (CCE)\")\n",
    "\n",
    "plt.savefig(\"output/Culture_monthly_mean.png\")\n",
    "\n",
    "plt.show()"
   ]
  },
  {
   "cell_type": "code",
   "execution_count": 29,
   "metadata": {},
   "outputs": [
    {
     "data": {
      "text/plain": [
       "961"
      ]
     },
     "execution_count": 29,
     "metadata": {},
     "output_type": "execute_result"
    }
   ],
   "source": [
    "len(daily_culture_means)"
   ]
  },
  {
   "cell_type": "code",
   "execution_count": 30,
   "metadata": {},
   "outputs": [
    {
     "data": {
      "text/plain": [
       "961"
      ]
     },
     "execution_count": 30,
     "metadata": {},
     "output_type": "execute_result"
    }
   ],
   "source": [
    "culture_dates = culture_data[\"Sample Date\"].unique()\n",
    "len(culture_dates)"
   ]
  },
  {
   "cell_type": "code",
   "execution_count": 31,
   "metadata": {},
   "outputs": [
    {
     "data": {
      "text/plain": [
       "array(['2006-05-23', '2006-05-24', '2006-05-25', '2006-05-26',\n",
       "       '2006-05-30', '2006-05-31', '2006-06-01', '2006-06-02',\n",
       "       '2006-06-05', '2006-06-06', '2006-06-07', '2006-06-08',\n",
       "       '2006-06-12', '2006-06-13', '2006-06-14', '2006-06-15',\n",
       "       '2006-06-16', '2006-06-19', '2006-06-20', '2006-06-21',\n",
       "       '2006-06-22', '2006-06-23', '2006-06-25', '2006-06-26',\n",
       "       '2006-06-27', '2006-06-28', '2006-06-29', '2006-06-30',\n",
       "       '2006-07-03', '2006-07-07', '2006-07-10', '2006-07-11',\n",
       "       '2006-07-12', '2006-07-13', '2006-07-14', '2006-07-17',\n",
       "       '2006-07-18', '2006-07-19', '2006-07-20', '2006-07-21',\n",
       "       '2006-07-22', '2006-07-24', '2006-07-25', '2006-07-26',\n",
       "       '2006-07-27', '2006-07-28', '2006-07-29', '2006-07-31',\n",
       "       '2006-08-01', '2006-08-02', '2006-08-03', '2006-08-04',\n",
       "       '2006-08-07', '2006-08-08', '2006-08-09', '2006-08-10',\n",
       "       '2006-08-11', '2006-08-12', '2006-08-13', '2006-08-14',\n",
       "       '2006-08-15', '2006-08-16', '2006-08-17', '2006-08-18',\n",
       "       '2006-08-21', '2006-08-22', '2006-08-23', '2006-08-24',\n",
       "       '2006-08-25', '2006-08-28', '2006-08-29', '2006-08-30',\n",
       "       '2006-08-31', '2006-09-01', '2007-05-28', '2007-05-29',\n",
       "       '2007-05-30', '2007-05-31', '2007-06-01', '2007-06-02',\n",
       "       '2007-06-03', '2007-06-04', '2007-06-05', '2007-06-06',\n",
       "       '2007-06-07', '2007-06-08', '2007-06-11', '2007-06-12',\n",
       "       '2007-06-13', '2007-06-14', '2007-06-15', '2007-06-18',\n",
       "       '2007-06-19', '2007-06-20', '2007-06-21', '2007-06-22',\n",
       "       '2007-06-25', '2007-06-26', '2007-06-27', '2007-06-28',\n",
       "       '2007-06-29', '2007-07-02', '2007-07-03', '2007-07-04',\n",
       "       '2007-07-05', '2007-07-06', '2007-07-07', '2007-07-09',\n",
       "       '2007-07-10', '2007-07-11', '2007-07-12', '2007-07-13',\n",
       "       '2007-07-16', '2007-07-17', '2007-07-18', '2007-07-19',\n",
       "       '2007-07-20', '2007-07-23', '2007-07-24', '2007-07-25',\n",
       "       '2007-07-26', '2007-07-27', '2007-07-28', '2007-07-29',\n",
       "       '2007-07-30', '2007-07-31', '2007-08-01', '2007-08-02',\n",
       "       '2007-08-03', '2007-08-04', '2007-08-05', '2007-08-06',\n",
       "       '2007-08-07', '2007-08-08', '2007-08-09', '2007-08-10',\n",
       "       '2007-08-11', '2007-08-12', '2007-08-13', '2007-08-14',\n",
       "       '2007-08-15', '2007-08-16', '2007-08-17', '2007-08-18',\n",
       "       '2007-08-20', '2007-08-21', '2007-08-22', '2007-08-23',\n",
       "       '2007-08-24', '2007-08-25', '2007-08-26', '2007-08-27',\n",
       "       '2007-08-28', '2007-08-29', '2007-08-30', '2007-08-31',\n",
       "       '2007-09-01', '2008-05-27', '2008-05-28', '2008-05-29',\n",
       "       '2008-05-30', '2008-05-31', '2008-06-01', '2008-06-02',\n",
       "       '2008-06-03', '2008-06-04', '2008-06-05', '2008-06-06',\n",
       "       '2008-06-09', '2008-06-10', '2008-06-11', '2008-06-12',\n",
       "       '2008-06-13', '2008-06-14', '2008-06-16', '2008-06-17',\n",
       "       '2008-06-18', '2008-06-19', '2008-06-20', '2008-06-23',\n",
       "       '2008-06-24', '2008-06-25', '2008-06-26', '2008-06-27',\n",
       "       '2008-06-28', '2008-06-30', '2008-07-01', '2008-07-02',\n",
       "       '2008-07-03', '2008-07-04', '2008-07-05', '2008-07-07',\n",
       "       '2008-07-08', '2008-07-09', '2008-07-10', '2008-07-11',\n",
       "       '2008-07-12', '2008-07-13', '2008-07-14', '2008-07-15',\n",
       "       '2008-07-16', '2008-07-17', '2008-07-18', '2008-07-21',\n",
       "       '2008-07-22', '2008-07-23', '2008-07-24', '2008-07-25',\n",
       "       '2008-07-26', '2008-07-28', '2008-07-29', '2008-07-30',\n",
       "       '2008-07-31', '2008-08-01', '2008-08-02', '2008-08-03',\n",
       "       '2008-08-04', '2008-08-05', '2008-08-06', '2008-08-07',\n",
       "       '2008-08-08', '2008-08-09', '2008-08-11', '2008-08-12',\n",
       "       '2008-08-13', '2008-08-14', '2008-08-15', '2008-08-16',\n",
       "       '2008-08-18', '2008-08-19', '2008-08-20', '2008-08-21',\n",
       "       '2008-08-22', '2008-08-25', '2008-08-26', '2008-08-27',\n",
       "       '2008-08-28', '2008-08-29', '2009-05-11', '2009-05-19',\n",
       "       '2009-05-20', '2009-05-21', '2009-05-22', '2009-05-23',\n",
       "       '2009-05-26', '2009-05-27', '2009-05-28', '2009-05-29',\n",
       "       '2009-06-01', '2009-06-02', '2009-06-03', '2009-06-04',\n",
       "       '2009-06-05', '2009-06-08', '2009-06-09', '2009-06-10',\n",
       "       '2009-06-11', '2009-06-12', '2009-06-15', '2009-06-16',\n",
       "       '2009-06-17', '2009-06-18', '2009-06-19', '2009-06-20',\n",
       "       '2009-06-22', '2009-06-23', '2009-06-24', '2009-06-25',\n",
       "       '2009-06-26', '2009-06-27', '2009-06-28', '2009-06-29',\n",
       "       '2009-06-30', '2009-07-01', '2009-07-02', '2009-07-06',\n",
       "       '2009-07-07', '2009-07-08', '2009-07-09', '2009-07-10',\n",
       "       '2009-07-13', '2009-07-14', '2009-07-15', '2009-07-16',\n",
       "       '2009-07-17', '2009-07-18', '2009-07-20', '2009-07-21',\n",
       "       '2009-07-22', '2009-07-23', '2009-07-24', '2009-07-27',\n",
       "       '2009-07-28', '2009-07-29', '2009-07-30', '2009-07-31',\n",
       "       '2009-08-03', '2009-08-04', '2009-08-05', '2009-08-06',\n",
       "       '2009-08-07', '2009-08-08', '2009-08-10', '2009-08-11',\n",
       "       '2009-08-12', '2009-08-13', '2009-08-14', '2009-08-17',\n",
       "       '2009-08-18', '2009-08-19', '2009-08-20', '2009-08-21',\n",
       "       '2009-08-24', '2009-08-25', '2009-08-26', '2009-08-27',\n",
       "       '2009-08-28', '2009-08-31', '2009-09-01', '2009-09-02',\n",
       "       '2009-09-03', '2010-05-25', '2010-05-26', '2010-05-27',\n",
       "       '2010-05-28', '2010-06-01', '2010-06-02', '2010-06-03',\n",
       "       '2010-06-04', '2010-06-07', '2010-06-08', '2010-06-09',\n",
       "       '2010-06-10', '2010-06-11', '2010-06-14', '2010-06-15',\n",
       "       '2010-06-16', '2010-06-17', '2010-06-18', '2010-06-21',\n",
       "       '2010-06-22', '2010-06-23', '2010-06-24', '2010-06-25',\n",
       "       '2010-06-28', '2010-06-29', '2010-06-30', '2010-07-01',\n",
       "       '2010-07-02', '2010-07-06', '2010-07-07', '2010-07-08',\n",
       "       '2010-07-09', '2010-07-10', '2010-07-12', '2010-07-13',\n",
       "       '2010-07-14', '2010-07-15', '2010-07-16', '2010-07-19',\n",
       "       '2010-07-20', '2010-07-21', '2010-07-22', '2010-07-23',\n",
       "       '2010-07-26', '2010-07-27', '2010-07-28', '2010-07-29',\n",
       "       '2010-07-30', '2010-07-31', '2010-08-02', '2010-08-03',\n",
       "       '2010-08-04', '2010-08-05', '2010-08-06', '2010-08-07',\n",
       "       '2010-08-09', '2010-08-10', '2010-08-11', '2010-08-12',\n",
       "       '2010-08-13', '2010-08-16', '2010-08-17', '2010-08-18',\n",
       "       '2010-08-19', '2010-08-20', '2010-08-21', '2010-08-23',\n",
       "       '2010-08-24', '2010-08-25', '2010-08-26', '2010-08-27',\n",
       "       '2010-08-30', '2010-08-31', '2010-09-01', '2010-09-02',\n",
       "       '2010-09-03', '2011-05-23', '2011-05-26', '2011-05-27',\n",
       "       '2011-05-28', '2011-05-29', '2011-05-31', '2011-06-01',\n",
       "       '2011-06-02', '2011-06-03', '2011-06-04', '2011-06-06',\n",
       "       '2011-06-07', '2011-06-08', '2011-06-09', '2011-06-10',\n",
       "       '2011-06-11', '2011-06-13', '2011-06-14', '2011-06-15',\n",
       "       '2011-06-16', '2011-06-17', '2011-06-18', '2011-06-20',\n",
       "       '2011-06-21', '2011-06-22', '2011-06-23', '2011-06-24',\n",
       "       '2011-06-25', '2011-06-27', '2011-06-28', '2011-06-29',\n",
       "       '2011-06-30', '2011-07-01', '2011-07-02', '2011-07-05',\n",
       "       '2011-07-06', '2011-07-07', '2011-07-08', '2011-07-11',\n",
       "       '2011-07-12', '2011-07-13', '2011-07-14', '2011-07-15',\n",
       "       '2011-07-18', '2011-07-19', '2011-07-20', '2011-07-21',\n",
       "       '2011-07-22', '2011-07-23', '2011-07-24', '2011-07-25',\n",
       "       '2011-07-26', '2011-07-27', '2011-07-28', '2011-07-29',\n",
       "       '2011-07-30', '2011-08-01', '2011-08-02', '2011-08-03',\n",
       "       '2011-08-04', '2011-08-05', '2011-08-06', '2011-08-08',\n",
       "       '2011-08-09', '2011-08-10', '2011-08-11', '2011-08-12',\n",
       "       '2011-08-15', '2011-08-16', '2011-08-17', '2011-08-18',\n",
       "       '2011-08-19', '2011-08-22', '2011-08-23', '2011-08-24',\n",
       "       '2011-08-25', '2011-08-26', '2011-08-29', '2011-08-30',\n",
       "       '2011-08-31', '2011-09-01', '2011-09-02', '2012-05-22',\n",
       "       '2012-05-23', '2012-05-24', '2012-05-25', '2012-05-26',\n",
       "       '2012-05-27', '2012-05-29', '2012-05-30', '2012-05-31',\n",
       "       '2012-06-01', '2012-06-02', '2012-06-04', '2012-06-05',\n",
       "       '2012-06-06', '2012-06-07', '2012-06-08', '2012-06-11',\n",
       "       '2012-06-12', '2012-06-13', '2012-06-14', '2012-06-15',\n",
       "       '2012-06-16', '2012-06-18', '2012-06-19', '2012-06-20',\n",
       "       '2012-06-21', '2012-06-22', '2012-06-23', '2012-06-25',\n",
       "       '2012-06-26', '2012-06-27', '2012-06-28', '2012-06-29',\n",
       "       '2012-06-30', '2012-07-01', '2012-07-02', '2012-07-03',\n",
       "       '2012-07-05', '2012-07-06', '2012-07-07', '2012-07-08',\n",
       "       '2012-07-09', '2012-07-10', '2012-07-11', '2012-07-12',\n",
       "       '2012-07-13', '2012-07-14', '2012-07-16', '2012-07-17',\n",
       "       '2012-07-18', '2012-07-19', '2012-07-20', '2012-07-21',\n",
       "       '2012-07-23', '2012-07-24', '2012-07-25', '2012-07-26',\n",
       "       '2012-07-27', '2012-07-30', '2012-07-31', '2012-08-01',\n",
       "       '2012-08-02', '2012-08-03', '2012-08-06', '2012-08-07',\n",
       "       '2012-08-08', '2012-08-09', '2012-08-10', '2012-08-11',\n",
       "       '2012-08-12', '2012-08-13', '2012-08-14', '2012-08-15',\n",
       "       '2012-08-16', '2012-08-17', '2012-08-20', '2012-08-21',\n",
       "       '2012-08-22', '2012-08-23', '2012-08-24', '2012-08-27',\n",
       "       '2012-08-28', '2012-08-29', '2012-08-30', '2012-08-31',\n",
       "       '2012-09-01', '2012-09-02', '2012-09-04', '2012-09-06',\n",
       "       '2012-09-07', '2012-09-10', '2012-09-11', '2012-09-12',\n",
       "       '2012-09-13', '2013-05-21', '2013-05-22', '2013-05-23',\n",
       "       '2013-05-24', '2013-05-25', '2013-05-26', '2013-05-27',\n",
       "       '2013-05-28', '2013-05-29', '2013-05-30', '2013-05-31',\n",
       "       '2013-06-01', '2013-06-02', '2013-06-03', '2013-06-04',\n",
       "       '2013-06-05', '2013-06-06', '2013-06-07', '2013-06-10',\n",
       "       '2013-06-11', '2013-06-12', '2013-06-13', '2013-06-14',\n",
       "       '2013-06-17', '2013-06-18', '2013-06-19', '2013-06-20',\n",
       "       '2013-06-21', '2013-06-24', '2013-06-25', '2013-06-26',\n",
       "       '2013-06-27', '2013-06-28', '2013-06-29', '2013-06-30',\n",
       "       '2013-07-01', '2013-07-02', '2013-07-03', '2013-07-05',\n",
       "       '2013-07-08', '2013-07-09', '2013-07-10', '2013-07-11',\n",
       "       '2013-07-12', '2013-07-13', '2013-07-14', '2013-07-15',\n",
       "       '2013-07-16', '2013-07-17', '2013-07-18', '2013-07-19',\n",
       "       '2013-07-22', '2013-07-23', '2013-07-24', '2013-07-25',\n",
       "       '2013-07-26', '2013-07-27', '2013-07-28', '2013-07-29',\n",
       "       '2013-07-30', '2013-07-31', '2013-08-01', '2013-08-02',\n",
       "       '2013-08-03', '2013-08-04', '2013-08-05', '2013-08-06',\n",
       "       '2013-08-07', '2013-08-08', '2013-08-09', '2013-08-12',\n",
       "       '2013-08-13', '2013-08-14', '2013-08-15', '2013-08-16',\n",
       "       '2013-08-17', '2013-08-18', '2013-08-19', '2013-08-20',\n",
       "       '2013-08-21', '2013-08-22', '2013-08-23', '2013-08-24',\n",
       "       '2013-08-26', '2013-08-27', '2013-08-28', '2013-08-29',\n",
       "       '2013-08-30', '2013-08-31', '2013-09-01', '2013-09-09',\n",
       "       '2013-09-10', '2013-09-11', '2013-09-12', '2014-05-20',\n",
       "       '2014-05-21', '2014-05-22', '2014-05-23', '2014-05-24',\n",
       "       '2014-05-25', '2014-05-26', '2014-05-27', '2014-05-28',\n",
       "       '2014-05-29', '2014-05-30', '2014-05-31', '2014-06-01',\n",
       "       '2014-06-02', '2014-06-03', '2014-06-04', '2014-06-05',\n",
       "       '2014-06-06', '2014-06-07', '2014-06-09', '2014-06-10',\n",
       "       '2014-06-11', '2014-06-12', '2014-06-13', '2014-06-16',\n",
       "       '2014-06-17', '2014-06-18', '2014-06-19', '2014-06-20',\n",
       "       '2014-06-21', '2014-06-23', '2014-06-24', '2014-06-25',\n",
       "       '2014-06-26', '2014-06-27', '2014-06-28', '2014-06-30',\n",
       "       '2014-07-01', '2014-07-02', '2014-07-03', '2014-07-04',\n",
       "       '2014-07-07', '2014-07-08', '2014-07-09', '2014-07-10',\n",
       "       '2014-07-11', '2014-07-12', '2014-07-13', '2014-07-14',\n",
       "       '2014-07-15', '2014-07-16', '2014-07-17', '2014-07-18',\n",
       "       '2014-07-21', '2014-07-22', '2014-07-23', '2014-07-24',\n",
       "       '2014-07-25', '2014-07-26', '2014-07-28', '2014-07-29',\n",
       "       '2014-07-30', '2014-07-31', '2014-08-01', '2014-08-04',\n",
       "       '2014-08-05', '2014-08-06', '2014-08-07', '2014-08-08',\n",
       "       '2014-08-11', '2014-08-12', '2014-08-13', '2014-08-14',\n",
       "       '2014-08-15', '2014-08-18', '2014-08-19', '2014-08-20',\n",
       "       '2014-08-21', '2014-08-22', '2014-08-25', '2014-08-26',\n",
       "       '2014-08-27', '2014-08-28', '2014-08-29', '2014-08-30',\n",
       "       '2014-09-02', '2014-09-03', '2014-09-04', '2014-09-05',\n",
       "       '2014-09-09', '2014-09-11', '2014-09-15', '2014-09-16',\n",
       "       '2015-05-19', '2015-05-20', '2015-05-21', '2015-05-22',\n",
       "       '2015-05-23', '2015-05-26', '2015-05-27', '2015-05-28',\n",
       "       '2015-05-29', '2015-05-30', '2015-05-31', '2015-06-01',\n",
       "       '2015-06-02', '2015-06-03', '2015-06-04', '2015-06-05',\n",
       "       '2015-06-06', '2015-06-08', '2015-06-09', '2015-06-10',\n",
       "       '2015-06-11', '2015-06-12', '2015-06-13', '2015-06-15',\n",
       "       '2015-06-16', '2015-06-17', '2015-06-18', '2015-06-19',\n",
       "       '2015-06-20', '2015-06-22', '2015-06-23', '2015-06-24',\n",
       "       '2015-06-25', '2015-06-26', '2015-06-27', '2015-06-28',\n",
       "       '2015-06-29', '2015-06-30', '2015-07-01', '2015-07-02',\n",
       "       '2015-07-06', '2015-07-07', '2015-07-08', '2015-07-09',\n",
       "       '2015-07-10', '2015-07-13', '2015-07-14', '2015-07-15',\n",
       "       '2015-07-16', '2015-07-17', '2015-07-18', '2015-07-19',\n",
       "       '2015-07-20', '2015-07-21', '2015-07-22', '2015-07-23',\n",
       "       '2015-07-24', '2015-07-27', '2015-07-28', '2015-07-29',\n",
       "       '2015-07-30', '2015-07-31', '2015-08-03', '2015-08-04',\n",
       "       '2015-08-05', '2015-08-06', '2015-08-07', '2015-08-10',\n",
       "       '2015-08-11', '2015-08-12', '2015-08-13', '2015-08-14',\n",
       "       '2015-08-15', '2015-08-16', '2015-08-17', '2015-08-18',\n",
       "       '2015-08-19', '2015-08-20', '2015-08-21', '2015-08-22',\n",
       "       '2015-08-24', '2015-08-25', '2015-08-26', '2015-08-27',\n",
       "       '2015-08-28', '2015-08-29', '2015-08-30', '2015-08-31',\n",
       "       '2015-09-01', '2015-09-02', '2015-09-03', '2015-09-04',\n",
       "       '2015-09-05', '2015-09-06', '2015-09-08', '2015-09-09',\n",
       "       '2015-09-14', '2015-09-16', '2015-09-18', '2016-05-26',\n",
       "       '2016-05-27', '2016-05-28', '2016-05-31', '2016-06-01',\n",
       "       '2016-06-02', '2016-06-03', '2016-06-04', '2016-06-06',\n",
       "       '2016-06-07', '2016-06-08', '2016-06-09', '2016-06-10',\n",
       "       '2016-06-11', '2016-06-13', '2016-06-14', '2016-06-15',\n",
       "       '2016-06-16', '2016-06-17', '2016-06-18', '2016-06-20',\n",
       "       '2016-06-21', '2016-06-22', '2016-06-23', '2016-06-24',\n",
       "       '2016-06-25', '2016-06-27', '2016-06-28', '2016-06-29',\n",
       "       '2016-06-30', '2016-07-01', '2016-07-05', '2016-07-06',\n",
       "       '2016-07-07', '2016-07-08', '2016-07-09', '2016-07-10',\n",
       "       '2016-07-11', '2016-07-12', '2016-07-13', '2016-07-14',\n",
       "       '2016-07-15', '2016-07-16', '2016-07-18', '2016-07-19',\n",
       "       '2016-07-20', '2016-07-21', '2016-07-22', '2016-07-24',\n",
       "       '2016-07-25', '2016-07-26', '2016-07-27', '2016-07-28',\n",
       "       '2016-07-29', '2016-07-30', '2016-07-31', '2016-08-01',\n",
       "       '2016-08-02', '2016-08-03', '2016-08-04', '2016-08-05',\n",
       "       '2016-08-06', '2016-08-08', '2016-08-09', '2016-08-10',\n",
       "       '2016-08-11', '2016-08-12', '2016-08-13', '2016-08-15',\n",
       "       '2016-08-16', '2016-08-17', '2016-08-18', '2016-08-19',\n",
       "       '2016-08-20', '2016-08-22', '2016-08-23', '2016-08-24',\n",
       "       '2016-08-26', '2016-08-28', '2016-08-29', '2016-08-30',\n",
       "       '2016-08-31', '2016-09-01', '2016-09-02', '2016-09-06',\n",
       "       '2016-09-07', '2016-09-08', '2016-09-09', '2016-09-12',\n",
       "       '2016-09-15', '2016-09-16', '2016-09-17', '2016-09-18',\n",
       "       '2016-09-20', '2016-09-21', '2016-09-22', '2016-09-24',\n",
       "       '2016-09-25', '2016-09-28', '2016-09-29', '2016-09-30',\n",
       "       '2016-10-01'], dtype=object)"
      ]
     },
     "execution_count": 31,
     "metadata": {},
     "output_type": "execute_result"
    }
   ],
   "source": [
    "culture_dates.sort()\n",
    "culture_dates"
   ]
  },
  {
   "cell_type": "code",
   "execution_count": 32,
   "metadata": {},
   "outputs": [
    {
     "data": {
      "image/png": "[encoded data removed]",
      "text/plain": [
       "<Figure size 864x432 with 1 Axes>"
      ]
     },
     "metadata": {
      "needs_background": "light"
     },
     "output_type": "display_data"
    }
   ],
   "source": [
    "plt.figure(figsize=(12,6))\n",
    "\n",
    "plt.plot(culture_dates, daily_culture_means)\n",
    "\n",
    "plt.title(\"Citywide Daily E Coli Levels (Culture test)\")\n",
    "plt.xlabel(\"Date (Measurements taken May - September for each year)\")\n",
    "plt.xticks(('2006-05-23', '2007-05-28', '2008-05-27', '2009-05-11', '2010-05-25', '2011-05-23', \n",
    "            '2012-05-22', '2013-05-21', '2014-05-20', '2015-05-19', '2016-05-26'), \n",
    "           (\"2006\", \"2007\", \"2008\", \"2009\", \"2010\", \"2011\", \"2012\", \"2013\", \"2014\", \"2015\", \"2016\"))\n",
    "plt.ylabel(\"Average E Coli Level (CFU/100ml)\")\n",
    "\n",
    "\n",
    "plt.savefig(\"output/Culture_monthly_mean.png\")\n",
    "\n",
    "plt.show()"
   ]
  },
  {
   "cell_type": "code",
   "execution_count": 33,
   "metadata": {},
   "outputs": [],
   "source": [
    "#tidying the daily means and exporting as .csv"
   ]
  },
  {
   "cell_type": "code",
   "execution_count": 34,
   "metadata": {},
   "outputs": [],
   "source": [
    "daily_dna_means = daily_dna_means.to_frame()\n",
    "daily_culture_means = daily_culture_means.to_frame()"
   ]
  },
  {
   "cell_type": "code",
   "execution_count": 35,
   "metadata": {},
   "outputs": [],
   "source": [
    "daily_dna_means.reset_index(drop=False, inplace=True)\n",
    "daily_culture_means.reset_index(drop=False, inplace=True)"
   ]
  },
  {
   "cell_type": "code",
   "execution_count": 36,
   "metadata": {},
   "outputs": [],
   "source": [
    "daily_dna_means=daily_dna_means.rename(columns = {\"Sample Date\":\"Date\",\"DNA Reading Mean\":\"Citywide Mean E Coli Level\"})"
   ]
  },
  {
   "cell_type": "code",
   "execution_count": 37,
   "metadata": {},
   "outputs": [
    {
     "data": {
      "text/plain": [
       "Index(['Sample Date', 'Culture Reading Mean'], dtype='object')"
      ]
     },
     "execution_count": 37,
     "metadata": {},
     "output_type": "execute_result"
    }
   ],
   "source": [
    "daily_culture_means.columns"
   ]
  },
  {
   "cell_type": "code",
   "execution_count": 38,
   "metadata": {},
   "outputs": [],
   "source": [
    "daily_culture_means = daily_culture_means.rename(columns = {\"Sample Date\":\"Date\",\"Culture Reading Mean\":\"Citywide Mean E Coli Level\"})"
   ]
  },
  {
   "cell_type": "code",
   "execution_count": 39,
   "metadata": {},
   "outputs": [],
   "source": [
    "daily_dna_means.to_csv('DNA_daily_citywide_means.csv')\n",
    "daily_culture_means.to_csv('culture_daily_citywide_means.csv')"
   ]
  },
  {
   "cell_type": "code",
   "execution_count": 40,
   "metadata": {},
   "outputs": [],
   "source": [
    "########## looking at correlation with milwaukee #################"
   ]
  },
  {
   "cell_type": "code",
   "execution_count": 41,
   "metadata": {},
   "outputs": [],
   "source": [
    "#Is beach water affected by Milwaukee weather?\n",
    "\n",
    "# When Milwaukee gets an unusually high amount of rain, the city's combined rainwater and sewage system dumps\n",
    "# excess water into Lake Michigan. There are documented cases of this leading to increased levels of e coli and \n",
    "# other harmful substances in the area around Milwaukee: https://madison.com/ct/news/local/environment/as-rains-intensify-sewage-surges-into-wisconsin-waters/article_cc767155-3bb4-5d4e-9d68-fcaefc70bc4f.html\n",
    "# Including an outbreak of cryptosporidium in 1993 that made over 400,000 people in the Milwaukee area sick!\n",
    "\n",
    "# Our group wanted to know if Milwaukee's sewage overflows reached Chicago and increased e coli levels here. We used\n",
    "# the data from 2017 onward because we had the most complete weather and e coli data for those years, and a 14-day\n",
    "# rolling average to capture the overall raininess preceeding each measurement, and to give any sewage time to make it\n",
    "# down to Chicago. We found that Chicago's e coli levels are actually negatively correlated with rain in Milwaukee.\n",
    "# If there is an effect, it seems to be drowned out by other factors affecting our e coli levels, potentially including\n",
    "# Chicago's own sewage management. "
   ]
  },
  {
   "cell_type": "code",
   "execution_count": 42,
   "metadata": {},
   "outputs": [],
   "source": [
    "#importing Milwaukee weather data"
   ]
  },
  {
   "cell_type": "code",
   "execution_count": 43,
   "metadata": {},
   "outputs": [],
   "source": [
    "Milwaukee = pd.read_csv(\"Milwaukee_DNA_Rainfall.csv\")"
   ]
  },
  {
   "cell_type": "code",
   "execution_count": 44,
   "metadata": {},
   "outputs": [
    {
     "data": {
      "text/html": [
       "<div>\n",
       "<style scoped>\n",
       "    .dataframe tbody tr th:only-of-type {\n",
       "        vertical-align: middle;\n",
       "    }\n",
       "\n",
       "    .dataframe tbody tr th {\n",
       "        vertical-align: top;\n",
       "    }\n",
       "\n",
       "    .dataframe thead th {\n",
       "        text-align: right;\n",
       "    }\n",
       "</style>\n",
       "<table border=\"1\" class=\"dataframe\">\n",
       "  <thead>\n",
       "    <tr style=\"text-align: right;\">\n",
       "      <th></th>\n",
       "      <th>Unnamed: 0</th>\n",
       "      <th>Date</th>\n",
       "      <th>Rainfall (In)</th>\n",
       "    </tr>\n",
       "  </thead>\n",
       "  <tbody>\n",
       "    <tr>\n",
       "      <th>0</th>\n",
       "      <td>390</td>\n",
       "      <td>2015-05-26</td>\n",
       "      <td>0.0</td>\n",
       "    </tr>\n",
       "    <tr>\n",
       "      <th>1</th>\n",
       "      <td>274</td>\n",
       "      <td>2015-05-27</td>\n",
       "      <td>0.0</td>\n",
       "    </tr>\n",
       "    <tr>\n",
       "      <th>2</th>\n",
       "      <td>406</td>\n",
       "      <td>2015-05-28</td>\n",
       "      <td>0.0</td>\n",
       "    </tr>\n",
       "    <tr>\n",
       "      <th>3</th>\n",
       "      <td>200</td>\n",
       "      <td>2015-06-01</td>\n",
       "      <td>0.0</td>\n",
       "    </tr>\n",
       "    <tr>\n",
       "      <th>4</th>\n",
       "      <td>178</td>\n",
       "      <td>2015-06-02</td>\n",
       "      <td>0.0</td>\n",
       "    </tr>\n",
       "  </tbody>\n",
       "</table>\n",
       "</div>"
      ],
      "text/plain": [
       "   Unnamed: 0        Date  Rainfall (In)\n",
       "0         390  2015-05-26            0.0\n",
       "1         274  2015-05-27            0.0\n",
       "2         406  2015-05-28            0.0\n",
       "3         200  2015-06-01            0.0\n",
       "4         178  2015-06-02            0.0"
      ]
     },
     "execution_count": 44,
     "metadata": {},
     "output_type": "execute_result"
    }
   ],
   "source": [
    "Milwaukee.head()"
   ]
  },
  {
   "cell_type": "code",
   "execution_count": 45,
   "metadata": {},
   "outputs": [],
   "source": [
    "#adding the rolling average. The window parameter below sets how many days to average\n",
    "\n",
    "Milwaukee[\"Rolling avg\"] = Milwaukee.rolling(window=14, on=\"Date\")[\"Rainfall (In)\"].mean()\n",
    "\n",
    "#https://pandas.pydata.org/pandas-docs/stable/reference/api/pandas.DataFrame.rolling.html"
   ]
  },
  {
   "cell_type": "code",
   "execution_count": 46,
   "metadata": {},
   "outputs": [
    {
     "data": {
      "text/html": [
       "<div>\n",
       "<style scoped>\n",
       "    .dataframe tbody tr th:only-of-type {\n",
       "        vertical-align: middle;\n",
       "    }\n",
       "\n",
       "    .dataframe tbody tr th {\n",
       "        vertical-align: top;\n",
       "    }\n",
       "\n",
       "    .dataframe thead th {\n",
       "        text-align: right;\n",
       "    }\n",
       "</style>\n",
       "<table border=\"1\" class=\"dataframe\">\n",
       "  <thead>\n",
       "    <tr style=\"text-align: right;\">\n",
       "      <th></th>\n",
       "      <th>Unnamed: 0</th>\n",
       "      <th>Date</th>\n",
       "      <th>Rainfall (In)</th>\n",
       "      <th>Rolling avg</th>\n",
       "    </tr>\n",
       "  </thead>\n",
       "  <tbody>\n",
       "    <tr>\n",
       "      <th>0</th>\n",
       "      <td>390</td>\n",
       "      <td>2015-05-26</td>\n",
       "      <td>0.0</td>\n",
       "      <td>NaN</td>\n",
       "    </tr>\n",
       "    <tr>\n",
       "      <th>1</th>\n",
       "      <td>274</td>\n",
       "      <td>2015-05-27</td>\n",
       "      <td>0.0</td>\n",
       "      <td>NaN</td>\n",
       "    </tr>\n",
       "    <tr>\n",
       "      <th>2</th>\n",
       "      <td>406</td>\n",
       "      <td>2015-05-28</td>\n",
       "      <td>0.0</td>\n",
       "      <td>NaN</td>\n",
       "    </tr>\n",
       "    <tr>\n",
       "      <th>3</th>\n",
       "      <td>200</td>\n",
       "      <td>2015-06-01</td>\n",
       "      <td>0.0</td>\n",
       "      <td>NaN</td>\n",
       "    </tr>\n",
       "    <tr>\n",
       "      <th>4</th>\n",
       "      <td>178</td>\n",
       "      <td>2015-06-02</td>\n",
       "      <td>0.0</td>\n",
       "      <td>NaN</td>\n",
       "    </tr>\n",
       "    <tr>\n",
       "      <th>5</th>\n",
       "      <td>430</td>\n",
       "      <td>2015-06-03</td>\n",
       "      <td>0.0</td>\n",
       "      <td>NaN</td>\n",
       "    </tr>\n",
       "    <tr>\n",
       "      <th>6</th>\n",
       "      <td>392</td>\n",
       "      <td>2015-06-04</td>\n",
       "      <td>0.0</td>\n",
       "      <td>NaN</td>\n",
       "    </tr>\n",
       "    <tr>\n",
       "      <th>7</th>\n",
       "      <td>409</td>\n",
       "      <td>2015-06-09</td>\n",
       "      <td>0.0</td>\n",
       "      <td>NaN</td>\n",
       "    </tr>\n",
       "    <tr>\n",
       "      <th>8</th>\n",
       "      <td>420</td>\n",
       "      <td>2015-06-10</td>\n",
       "      <td>0.0</td>\n",
       "      <td>NaN</td>\n",
       "    </tr>\n",
       "    <tr>\n",
       "      <th>9</th>\n",
       "      <td>283</td>\n",
       "      <td>2015-06-11</td>\n",
       "      <td>0.0</td>\n",
       "      <td>NaN</td>\n",
       "    </tr>\n",
       "    <tr>\n",
       "      <th>10</th>\n",
       "      <td>179</td>\n",
       "      <td>2015-06-12</td>\n",
       "      <td>0.0</td>\n",
       "      <td>NaN</td>\n",
       "    </tr>\n",
       "    <tr>\n",
       "      <th>11</th>\n",
       "      <td>323</td>\n",
       "      <td>2015-06-16</td>\n",
       "      <td>0.0</td>\n",
       "      <td>NaN</td>\n",
       "    </tr>\n",
       "    <tr>\n",
       "      <th>12</th>\n",
       "      <td>419</td>\n",
       "      <td>2015-06-17</td>\n",
       "      <td>0.0</td>\n",
       "      <td>NaN</td>\n",
       "    </tr>\n",
       "    <tr>\n",
       "      <th>13</th>\n",
       "      <td>325</td>\n",
       "      <td>2015-06-18</td>\n",
       "      <td>0.0</td>\n",
       "      <td>0.0</td>\n",
       "    </tr>\n",
       "    <tr>\n",
       "      <th>14</th>\n",
       "      <td>378</td>\n",
       "      <td>2015-06-19</td>\n",
       "      <td>0.0</td>\n",
       "      <td>0.0</td>\n",
       "    </tr>\n",
       "    <tr>\n",
       "      <th>15</th>\n",
       "      <td>388</td>\n",
       "      <td>2015-06-23</td>\n",
       "      <td>0.0</td>\n",
       "      <td>0.0</td>\n",
       "    </tr>\n",
       "    <tr>\n",
       "      <th>16</th>\n",
       "      <td>366</td>\n",
       "      <td>2015-06-24</td>\n",
       "      <td>0.0</td>\n",
       "      <td>0.0</td>\n",
       "    </tr>\n",
       "    <tr>\n",
       "      <th>17</th>\n",
       "      <td>423</td>\n",
       "      <td>2015-06-25</td>\n",
       "      <td>0.0</td>\n",
       "      <td>0.0</td>\n",
       "    </tr>\n",
       "    <tr>\n",
       "      <th>18</th>\n",
       "      <td>428</td>\n",
       "      <td>2015-06-26</td>\n",
       "      <td>0.0</td>\n",
       "      <td>0.0</td>\n",
       "    </tr>\n",
       "    <tr>\n",
       "      <th>19</th>\n",
       "      <td>331</td>\n",
       "      <td>2015-06-30</td>\n",
       "      <td>0.0</td>\n",
       "      <td>0.0</td>\n",
       "    </tr>\n",
       "  </tbody>\n",
       "</table>\n",
       "</div>"
      ],
      "text/plain": [
       "    Unnamed: 0        Date  Rainfall (In)  Rolling avg\n",
       "0          390  2015-05-26            0.0          NaN\n",
       "1          274  2015-05-27            0.0          NaN\n",
       "2          406  2015-05-28            0.0          NaN\n",
       "3          200  2015-06-01            0.0          NaN\n",
       "4          178  2015-06-02            0.0          NaN\n",
       "5          430  2015-06-03            0.0          NaN\n",
       "6          392  2015-06-04            0.0          NaN\n",
       "7          409  2015-06-09            0.0          NaN\n",
       "8          420  2015-06-10            0.0          NaN\n",
       "9          283  2015-06-11            0.0          NaN\n",
       "10         179  2015-06-12            0.0          NaN\n",
       "11         323  2015-06-16            0.0          NaN\n",
       "12         419  2015-06-17            0.0          NaN\n",
       "13         325  2015-06-18            0.0          0.0\n",
       "14         378  2015-06-19            0.0          0.0\n",
       "15         388  2015-06-23            0.0          0.0\n",
       "16         366  2015-06-24            0.0          0.0\n",
       "17         423  2015-06-25            0.0          0.0\n",
       "18         428  2015-06-26            0.0          0.0\n",
       "19         331  2015-06-30            0.0          0.0"
      ]
     },
     "execution_count": 46,
     "metadata": {},
     "output_type": "execute_result"
    }
   ],
   "source": [
    "Milwaukee.head(20)"
   ]
  },
  {
   "cell_type": "code",
   "execution_count": 47,
   "metadata": {},
   "outputs": [
    {
     "data": {
      "text/html": [
       "<div>\n",
       "<style scoped>\n",
       "    .dataframe tbody tr th:only-of-type {\n",
       "        vertical-align: middle;\n",
       "    }\n",
       "\n",
       "    .dataframe tbody tr th {\n",
       "        vertical-align: top;\n",
       "    }\n",
       "\n",
       "    .dataframe thead th {\n",
       "        text-align: right;\n",
       "    }\n",
       "</style>\n",
       "<table border=\"1\" class=\"dataframe\">\n",
       "  <thead>\n",
       "    <tr style=\"text-align: right;\">\n",
       "      <th></th>\n",
       "      <th>Date</th>\n",
       "      <th>Citywide Mean E Coli Level</th>\n",
       "      <th>Unnamed: 0</th>\n",
       "      <th>Rainfall (In)</th>\n",
       "      <th>Rolling avg</th>\n",
       "    </tr>\n",
       "  </thead>\n",
       "  <tbody>\n",
       "    <tr>\n",
       "      <th>0</th>\n",
       "      <td>2015-05-26</td>\n",
       "      <td>147.8</td>\n",
       "      <td>390</td>\n",
       "      <td>0.0</td>\n",
       "      <td>NaN</td>\n",
       "    </tr>\n",
       "    <tr>\n",
       "      <th>1</th>\n",
       "      <td>2015-05-27</td>\n",
       "      <td>438.0</td>\n",
       "      <td>274</td>\n",
       "      <td>0.0</td>\n",
       "      <td>NaN</td>\n",
       "    </tr>\n",
       "    <tr>\n",
       "      <th>2</th>\n",
       "      <td>2015-05-28</td>\n",
       "      <td>223.4</td>\n",
       "      <td>406</td>\n",
       "      <td>0.0</td>\n",
       "      <td>NaN</td>\n",
       "    </tr>\n",
       "    <tr>\n",
       "      <th>3</th>\n",
       "      <td>2015-06-01</td>\n",
       "      <td>331.0</td>\n",
       "      <td>200</td>\n",
       "      <td>0.0</td>\n",
       "      <td>NaN</td>\n",
       "    </tr>\n",
       "    <tr>\n",
       "      <th>4</th>\n",
       "      <td>2015-06-02</td>\n",
       "      <td>157.8</td>\n",
       "      <td>178</td>\n",
       "      <td>0.0</td>\n",
       "      <td>NaN</td>\n",
       "    </tr>\n",
       "    <tr>\n",
       "      <th>5</th>\n",
       "      <td>2015-06-03</td>\n",
       "      <td>420.8</td>\n",
       "      <td>430</td>\n",
       "      <td>0.0</td>\n",
       "      <td>NaN</td>\n",
       "    </tr>\n",
       "    <tr>\n",
       "      <th>6</th>\n",
       "      <td>2015-06-04</td>\n",
       "      <td>359.6</td>\n",
       "      <td>392</td>\n",
       "      <td>0.0</td>\n",
       "      <td>NaN</td>\n",
       "    </tr>\n",
       "    <tr>\n",
       "      <th>7</th>\n",
       "      <td>2015-06-09</td>\n",
       "      <td>278.2</td>\n",
       "      <td>409</td>\n",
       "      <td>0.0</td>\n",
       "      <td>NaN</td>\n",
       "    </tr>\n",
       "    <tr>\n",
       "      <th>8</th>\n",
       "      <td>2015-06-10</td>\n",
       "      <td>318.0</td>\n",
       "      <td>420</td>\n",
       "      <td>0.0</td>\n",
       "      <td>NaN</td>\n",
       "    </tr>\n",
       "    <tr>\n",
       "      <th>9</th>\n",
       "      <td>2015-06-11</td>\n",
       "      <td>3273.0</td>\n",
       "      <td>283</td>\n",
       "      <td>0.0</td>\n",
       "      <td>NaN</td>\n",
       "    </tr>\n",
       "    <tr>\n",
       "      <th>10</th>\n",
       "      <td>2015-06-12</td>\n",
       "      <td>268.2</td>\n",
       "      <td>179</td>\n",
       "      <td>0.0</td>\n",
       "      <td>NaN</td>\n",
       "    </tr>\n",
       "    <tr>\n",
       "      <th>11</th>\n",
       "      <td>2015-06-16</td>\n",
       "      <td>298.8</td>\n",
       "      <td>323</td>\n",
       "      <td>0.0</td>\n",
       "      <td>NaN</td>\n",
       "    </tr>\n",
       "    <tr>\n",
       "      <th>12</th>\n",
       "      <td>2015-06-17</td>\n",
       "      <td>123.2</td>\n",
       "      <td>419</td>\n",
       "      <td>0.0</td>\n",
       "      <td>NaN</td>\n",
       "    </tr>\n",
       "    <tr>\n",
       "      <th>13</th>\n",
       "      <td>2015-06-18</td>\n",
       "      <td>730.0</td>\n",
       "      <td>325</td>\n",
       "      <td>0.0</td>\n",
       "      <td>0.0</td>\n",
       "    </tr>\n",
       "    <tr>\n",
       "      <th>14</th>\n",
       "      <td>2015-06-19</td>\n",
       "      <td>146.6</td>\n",
       "      <td>378</td>\n",
       "      <td>0.0</td>\n",
       "      <td>0.0</td>\n",
       "    </tr>\n",
       "    <tr>\n",
       "      <th>15</th>\n",
       "      <td>2015-06-23</td>\n",
       "      <td>171.6</td>\n",
       "      <td>388</td>\n",
       "      <td>0.0</td>\n",
       "      <td>0.0</td>\n",
       "    </tr>\n",
       "    <tr>\n",
       "      <th>16</th>\n",
       "      <td>2015-06-24</td>\n",
       "      <td>208.2</td>\n",
       "      <td>366</td>\n",
       "      <td>0.0</td>\n",
       "      <td>0.0</td>\n",
       "    </tr>\n",
       "    <tr>\n",
       "      <th>17</th>\n",
       "      <td>2015-06-25</td>\n",
       "      <td>1200.6</td>\n",
       "      <td>423</td>\n",
       "      <td>0.0</td>\n",
       "      <td>0.0</td>\n",
       "    </tr>\n",
       "    <tr>\n",
       "      <th>18</th>\n",
       "      <td>2015-06-26</td>\n",
       "      <td>304.6</td>\n",
       "      <td>428</td>\n",
       "      <td>0.0</td>\n",
       "      <td>0.0</td>\n",
       "    </tr>\n",
       "    <tr>\n",
       "      <th>19</th>\n",
       "      <td>2015-06-30</td>\n",
       "      <td>216.0</td>\n",
       "      <td>331</td>\n",
       "      <td>0.0</td>\n",
       "      <td>0.0</td>\n",
       "    </tr>\n",
       "  </tbody>\n",
       "</table>\n",
       "</div>"
      ],
      "text/plain": [
       "          Date  Citywide Mean E Coli Level  Unnamed: 0  Rainfall (In)  \\\n",
       "0   2015-05-26                       147.8         390            0.0   \n",
       "1   2015-05-27                       438.0         274            0.0   \n",
       "2   2015-05-28                       223.4         406            0.0   \n",
       "3   2015-06-01                       331.0         200            0.0   \n",
       "4   2015-06-02                       157.8         178            0.0   \n",
       "5   2015-06-03                       420.8         430            0.0   \n",
       "6   2015-06-04                       359.6         392            0.0   \n",
       "7   2015-06-09                       278.2         409            0.0   \n",
       "8   2015-06-10                       318.0         420            0.0   \n",
       "9   2015-06-11                      3273.0         283            0.0   \n",
       "10  2015-06-12                       268.2         179            0.0   \n",
       "11  2015-06-16                       298.8         323            0.0   \n",
       "12  2015-06-17                       123.2         419            0.0   \n",
       "13  2015-06-18                       730.0         325            0.0   \n",
       "14  2015-06-19                       146.6         378            0.0   \n",
       "15  2015-06-23                       171.6         388            0.0   \n",
       "16  2015-06-24                       208.2         366            0.0   \n",
       "17  2015-06-25                      1200.6         423            0.0   \n",
       "18  2015-06-26                       304.6         428            0.0   \n",
       "19  2015-06-30                       216.0         331            0.0   \n",
       "\n",
       "    Rolling avg  \n",
       "0           NaN  \n",
       "1           NaN  \n",
       "2           NaN  \n",
       "3           NaN  \n",
       "4           NaN  \n",
       "5           NaN  \n",
       "6           NaN  \n",
       "7           NaN  \n",
       "8           NaN  \n",
       "9           NaN  \n",
       "10          NaN  \n",
       "11          NaN  \n",
       "12          NaN  \n",
       "13          0.0  \n",
       "14          0.0  \n",
       "15          0.0  \n",
       "16          0.0  \n",
       "17          0.0  \n",
       "18          0.0  \n",
       "19          0.0  "
      ]
     },
     "execution_count": 47,
     "metadata": {},
     "output_type": "execute_result"
    }
   ],
   "source": [
    "#add to the e coli data\n",
    "\n",
    "comparison = daily_dna_means.merge(Milwaukee, how=\"left\", on=\"Date\")\n",
    "comparison.head(20)"
   ]
  },
  {
   "cell_type": "code",
   "execution_count": 48,
   "metadata": {},
   "outputs": [],
   "source": [
    "for index, row in comparison.iterrows():\n",
    "\n",
    "    date = row[\"Date\"]\n",
    "    \n",
    "    formatted = datetime.datetime.strptime(date, \"%Y-%m-%d\")\n",
    "    \n",
    "    comparison.loc[index, \"year\"] = formatted.year"
   ]
  },
  {
   "cell_type": "code",
   "execution_count": 49,
   "metadata": {},
   "outputs": [],
   "source": [
    "#restricted this to 2017 onward, since we had the most complete e coli and weather data for those years\n",
    "\n",
    "comparison = comparison.loc[comparison[\"year\"]>=2017,:]"
   ]
  },
  {
   "cell_type": "code",
   "execution_count": 50,
   "metadata": {},
   "outputs": [
    {
     "data": {
      "text/html": [
       "<div>\n",
       "<style scoped>\n",
       "    .dataframe tbody tr th:only-of-type {\n",
       "        vertical-align: middle;\n",
       "    }\n",
       "\n",
       "    .dataframe tbody tr th {\n",
       "        vertical-align: top;\n",
       "    }\n",
       "\n",
       "    .dataframe thead th {\n",
       "        text-align: right;\n",
       "    }\n",
       "</style>\n",
       "<table border=\"1\" class=\"dataframe\">\n",
       "  <thead>\n",
       "    <tr style=\"text-align: right;\">\n",
       "      <th></th>\n",
       "      <th>Date</th>\n",
       "      <th>Citywide Mean E Coli Level</th>\n",
       "      <th>Unnamed: 0</th>\n",
       "      <th>Rainfall (In)</th>\n",
       "      <th>Rolling avg</th>\n",
       "      <th>year</th>\n",
       "    </tr>\n",
       "  </thead>\n",
       "  <tbody>\n",
       "    <tr>\n",
       "      <th>124</th>\n",
       "      <td>2017-05-26</td>\n",
       "      <td>76.500000</td>\n",
       "      <td>290</td>\n",
       "      <td>0.0</td>\n",
       "      <td>0.0</td>\n",
       "      <td>2017.0</td>\n",
       "    </tr>\n",
       "    <tr>\n",
       "      <th>125</th>\n",
       "      <td>2017-05-27</td>\n",
       "      <td>222.893750</td>\n",
       "      <td>311</td>\n",
       "      <td>0.0</td>\n",
       "      <td>0.0</td>\n",
       "      <td>2017.0</td>\n",
       "    </tr>\n",
       "    <tr>\n",
       "      <th>126</th>\n",
       "      <td>2017-05-28</td>\n",
       "      <td>279.129412</td>\n",
       "      <td>186</td>\n",
       "      <td>0.0</td>\n",
       "      <td>0.0</td>\n",
       "      <td>2017.0</td>\n",
       "    </tr>\n",
       "    <tr>\n",
       "      <th>127</th>\n",
       "      <td>2017-05-29</td>\n",
       "      <td>365.970000</td>\n",
       "      <td>277</td>\n",
       "      <td>0.0</td>\n",
       "      <td>0.0</td>\n",
       "      <td>2017.0</td>\n",
       "    </tr>\n",
       "    <tr>\n",
       "      <th>128</th>\n",
       "      <td>2017-05-30</td>\n",
       "      <td>334.300000</td>\n",
       "      <td>380</td>\n",
       "      <td>0.0</td>\n",
       "      <td>0.0</td>\n",
       "      <td>2017.0</td>\n",
       "    </tr>\n",
       "  </tbody>\n",
       "</table>\n",
       "</div>"
      ],
      "text/plain": [
       "           Date  Citywide Mean E Coli Level  Unnamed: 0  Rainfall (In)  \\\n",
       "124  2017-05-26                   76.500000         290            0.0   \n",
       "125  2017-05-27                  222.893750         311            0.0   \n",
       "126  2017-05-28                  279.129412         186            0.0   \n",
       "127  2017-05-29                  365.970000         277            0.0   \n",
       "128  2017-05-30                  334.300000         380            0.0   \n",
       "\n",
       "     Rolling avg    year  \n",
       "124          0.0  2017.0  \n",
       "125          0.0  2017.0  \n",
       "126          0.0  2017.0  \n",
       "127          0.0  2017.0  \n",
       "128          0.0  2017.0  "
      ]
     },
     "execution_count": 50,
     "metadata": {},
     "output_type": "execute_result"
    }
   ],
   "source": [
    "comparison.head()"
   ]
  },
  {
   "cell_type": "code",
   "execution_count": 51,
   "metadata": {},
   "outputs": [],
   "source": [
    "#plotting\n",
    "mke_x = comparison[\"Citywide Mean E Coli Level\"]\n",
    "mke_y = comparison[\"Rolling avg\"]"
   ]
  },
  {
   "cell_type": "code",
   "execution_count": 52,
   "metadata": {},
   "outputs": [
    {
     "data": {
      "image/png": "[encoded data removed]",
      "text/plain": [
       "<Figure size 432x288 with 1 Axes>"
      ]
     },
     "metadata": {
      "needs_background": "light"
     },
     "output_type": "display_data"
    }
   ],
   "source": [
    "plt.scatter(mke_x, mke_y)\n",
    "plt.ylabel(\"14 Day Rolling Mean Rainfall in Milwaukee (inches)\")\n",
    "plt.xlabel(\"Chicago Citywide Mean E Coli Level (CCE)\")\n",
    "plt.title(\"Rain in Milwaukee vs. E Coli Levels in Chicago\")\n",
    "\n",
    "(slope, intercept, rvalue, pvalue, stderr) = linregress(mke_x, mke_y)\n",
    "regress_values = mke_x * slope + intercept\n",
    "line_eq = \"y = \" + str(round(slope,6)) + \"x + \" + str(round(intercept,2))\n",
    "plt.plot(mke_x,regress_values,\"r-\")\n",
    "plt.annotate(line_eq,(5000,.08),fontsize=15,color=\"red\")\n",
    "plt.annotate(f\"p = {round(pvalue,3)}\",(5000,.06),fontsize=15,color=\"red\")\n",
    "\n",
    "plt.savefig(\"output/14_Day_Rolling_Rain_v_E_Coli\")"
   ]
  },
  {
   "cell_type": "code",
   "execution_count": 53,
   "metadata": {},
   "outputs": [
    {
     "data": {
      "text/plain": [
       "0.0336760798786981"
      ]
     },
     "execution_count": 53,
     "metadata": {},
     "output_type": "execute_result"
    }
   ],
   "source": [
    "pvalue"
   ]
  },
  {
   "cell_type": "code",
   "execution_count": 54,
   "metadata": {},
   "outputs": [
    {
     "data": {
      "text/plain": [
       "-4.232890239148766e-06"
      ]
     },
     "execution_count": 54,
     "metadata": {},
     "output_type": "execute_result"
    }
   ],
   "source": [
    "slope"
   ]
  },
  {
   "cell_type": "code",
   "execution_count": null,
   "metadata": {},
   "outputs": [],
   "source": []
  },
  {
   "cell_type": "code",
   "execution_count": null,
   "metadata": {},
   "outputs": [],
   "source": []
  }
 ],
 "metadata": {
  "kernelspec": {
   "display_name": "Python 3",
   "language": "python",
   "name": "python3"
  },
  "language_info": {
   "codemirror_mode": {
    "name": "ipython",
    "version": 3
   },
   "file_extension": ".py",
   "mimetype": "text/x-python",
   "name": "python",
   "nbconvert_exporter": "python",
   "pygments_lexer": "ipython3",
   "version": "3.8.5"
  }
 },
 "nbformat": 4,
 "nbformat_minor": 4
}
