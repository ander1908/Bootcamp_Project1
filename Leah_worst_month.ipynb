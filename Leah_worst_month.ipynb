{
 "cells": [
  {
   "cell_type": "code",
   "execution_count": 1,
   "metadata": {},
   "outputs": [],
   "source": [
    "import pandas as pd\n",
    "import datetime\n",
    "import matplotlib.pyplot as plt"
   ]
  },
  {
   "cell_type": "code",
   "execution_count": 2,
   "metadata": {},
   "outputs": [],
   "source": [
    "dna_data = pd.read_csv(\"Cleaned_Date_DNA_Data.csv\")"
   ]
  },
  {
   "cell_type": "code",
   "execution_count": 3,
   "metadata": {},
   "outputs": [
    {
     "data": {
      "text/html": [
       "<div>\n",
       "<style scoped>\n",
       "    .dataframe tbody tr th:only-of-type {\n",
       "        vertical-align: middle;\n",
       "    }\n",
       "\n",
       "    .dataframe tbody tr th {\n",
       "        vertical-align: top;\n",
       "    }\n",
       "\n",
       "    .dataframe thead th {\n",
       "        text-align: right;\n",
       "    }\n",
       "</style>\n",
       "<table border=\"1\" class=\"dataframe\">\n",
       "  <thead>\n",
       "    <tr style=\"text-align: right;\">\n",
       "      <th></th>\n",
       "      <th>Unnamed: 0</th>\n",
       "      <th>DNA Test ID</th>\n",
       "      <th>DNA Sample Timestamp</th>\n",
       "      <th>Beach</th>\n",
       "      <th>DNA Sample 1 Reading</th>\n",
       "      <th>DNA Sample 2 Reading</th>\n",
       "      <th>DNA Reading Mean</th>\n",
       "      <th>Latitude</th>\n",
       "      <th>Longitude</th>\n",
       "      <th>Sample Date</th>\n",
       "      <th>Sample Time</th>\n",
       "    </tr>\n",
       "  </thead>\n",
       "  <tbody>\n",
       "    <tr>\n",
       "      <th>0</th>\n",
       "      <td>3</td>\n",
       "      <td>10601.0</td>\n",
       "      <td>2019-06-03 12:08:00</td>\n",
       "      <td>63rd Street</td>\n",
       "      <td>15.0</td>\n",
       "      <td>121.0</td>\n",
       "      <td>42.6</td>\n",
       "      <td>41.7827</td>\n",
       "      <td>-87.5748</td>\n",
       "      <td>2019-06-03</td>\n",
       "      <td>12:08:00</td>\n",
       "    </tr>\n",
       "    <tr>\n",
       "      <th>1</th>\n",
       "      <td>4</td>\n",
       "      <td>10600.0</td>\n",
       "      <td>2019-06-03 12:08:00</td>\n",
       "      <td>South Shore</td>\n",
       "      <td>1006.0</td>\n",
       "      <td>16.0</td>\n",
       "      <td>126.9</td>\n",
       "      <td>41.7689</td>\n",
       "      <td>-87.5636</td>\n",
       "      <td>2019-06-03</td>\n",
       "      <td>12:08:00</td>\n",
       "    </tr>\n",
       "    <tr>\n",
       "      <th>2</th>\n",
       "      <td>5</td>\n",
       "      <td>10582.0</td>\n",
       "      <td>2019-06-03 12:10:00</td>\n",
       "      <td>North Avenue</td>\n",
       "      <td>69.0</td>\n",
       "      <td>8.0</td>\n",
       "      <td>23.5</td>\n",
       "      <td>41.9148</td>\n",
       "      <td>-87.6273</td>\n",
       "      <td>2019-06-03</td>\n",
       "      <td>12:10:00</td>\n",
       "    </tr>\n",
       "    <tr>\n",
       "      <th>3</th>\n",
       "      <td>6</td>\n",
       "      <td>10646.0</td>\n",
       "      <td>2019-06-03 12:12:00</td>\n",
       "      <td>Howard</td>\n",
       "      <td>90.0</td>\n",
       "      <td>169.0</td>\n",
       "      <td>123.3</td>\n",
       "      <td>42.0188</td>\n",
       "      <td>-87.6663</td>\n",
       "      <td>2019-06-03</td>\n",
       "      <td>12:12:00</td>\n",
       "    </tr>\n",
       "    <tr>\n",
       "      <th>4</th>\n",
       "      <td>7</td>\n",
       "      <td>10599.0</td>\n",
       "      <td>2019-06-03 12:08:00</td>\n",
       "      <td>Rainbow</td>\n",
       "      <td>150.0</td>\n",
       "      <td>245.0</td>\n",
       "      <td>191.7</td>\n",
       "      <td>41.7580</td>\n",
       "      <td>-87.5510</td>\n",
       "      <td>2019-06-03</td>\n",
       "      <td>12:08:00</td>\n",
       "    </tr>\n",
       "  </tbody>\n",
       "</table>\n",
       "</div>"
      ],
      "text/plain": [
       "   Unnamed: 0  DNA Test ID DNA Sample Timestamp         Beach  \\\n",
       "0           3      10601.0  2019-06-03 12:08:00   63rd Street   \n",
       "1           4      10600.0  2019-06-03 12:08:00   South Shore   \n",
       "2           5      10582.0  2019-06-03 12:10:00  North Avenue   \n",
       "3           6      10646.0  2019-06-03 12:12:00        Howard   \n",
       "4           7      10599.0  2019-06-03 12:08:00       Rainbow   \n",
       "\n",
       "   DNA Sample 1 Reading  DNA Sample 2 Reading  DNA Reading Mean  Latitude  \\\n",
       "0                  15.0                 121.0              42.6   41.7827   \n",
       "1                1006.0                  16.0             126.9   41.7689   \n",
       "2                  69.0                   8.0              23.5   41.9148   \n",
       "3                  90.0                 169.0             123.3   42.0188   \n",
       "4                 150.0                 245.0             191.7   41.7580   \n",
       "\n",
       "   Longitude Sample Date Sample Time  \n",
       "0   -87.5748  2019-06-03    12:08:00  \n",
       "1   -87.5636  2019-06-03    12:08:00  \n",
       "2   -87.6273  2019-06-03    12:10:00  \n",
       "3   -87.6663  2019-06-03    12:12:00  \n",
       "4   -87.5510  2019-06-03    12:08:00  "
      ]
     },
     "execution_count": 3,
     "metadata": {},
     "output_type": "execute_result"
    }
   ],
   "source": [
    "dna_data.head()"
   ]
  },
  {
   "cell_type": "code",
   "execution_count": 4,
   "metadata": {},
   "outputs": [],
   "source": [
    "test = \"2016-08-04\"\n",
    "\n",
    "formatted = datetime.datetime.strptime(test, \"%Y-%m-%d\")"
   ]
  },
  {
   "cell_type": "code",
   "execution_count": 5,
   "metadata": {},
   "outputs": [
    {
     "data": {
      "text/plain": [
       "8"
      ]
     },
     "execution_count": 5,
     "metadata": {},
     "output_type": "execute_result"
    }
   ],
   "source": [
    "formatted.month"
   ]
  },
  {
   "cell_type": "code",
   "execution_count": 6,
   "metadata": {},
   "outputs": [],
   "source": [
    "dna_data[\"Sample Month\"] = \"\"\n",
    "\n",
    "for index, row in dna_data.iterrows():\n",
    "    \n",
    "    date = row[\"Sample Date\"]\n",
    "    \n",
    "    formatted = datetime.datetime.strptime(date, \"%Y-%m-%d\")\n",
    "    \n",
    "    dna_data.loc[index, \"Sample Month\"] = formatted.month\n",
    "    \n",
    "# using striptime: https://stackoverflow.com/questions/26105804/extract-month-from-date-in-python/26105888\n"
   ]
  },
  {
   "cell_type": "code",
   "execution_count": 7,
   "metadata": {},
   "outputs": [
    {
     "data": {
      "text/html": [
       "<div>\n",
       "<style scoped>\n",
       "    .dataframe tbody tr th:only-of-type {\n",
       "        vertical-align: middle;\n",
       "    }\n",
       "\n",
       "    .dataframe tbody tr th {\n",
       "        vertical-align: top;\n",
       "    }\n",
       "\n",
       "    .dataframe thead th {\n",
       "        text-align: right;\n",
       "    }\n",
       "</style>\n",
       "<table border=\"1\" class=\"dataframe\">\n",
       "  <thead>\n",
       "    <tr style=\"text-align: right;\">\n",
       "      <th></th>\n",
       "      <th>Unnamed: 0</th>\n",
       "      <th>DNA Test ID</th>\n",
       "      <th>DNA Sample Timestamp</th>\n",
       "      <th>Beach</th>\n",
       "      <th>DNA Sample 1 Reading</th>\n",
       "      <th>DNA Sample 2 Reading</th>\n",
       "      <th>DNA Reading Mean</th>\n",
       "      <th>Latitude</th>\n",
       "      <th>Longitude</th>\n",
       "      <th>Sample Date</th>\n",
       "      <th>Sample Time</th>\n",
       "      <th>Sample Month</th>\n",
       "    </tr>\n",
       "  </thead>\n",
       "  <tbody>\n",
       "    <tr>\n",
       "      <th>0</th>\n",
       "      <td>3</td>\n",
       "      <td>10601.0</td>\n",
       "      <td>2019-06-03 12:08:00</td>\n",
       "      <td>63rd Street</td>\n",
       "      <td>15.0</td>\n",
       "      <td>121.0</td>\n",
       "      <td>42.6</td>\n",
       "      <td>41.7827</td>\n",
       "      <td>-87.5748</td>\n",
       "      <td>2019-06-03</td>\n",
       "      <td>12:08:00</td>\n",
       "      <td>6</td>\n",
       "    </tr>\n",
       "    <tr>\n",
       "      <th>1</th>\n",
       "      <td>4</td>\n",
       "      <td>10600.0</td>\n",
       "      <td>2019-06-03 12:08:00</td>\n",
       "      <td>South Shore</td>\n",
       "      <td>1006.0</td>\n",
       "      <td>16.0</td>\n",
       "      <td>126.9</td>\n",
       "      <td>41.7689</td>\n",
       "      <td>-87.5636</td>\n",
       "      <td>2019-06-03</td>\n",
       "      <td>12:08:00</td>\n",
       "      <td>6</td>\n",
       "    </tr>\n",
       "    <tr>\n",
       "      <th>2</th>\n",
       "      <td>5</td>\n",
       "      <td>10582.0</td>\n",
       "      <td>2019-06-03 12:10:00</td>\n",
       "      <td>North Avenue</td>\n",
       "      <td>69.0</td>\n",
       "      <td>8.0</td>\n",
       "      <td>23.5</td>\n",
       "      <td>41.9148</td>\n",
       "      <td>-87.6273</td>\n",
       "      <td>2019-06-03</td>\n",
       "      <td>12:10:00</td>\n",
       "      <td>6</td>\n",
       "    </tr>\n",
       "    <tr>\n",
       "      <th>3</th>\n",
       "      <td>6</td>\n",
       "      <td>10646.0</td>\n",
       "      <td>2019-06-03 12:12:00</td>\n",
       "      <td>Howard</td>\n",
       "      <td>90.0</td>\n",
       "      <td>169.0</td>\n",
       "      <td>123.3</td>\n",
       "      <td>42.0188</td>\n",
       "      <td>-87.6663</td>\n",
       "      <td>2019-06-03</td>\n",
       "      <td>12:12:00</td>\n",
       "      <td>6</td>\n",
       "    </tr>\n",
       "    <tr>\n",
       "      <th>4</th>\n",
       "      <td>7</td>\n",
       "      <td>10599.0</td>\n",
       "      <td>2019-06-03 12:08:00</td>\n",
       "      <td>Rainbow</td>\n",
       "      <td>150.0</td>\n",
       "      <td>245.0</td>\n",
       "      <td>191.7</td>\n",
       "      <td>41.7580</td>\n",
       "      <td>-87.5510</td>\n",
       "      <td>2019-06-03</td>\n",
       "      <td>12:08:00</td>\n",
       "      <td>6</td>\n",
       "    </tr>\n",
       "  </tbody>\n",
       "</table>\n",
       "</div>"
      ],
      "text/plain": [
       "   Unnamed: 0  DNA Test ID DNA Sample Timestamp         Beach  \\\n",
       "0           3      10601.0  2019-06-03 12:08:00   63rd Street   \n",
       "1           4      10600.0  2019-06-03 12:08:00   South Shore   \n",
       "2           5      10582.0  2019-06-03 12:10:00  North Avenue   \n",
       "3           6      10646.0  2019-06-03 12:12:00        Howard   \n",
       "4           7      10599.0  2019-06-03 12:08:00       Rainbow   \n",
       "\n",
       "   DNA Sample 1 Reading  DNA Sample 2 Reading  DNA Reading Mean  Latitude  \\\n",
       "0                  15.0                 121.0              42.6   41.7827   \n",
       "1                1006.0                  16.0             126.9   41.7689   \n",
       "2                  69.0                   8.0              23.5   41.9148   \n",
       "3                  90.0                 169.0             123.3   42.0188   \n",
       "4                 150.0                 245.0             191.7   41.7580   \n",
       "\n",
       "   Longitude Sample Date Sample Time Sample Month  \n",
       "0   -87.5748  2019-06-03    12:08:00            6  \n",
       "1   -87.5636  2019-06-03    12:08:00            6  \n",
       "2   -87.6273  2019-06-03    12:10:00            6  \n",
       "3   -87.6663  2019-06-03    12:12:00            6  \n",
       "4   -87.5510  2019-06-03    12:08:00            6  "
      ]
     },
     "execution_count": 7,
     "metadata": {},
     "output_type": "execute_result"
    }
   ],
   "source": [
    "dna_data.head()"
   ]
  },
  {
   "cell_type": "code",
   "execution_count": null,
   "metadata": {},
   "outputs": [],
   "source": []
  },
  {
   "cell_type": "code",
   "execution_count": 8,
   "metadata": {},
   "outputs": [],
   "source": [
    "dna_by_month = dna_data.groupby(\"Sample Month\")"
   ]
  },
  {
   "cell_type": "code",
   "execution_count": 9,
   "metadata": {},
   "outputs": [
    {
     "data": {
      "text/plain": [
       "Sample Month\n",
       "5    294.675561\n",
       "6    491.519486\n",
       "7    627.044898\n",
       "8    606.399228\n",
       "9    441.428708\n",
       "Name: DNA Reading Mean, dtype: float64"
      ]
     },
     "execution_count": 9,
     "metadata": {},
     "output_type": "execute_result"
    }
   ],
   "source": [
    "y_axis = dna_by_month[\"DNA Reading Mean\"].mean()\n",
    "y_axis"
   ]
  },
  {
   "cell_type": "code",
   "execution_count": 10,
   "metadata": {},
   "outputs": [],
   "source": [
    "x_axis = [\"May\", \"June\", \"July\", \"August\", \"September\"]"
   ]
  },
  {
   "cell_type": "code",
   "execution_count": 12,
   "metadata": {},
   "outputs": [
    {
     "data": {
      "image/png": "[encoded data removed]",
      "text/plain": [
       "<Figure size 432x288 with 1 Axes>"
      ]
     },
     "metadata": {
      "needs_background": "light"
     },
     "output_type": "display_data"
    }
   ],
   "source": [
    "plt.bar(x_axis, y_axis)\n",
    "\n",
    "\n",
    "plt.title(\"Which month has the most e coli? (DNA test)\")\n",
    "plt.xlabel(\"Month\")\n",
    "plt.ylabel(\"Average e coli level (CFU/100ml)\")\n",
    "\n",
    "plt.show()"
   ]
  },
  {
   "cell_type": "code",
   "execution_count": 13,
   "metadata": {},
   "outputs": [],
   "source": [
    "dna_by_date = dna_data.groupby(\"Sample Date\")"
   ]
  },
  {
   "cell_type": "code",
   "execution_count": 16,
   "metadata": {},
   "outputs": [],
   "source": [
    "date_DNA_values = dna_by_date[\"DNA Reading Mean\"].mean()"
   ]
  },
  {
   "cell_type": "code",
   "execution_count": 33,
   "metadata": {},
   "outputs": [
    {
     "data": {
      "text/plain": [
       "433"
      ]
     },
     "execution_count": 33,
     "metadata": {},
     "output_type": "execute_result"
    }
   ],
   "source": [
    "len(date_DNA_values)"
   ]
  },
  {
   "cell_type": "code",
   "execution_count": null,
   "metadata": {},
   "outputs": [],
   "source": []
  },
  {
   "cell_type": "code",
   "execution_count": 20,
   "metadata": {},
   "outputs": [],
   "source": [
    "dates = dna_data[\"Sample Date\"].unique()"
   ]
  },
  {
   "cell_type": "code",
   "execution_count": 28,
   "metadata": {},
   "outputs": [
    {
     "data": {
      "text/plain": [
       "array(['2019-06-03', '2019-06-04', '2020-07-06', '2020-07-08',\n",
       "       '2019-06-05', '2019-06-06', '2020-07-07', '2019-06-07',\n",
       "       '2019-06-08', '2019-06-09', '2019-06-10', '2019-06-11',\n",
       "       '2019-06-12', '2019-06-13', '2019-06-14', '2019-06-15',\n",
       "       '2019-06-16', '2019-06-17', '2019-06-18', '2019-06-19',\n",
       "       '2019-06-20', '2019-06-21', '2019-06-22', '2019-06-23',\n",
       "       '2019-06-24', '2019-06-25', '2019-06-26', '2019-06-27',\n",
       "       '2019-06-28', '2019-06-29', '2019-06-30', '2019-07-01',\n",
       "       '2019-07-02', '2019-05-25', '2019-07-03', '2019-07-04',\n",
       "       '2019-07-05', '2019-07-06', '2019-07-07', '2019-07-08',\n",
       "       '2019-07-09', '2019-07-10', '2019-07-13', '2019-07-12',\n",
       "       '2019-07-11', '2019-07-14', '2019-08-18', '2019-08-19',\n",
       "       '2019-07-15', '2019-07-16', '2019-07-17', '2019-07-18',\n",
       "       '2019-08-20', '2019-07-26', '2019-07-19', '2019-07-20',\n",
       "       '2019-07-21', '2019-07-22', '2017-08-10', '2018-08-15',\n",
       "       '2017-08-21', '2017-08-09', '2019-07-23', '2019-07-24',\n",
       "       '2018-07-20', '2017-09-01', '2017-06-29', '2017-07-25',\n",
       "       '2019-07-25', '2019-08-16', '2016-08-12', '2016-07-31',\n",
       "       '2016-08-25', '2019-07-27', '2019-07-28', '2019-07-29',\n",
       "       '2016-07-23', '2016-06-23', '2016-07-22', '2016-08-14',\n",
       "       '2016-06-30', '2016-06-12', '2016-07-06', '2016-07-09',\n",
       "       '2016-08-26', '2016-09-02', '2016-06-10', '2016-06-02',\n",
       "       '2016-08-21', '2016-08-11', '2016-08-04', '2016-07-24',\n",
       "       '2016-06-29', '2016-07-20', '2016-06-01', '2016-06-24',\n",
       "       '2016-07-16', '2019-07-30', '2016-06-08', '2016-07-08',\n",
       "       '2016-08-18', '2016-07-13', '2016-08-19', '2016-08-07',\n",
       "       '2016-08-27', '2016-06-19', '2016-05-26', '2016-07-10',\n",
       "       '2016-07-29', '2016-06-11', '2016-09-01', '2016-06-15',\n",
       "       '2016-08-06', '2016-09-04', '2016-08-20', '2016-07-30',\n",
       "       '2016-07-21', '2016-08-10', '2016-07-27', '2016-07-28',\n",
       "       '2016-06-22', '2016-08-24', '2016-06-09', '2016-07-14',\n",
       "       '2016-08-31', '2016-07-03', '2016-08-17', '2016-08-03',\n",
       "       '2016-06-16', '2016-07-01', '2016-06-05', '2016-06-25',\n",
       "       '2016-06-26', '2016-06-04', '2016-06-17', '2016-09-03',\n",
       "       '2016-08-28', '2016-06-18', '2016-07-15', '2016-07-02',\n",
       "       '2016-06-03', '2016-07-07', '2016-08-05', '2019-07-31',\n",
       "       '2019-08-01', '2019-08-21', '2019-08-02', '2019-08-03',\n",
       "       '2019-08-22', '2019-08-04', '2019-08-05', '2019-08-06',\n",
       "       '2019-08-07', '2019-08-23', '2019-08-08', '2019-08-09',\n",
       "       '2019-08-10', '2019-08-11', '2019-08-24', '2019-08-12',\n",
       "       '2019-08-13', '2019-08-14', '2019-08-15', '2019-08-25',\n",
       "       '2019-08-17', '2019-08-26', '2019-08-27', '2019-08-28',\n",
       "       '2019-08-29', '2019-08-30', '2019-08-31', '2019-09-01',\n",
       "       '2019-09-02', '2018-08-10', '2018-08-28', '2018-09-03',\n",
       "       '2018-08-31', '2018-08-01', '2015-06-02', '2015-06-12',\n",
       "       '2018-08-23', '2019-05-27', '2019-05-24', '2017-06-23',\n",
       "       '2017-08-26', '2017-06-26', '2017-05-28', '2017-08-11',\n",
       "       '2018-07-28', '2018-07-12', '2017-06-27', '2015-07-08',\n",
       "       '2017-06-15', '2017-07-19', '2017-08-02', '2017-06-06',\n",
       "       '2018-07-09', '2019-05-29', '2018-08-19', '2018-08-22',\n",
       "       '2015-06-01', '2018-06-10', '2018-07-04', '2017-07-17',\n",
       "       '2018-06-29', '2015-07-17', '2018-06-23', '2017-07-29',\n",
       "       '2017-06-16', '2018-05-25', '2018-07-23', '2018-06-06',\n",
       "       '2018-07-06', '2017-08-23', '2018-06-20', '2018-05-28',\n",
       "       '2017-08-17', '2018-05-30', '2017-06-14', '2018-07-17',\n",
       "       '2017-08-24', '2018-07-21', '2017-07-14', '2018-06-30',\n",
       "       '2018-07-29', '2018-05-26', '2017-06-11', '2017-06-09',\n",
       "       '2018-06-17', '2018-08-30', '2018-08-12', '2017-07-16',\n",
       "       '2017-06-13', '2015-08-25', '2017-06-12', '2017-08-03',\n",
       "       '2018-07-03', '2018-08-03', '2018-09-02', '2017-07-18',\n",
       "       '2018-07-01', '2017-08-27', '2017-08-07', '2018-06-18',\n",
       "       '2017-07-12', '2017-06-21', '2017-08-28', '2017-06-22',\n",
       "       '2018-08-20', '2017-07-06', '2018-07-05', '2016-07-17',\n",
       "       '2017-08-18', '2017-08-16', '2017-07-27', '2017-07-24',\n",
       "       '2017-07-03', '2018-08-25', '2017-07-11', '2018-06-07',\n",
       "       '2018-08-04', '2017-07-21', '2017-09-03', '2018-05-29',\n",
       "       '2017-06-01', '2015-07-01', '2018-07-18', '2017-06-02',\n",
       "       '2018-07-27', '2018-07-19', '2017-08-04', '2018-06-21',\n",
       "       '2018-05-27', '2018-06-26', '2015-05-27', '2019-06-02',\n",
       "       '2018-08-24', '2017-05-29', '2017-06-08', '2017-06-30',\n",
       "       '2018-06-28', '2017-07-30', '2017-07-08', '2015-06-11',\n",
       "       '2018-06-02', '2017-07-22', '2017-06-24', '2017-08-31',\n",
       "       '2019-05-30', '2018-06-22', '2017-05-26', '2017-08-05',\n",
       "       '2018-06-04', '2017-08-13', '2017-07-04', '2018-07-02',\n",
       "       '2017-06-20', '2018-06-19', '2018-07-15', '2018-06-15',\n",
       "       '2017-07-07', '2018-07-26', '2018-08-27', '2017-08-06',\n",
       "       '2017-08-12', '2018-06-13', '2018-07-08', '2015-08-12',\n",
       "       '2017-06-05', '2018-06-05', '2018-06-14', '2017-05-27',\n",
       "       '2017-08-08', '2017-08-19', '2015-08-19', '2018-08-08',\n",
       "       '2015-07-10', '2017-06-07', '2018-06-03', '2018-07-25',\n",
       "       '2018-08-11', '2015-07-23', '2018-06-08', '2015-06-16',\n",
       "       '2018-08-29', '2015-06-18', '2017-06-04', '2017-08-30',\n",
       "       '2015-07-22', '2017-07-01', '2017-07-20', '2015-06-30',\n",
       "       '2019-06-01', '2018-08-18', '2018-07-13', '2018-06-11',\n",
       "       '2017-06-10', '2015-08-07', '2017-08-01', '2018-07-07',\n",
       "       '2019-05-28', '2015-08-28', '2017-09-04', '2017-07-13',\n",
       "       '2017-07-15', '2017-08-20', '2017-07-02', '2018-08-06',\n",
       "       '2017-07-05', '2018-07-31', '2017-07-31', '2018-07-30',\n",
       "       '2018-07-16', '2017-07-28', '2018-08-05', '2019-05-31',\n",
       "       '2018-08-09', '2017-07-10', '2017-07-23', '2015-08-05',\n",
       "       '2018-07-24', '2015-08-27', '2015-08-04', '2015-07-16',\n",
       "       '2017-07-09', '2017-08-25', '2015-06-24', '2015-07-28',\n",
       "       '2017-08-29', '2018-08-16', '2017-09-02', '2018-08-14',\n",
       "       '2018-08-21', '2018-06-01', '2018-08-26', '2018-05-31',\n",
       "       '2019-05-26', '2018-06-27', '2015-06-19', '2017-08-15',\n",
       "       '2017-05-30', '2018-08-13', '2017-06-28', '2018-08-07',\n",
       "       '2017-06-25', '2015-08-21', '2018-07-11', '2017-08-14',\n",
       "       '2015-06-23', '2015-08-06', '2015-05-26', '2017-06-19',\n",
       "       '2015-06-04', '2018-09-01', '2015-08-11', '2015-07-29',\n",
       "       '2015-07-15', '2018-08-17', '2015-08-14', '2017-06-03',\n",
       "       '2018-07-14', '2017-06-17', '2018-06-12', '2018-06-09',\n",
       "       '2018-08-02', '2018-06-25', '2015-05-28', '2018-06-24',\n",
       "       '2015-07-02', '2015-06-09', '2017-06-18', '2015-07-21',\n",
       "       '2015-07-14', '2018-07-10', '2017-08-22', '2015-08-18',\n",
       "       '2015-07-30', '2017-07-26', '2017-05-31', '2015-06-17',\n",
       "       '2015-06-10', '2015-07-07', '2015-08-26', '2015-06-25',\n",
       "       '2018-06-16', '2018-07-22', '2015-08-20', '2015-07-09',\n",
       "       '2015-06-26', '2015-07-31', '2015-06-03', '2015-07-24',\n",
       "       '2015-08-13'], dtype=object)"
      ]
     },
     "execution_count": 28,
     "metadata": {},
     "output_type": "execute_result"
    }
   ],
   "source": [
    "dates"
   ]
  },
  {
   "cell_type": "code",
   "execution_count": 24,
   "metadata": {},
   "outputs": [
    {
     "data": {
      "image/png": "[encoded data removed]",
      "text/plain": [
       "<Figure size 432x288 with 1 Axes>"
      ]
     },
     "metadata": {
      "needs_background": "light"
     },
     "output_type": "display_data"
    }
   ],
   "source": [
    "x_axis = dates\n",
    "y_axis = date_DNA_values\n",
    "\n",
    "plt.plot(x_axis, y_axis)\n",
    "\n",
    "\n",
    "plt.title(\"e coli levels over time (city wide)\")\n",
    "plt.xlabel(\"date\")\n",
    "plt.ylabel(\"Average e coli level (CFU/100ml)\")\n",
    "\n",
    "plt.show()"
   ]
  },
  {
   "cell_type": "code",
   "execution_count": 39,
   "metadata": {},
   "outputs": [
    {
     "data": {
      "text/html": [
       "<div>\n",
       "<style scoped>\n",
       "    .dataframe tbody tr th:only-of-type {\n",
       "        vertical-align: middle;\n",
       "    }\n",
       "\n",
       "    .dataframe tbody tr th {\n",
       "        vertical-align: top;\n",
       "    }\n",
       "\n",
       "    .dataframe thead th {\n",
       "        text-align: right;\n",
       "    }\n",
       "</style>\n",
       "<table border=\"1\" class=\"dataframe\">\n",
       "  <thead>\n",
       "    <tr style=\"text-align: right;\">\n",
       "      <th></th>\n",
       "      <th>DNA Reading Mean</th>\n",
       "    </tr>\n",
       "    <tr>\n",
       "      <th>Sample Date</th>\n",
       "      <th></th>\n",
       "    </tr>\n",
       "  </thead>\n",
       "  <tbody>\n",
       "    <tr>\n",
       "      <th>2015-05-26</th>\n",
       "      <td>147.800000</td>\n",
       "    </tr>\n",
       "    <tr>\n",
       "      <th>2015-05-27</th>\n",
       "      <td>438.000000</td>\n",
       "    </tr>\n",
       "    <tr>\n",
       "      <th>2015-05-28</th>\n",
       "      <td>223.400000</td>\n",
       "    </tr>\n",
       "    <tr>\n",
       "      <th>2015-06-01</th>\n",
       "      <td>331.000000</td>\n",
       "    </tr>\n",
       "    <tr>\n",
       "      <th>2015-06-02</th>\n",
       "      <td>157.800000</td>\n",
       "    </tr>\n",
       "    <tr>\n",
       "      <th>...</th>\n",
       "      <td>...</td>\n",
       "    </tr>\n",
       "    <tr>\n",
       "      <th>2019-09-01</th>\n",
       "      <td>219.000000</td>\n",
       "    </tr>\n",
       "    <tr>\n",
       "      <th>2019-09-02</th>\n",
       "      <td>143.145000</td>\n",
       "    </tr>\n",
       "    <tr>\n",
       "      <th>2020-07-06</th>\n",
       "      <td>636.231250</td>\n",
       "    </tr>\n",
       "    <tr>\n",
       "      <th>2020-07-07</th>\n",
       "      <td>2340.941176</td>\n",
       "    </tr>\n",
       "    <tr>\n",
       "      <th>2020-07-08</th>\n",
       "      <td>664.457143</td>\n",
       "    </tr>\n",
       "  </tbody>\n",
       "</table>\n",
       "<p>433 rows × 1 columns</p>\n",
       "</div>"
      ],
      "text/plain": [
       "             DNA Reading Mean\n",
       "Sample Date                  \n",
       "2015-05-26         147.800000\n",
       "2015-05-27         438.000000\n",
       "2015-05-28         223.400000\n",
       "2015-06-01         331.000000\n",
       "2015-06-02         157.800000\n",
       "...                       ...\n",
       "2019-09-01         219.000000\n",
       "2019-09-02         143.145000\n",
       "2020-07-06         636.231250\n",
       "2020-07-07        2340.941176\n",
       "2020-07-08         664.457143\n",
       "\n",
       "[433 rows x 1 columns]"
      ]
     },
     "execution_count": 39,
     "metadata": {},
     "output_type": "execute_result"
    }
   ],
   "source": [
    "date_DNA_values.to_frame()"
   ]
  },
  {
   "cell_type": "code",
   "execution_count": 10,
   "metadata": {},
   "outputs": [],
   "source": [
    "# options from here:\n",
    "\n",
    "# groupby month, get mean of test result per month, make a bar graph of mean grossness per month\n",
    "\n",
    "# could also use datetime to get the month and day, subtract january 1 to get what number \n",
    "# day it is in the year, plot a line graph and label the appropriate days as as jan 1, feb 1 etc\n",
    "# instead of the day of the year\n",
    "\n",
    "#   pros: might look cooler, would sync up with weather data\n",
    "#   cons: harder :)\n",
    "\n",
    "# my thoughts - do both? bar graph of how gross the months are seems like a good quick takeaway\n",
    "# but I think we need more if we want to compare with milwaukee weather"
   ]
  },
  {
   "cell_type": "code",
   "execution_count": 49,
   "metadata": {},
   "outputs": [
    {
     "data": {
      "text/plain": [
       "209"
      ]
     },
     "execution_count": 49,
     "metadata": {},
     "output_type": "execute_result"
    }
   ],
   "source": [
    "#finding the day of the year\n",
    "#https://stackoverflow.com/questions/151199/how-to-calculate-number-of-days-between-two-given-dates\n",
    "\n",
    "bday = datetime.date(2021, 7, 28)\n",
    "day0 = datetime.date(2020, 12, 31)\n",
    "delta = bday - day0\n",
    "\n",
    "delta.days"
   ]
  },
  {
   "cell_type": "code",
   "execution_count": 57,
   "metadata": {},
   "outputs": [
    {
     "data": {
      "text/plain": [
       "datetime.date(2021, 7, 28)"
      ]
     },
     "execution_count": 57,
     "metadata": {},
     "output_type": "execute_result"
    }
   ],
   "source": [
    "#adding day of the year to make a date\n",
    "\n",
    "added_back = day0 + delta\n",
    "added_back"
   ]
  },
  {
   "cell_type": "code",
   "execution_count": 56,
   "metadata": {},
   "outputs": [
    {
     "data": {
      "text/plain": [
       "'2021-7-28'"
      ]
     },
     "execution_count": 56,
     "metadata": {},
     "output_type": "execute_result"
    }
   ],
   "source": [
    "#putting it back in a string\n",
    "\n",
    "f\"{added_back.year}-{added_back.month}-{added_back.day}\""
   ]
  },
  {
   "cell_type": "code",
   "execution_count": null,
   "metadata": {},
   "outputs": [],
   "source": []
  }
 ],
 "metadata": {
  "kernelspec": {
   "display_name": "Python 3",
   "language": "python",
   "name": "python3"
  },
  "language_info": {
   "codemirror_mode": {
    "name": "ipython",
    "version": 3
   },
   "file_extension": ".py",
   "mimetype": "text/x-python",
   "name": "python",
   "nbconvert_exporter": "python",
   "pygments_lexer": "ipython3",
   "version": "3.8.5"
  }
 },
 "nbformat": 4,
 "nbformat_minor": 4
}
