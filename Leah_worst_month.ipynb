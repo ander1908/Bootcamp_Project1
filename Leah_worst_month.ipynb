{
 "cells": [
  {
   "cell_type": "code",
   "execution_count": 102,
   "metadata": {},
   "outputs": [],
   "source": [
    "import pandas as pd\n",
    "import datetime\n",
    "import matplotlib.pyplot as plt\n",
    "from scipy.stats import linregress"
   ]
  },
  {
   "cell_type": "code",
   "execution_count": 103,
   "metadata": {},
   "outputs": [],
   "source": [
    "dna_data = pd.read_csv(\"Cleaned_Date_DNA_Data.csv\")\n",
    "culture_data = pd.read_csv(\"Cleaned_Date_culture_Data.csv\")"
   ]
  },
  {
   "cell_type": "code",
   "execution_count": 104,
   "metadata": {},
   "outputs": [
    {
     "data": {
      "text/html": [
       "<div>\n",
       "<style scoped>\n",
       "    .dataframe tbody tr th:only-of-type {\n",
       "        vertical-align: middle;\n",
       "    }\n",
       "\n",
       "    .dataframe tbody tr th {\n",
       "        vertical-align: top;\n",
       "    }\n",
       "\n",
       "    .dataframe thead th {\n",
       "        text-align: right;\n",
       "    }\n",
       "</style>\n",
       "<table border=\"1\" class=\"dataframe\">\n",
       "  <thead>\n",
       "    <tr style=\"text-align: right;\">\n",
       "      <th></th>\n",
       "      <th>Unnamed: 0</th>\n",
       "      <th>Culture Test ID</th>\n",
       "      <th>Culture Sample 1 Timestamp</th>\n",
       "      <th>Beach</th>\n",
       "      <th>Culture Sample 1 Reading</th>\n",
       "      <th>Culture Sample 2 Reading</th>\n",
       "      <th>Culture Reading Mean</th>\n",
       "      <th>Latitude</th>\n",
       "      <th>Longitude</th>\n",
       "      <th>Sample Date</th>\n",
       "      <th>Sample Time</th>\n",
       "    </tr>\n",
       "  </thead>\n",
       "  <tbody>\n",
       "    <tr>\n",
       "      <th>0</th>\n",
       "      <td>2231</td>\n",
       "      <td>113666.0</td>\n",
       "      <td>2016-08-04 08:30:00</td>\n",
       "      <td>Humboldt</td>\n",
       "      <td>1.0</td>\n",
       "      <td>1.0</td>\n",
       "      <td>1.0</td>\n",
       "      <td>41.90643</td>\n",
       "      <td>-87.703717</td>\n",
       "      <td>2016-08-04</td>\n",
       "      <td>08:30:00</td>\n",
       "    </tr>\n",
       "    <tr>\n",
       "      <th>1</th>\n",
       "      <td>2374</td>\n",
       "      <td>112689.0</td>\n",
       "      <td>2016-06-01 07:15:00</td>\n",
       "      <td>Calumet</td>\n",
       "      <td>629.0</td>\n",
       "      <td>1300.0</td>\n",
       "      <td>904.3</td>\n",
       "      <td>41.71420</td>\n",
       "      <td>-87.529900</td>\n",
       "      <td>2016-06-01</td>\n",
       "      <td>07:15:00</td>\n",
       "    </tr>\n",
       "    <tr>\n",
       "      <th>2</th>\n",
       "      <td>2375</td>\n",
       "      <td>112669.0</td>\n",
       "      <td>2016-06-01 08:00:00</td>\n",
       "      <td>Calumet</td>\n",
       "      <td>345.0</td>\n",
       "      <td>517.0</td>\n",
       "      <td>422.3</td>\n",
       "      <td>41.71420</td>\n",
       "      <td>-87.529900</td>\n",
       "      <td>2016-06-01</td>\n",
       "      <td>08:00:00</td>\n",
       "    </tr>\n",
       "    <tr>\n",
       "      <th>3</th>\n",
       "      <td>4980</td>\n",
       "      <td>109008.0</td>\n",
       "      <td>2013-05-26 00:00:00</td>\n",
       "      <td>57th Street</td>\n",
       "      <td>17.0</td>\n",
       "      <td>20.0</td>\n",
       "      <td>18.4</td>\n",
       "      <td>41.79110</td>\n",
       "      <td>-87.579700</td>\n",
       "      <td>2013-05-26</td>\n",
       "      <td>00:00:00</td>\n",
       "    </tr>\n",
       "    <tr>\n",
       "      <th>4</th>\n",
       "      <td>4983</td>\n",
       "      <td>93134.0</td>\n",
       "      <td>2015-07-07 00:00:00</td>\n",
       "      <td>Leone</td>\n",
       "      <td>727.0</td>\n",
       "      <td>727.0</td>\n",
       "      <td>727.0</td>\n",
       "      <td>42.01310</td>\n",
       "      <td>-87.663500</td>\n",
       "      <td>2015-07-07</td>\n",
       "      <td>00:00:00</td>\n",
       "    </tr>\n",
       "  </tbody>\n",
       "</table>\n",
       "</div>"
      ],
      "text/plain": [
       "   Unnamed: 0  Culture Test ID Culture Sample 1 Timestamp        Beach  \\\n",
       "0        2231         113666.0        2016-08-04 08:30:00     Humboldt   \n",
       "1        2374         112689.0        2016-06-01 07:15:00      Calumet   \n",
       "2        2375         112669.0        2016-06-01 08:00:00      Calumet   \n",
       "3        4980         109008.0        2013-05-26 00:00:00  57th Street   \n",
       "4        4983          93134.0        2015-07-07 00:00:00        Leone   \n",
       "\n",
       "   Culture Sample 1 Reading  Culture Sample 2 Reading  Culture Reading Mean  \\\n",
       "0                       1.0                       1.0                   1.0   \n",
       "1                     629.0                    1300.0                 904.3   \n",
       "2                     345.0                     517.0                 422.3   \n",
       "3                      17.0                      20.0                  18.4   \n",
       "4                     727.0                     727.0                 727.0   \n",
       "\n",
       "   Latitude  Longitude Sample Date Sample Time  \n",
       "0  41.90643 -87.703717  2016-08-04    08:30:00  \n",
       "1  41.71420 -87.529900  2016-06-01    07:15:00  \n",
       "2  41.71420 -87.529900  2016-06-01    08:00:00  \n",
       "3  41.79110 -87.579700  2013-05-26    00:00:00  \n",
       "4  42.01310 -87.663500  2015-07-07    00:00:00  "
      ]
     },
     "execution_count": 104,
     "metadata": {},
     "output_type": "execute_result"
    }
   ],
   "source": [
    "culture_data.head()"
   ]
  },
  {
   "cell_type": "code",
   "execution_count": 105,
   "metadata": {},
   "outputs": [],
   "source": [
    "test = \"2016-08-04\"\n",
    "\n",
    "formatted = datetime.datetime.strptime(test, \"%Y-%m-%d\")"
   ]
  },
  {
   "cell_type": "code",
   "execution_count": 106,
   "metadata": {},
   "outputs": [
    {
     "data": {
      "text/plain": [
       "8"
      ]
     },
     "execution_count": 106,
     "metadata": {},
     "output_type": "execute_result"
    }
   ],
   "source": [
    "formatted.month"
   ]
  },
  {
   "cell_type": "code",
   "execution_count": 107,
   "metadata": {},
   "outputs": [],
   "source": [
    "dna_data[\"Sample Month\"] = \"\"\n",
    "\n",
    "for index, row in dna_data.iterrows():\n",
    "    \n",
    "    date = row[\"Sample Date\"]\n",
    "    \n",
    "    formatted = datetime.datetime.strptime(date, \"%Y-%m-%d\")\n",
    "    \n",
    "    dna_data.loc[index, \"Sample Month\"] = formatted.month\n",
    "    \n",
    "# using striptime: https://stackoverflow.com/questions/26105804/extract-month-from-date-in-python/26105888\n"
   ]
  },
  {
   "cell_type": "code",
   "execution_count": 108,
   "metadata": {},
   "outputs": [],
   "source": [
    "culture_data[\"Sample Month\"] = \"\"\n",
    "\n",
    "for index, row in culture_data.iterrows():\n",
    "    \n",
    "    date = row[\"Sample Date\"]\n",
    "    \n",
    "    formatted = datetime.datetime.strptime(date, \"%Y-%m-%d\")\n",
    "    \n",
    "    culture_data.loc[index, \"Sample Month\"] = formatted.month"
   ]
  },
  {
   "cell_type": "code",
   "execution_count": 109,
   "metadata": {},
   "outputs": [
    {
     "data": {
      "text/html": [
       "<div>\n",
       "<style scoped>\n",
       "    .dataframe tbody tr th:only-of-type {\n",
       "        vertical-align: middle;\n",
       "    }\n",
       "\n",
       "    .dataframe tbody tr th {\n",
       "        vertical-align: top;\n",
       "    }\n",
       "\n",
       "    .dataframe thead th {\n",
       "        text-align: right;\n",
       "    }\n",
       "</style>\n",
       "<table border=\"1\" class=\"dataframe\">\n",
       "  <thead>\n",
       "    <tr style=\"text-align: right;\">\n",
       "      <th></th>\n",
       "      <th>Unnamed: 0</th>\n",
       "      <th>Culture Test ID</th>\n",
       "      <th>Culture Sample 1 Timestamp</th>\n",
       "      <th>Beach</th>\n",
       "      <th>Culture Sample 1 Reading</th>\n",
       "      <th>Culture Sample 2 Reading</th>\n",
       "      <th>Culture Reading Mean</th>\n",
       "      <th>Latitude</th>\n",
       "      <th>Longitude</th>\n",
       "      <th>Sample Date</th>\n",
       "      <th>Sample Time</th>\n",
       "      <th>Sample Month</th>\n",
       "    </tr>\n",
       "  </thead>\n",
       "  <tbody>\n",
       "    <tr>\n",
       "      <th>0</th>\n",
       "      <td>2231</td>\n",
       "      <td>113666.0</td>\n",
       "      <td>2016-08-04 08:30:00</td>\n",
       "      <td>Humboldt</td>\n",
       "      <td>1.0</td>\n",
       "      <td>1.0</td>\n",
       "      <td>1.0</td>\n",
       "      <td>41.90643</td>\n",
       "      <td>-87.703717</td>\n",
       "      <td>2016-08-04</td>\n",
       "      <td>08:30:00</td>\n",
       "      <td>8</td>\n",
       "    </tr>\n",
       "    <tr>\n",
       "      <th>1</th>\n",
       "      <td>2374</td>\n",
       "      <td>112689.0</td>\n",
       "      <td>2016-06-01 07:15:00</td>\n",
       "      <td>Calumet</td>\n",
       "      <td>629.0</td>\n",
       "      <td>1300.0</td>\n",
       "      <td>904.3</td>\n",
       "      <td>41.71420</td>\n",
       "      <td>-87.529900</td>\n",
       "      <td>2016-06-01</td>\n",
       "      <td>07:15:00</td>\n",
       "      <td>6</td>\n",
       "    </tr>\n",
       "    <tr>\n",
       "      <th>2</th>\n",
       "      <td>2375</td>\n",
       "      <td>112669.0</td>\n",
       "      <td>2016-06-01 08:00:00</td>\n",
       "      <td>Calumet</td>\n",
       "      <td>345.0</td>\n",
       "      <td>517.0</td>\n",
       "      <td>422.3</td>\n",
       "      <td>41.71420</td>\n",
       "      <td>-87.529900</td>\n",
       "      <td>2016-06-01</td>\n",
       "      <td>08:00:00</td>\n",
       "      <td>6</td>\n",
       "    </tr>\n",
       "    <tr>\n",
       "      <th>3</th>\n",
       "      <td>4980</td>\n",
       "      <td>109008.0</td>\n",
       "      <td>2013-05-26 00:00:00</td>\n",
       "      <td>57th Street</td>\n",
       "      <td>17.0</td>\n",
       "      <td>20.0</td>\n",
       "      <td>18.4</td>\n",
       "      <td>41.79110</td>\n",
       "      <td>-87.579700</td>\n",
       "      <td>2013-05-26</td>\n",
       "      <td>00:00:00</td>\n",
       "      <td>5</td>\n",
       "    </tr>\n",
       "    <tr>\n",
       "      <th>4</th>\n",
       "      <td>4983</td>\n",
       "      <td>93134.0</td>\n",
       "      <td>2015-07-07 00:00:00</td>\n",
       "      <td>Leone</td>\n",
       "      <td>727.0</td>\n",
       "      <td>727.0</td>\n",
       "      <td>727.0</td>\n",
       "      <td>42.01310</td>\n",
       "      <td>-87.663500</td>\n",
       "      <td>2015-07-07</td>\n",
       "      <td>00:00:00</td>\n",
       "      <td>7</td>\n",
       "    </tr>\n",
       "  </tbody>\n",
       "</table>\n",
       "</div>"
      ],
      "text/plain": [
       "   Unnamed: 0  Culture Test ID Culture Sample 1 Timestamp        Beach  \\\n",
       "0        2231         113666.0        2016-08-04 08:30:00     Humboldt   \n",
       "1        2374         112689.0        2016-06-01 07:15:00      Calumet   \n",
       "2        2375         112669.0        2016-06-01 08:00:00      Calumet   \n",
       "3        4980         109008.0        2013-05-26 00:00:00  57th Street   \n",
       "4        4983          93134.0        2015-07-07 00:00:00        Leone   \n",
       "\n",
       "   Culture Sample 1 Reading  Culture Sample 2 Reading  Culture Reading Mean  \\\n",
       "0                       1.0                       1.0                   1.0   \n",
       "1                     629.0                    1300.0                 904.3   \n",
       "2                     345.0                     517.0                 422.3   \n",
       "3                      17.0                      20.0                  18.4   \n",
       "4                     727.0                     727.0                 727.0   \n",
       "\n",
       "   Latitude  Longitude Sample Date Sample Time Sample Month  \n",
       "0  41.90643 -87.703717  2016-08-04    08:30:00            8  \n",
       "1  41.71420 -87.529900  2016-06-01    07:15:00            6  \n",
       "2  41.71420 -87.529900  2016-06-01    08:00:00            6  \n",
       "3  41.79110 -87.579700  2013-05-26    00:00:00            5  \n",
       "4  42.01310 -87.663500  2015-07-07    00:00:00            7  "
      ]
     },
     "execution_count": 109,
     "metadata": {},
     "output_type": "execute_result"
    }
   ],
   "source": [
    "culture_data.head()"
   ]
  },
  {
   "cell_type": "code",
   "execution_count": 110,
   "metadata": {},
   "outputs": [],
   "source": [
    "dna_by_month = dna_data.groupby(\"Sample Month\")\n",
    "culture_by_month = culture_data.groupby(\"Sample Month\")"
   ]
  },
  {
   "cell_type": "code",
   "execution_count": 111,
   "metadata": {},
   "outputs": [
    {
     "data": {
      "text/plain": [
       "Sample Month\n",
       "5    294.675561\n",
       "6    491.519486\n",
       "7    627.044898\n",
       "8    606.399228\n",
       "9    441.428708\n",
       "Name: DNA Reading Mean, dtype: float64"
      ]
     },
     "execution_count": 111,
     "metadata": {},
     "output_type": "execute_result"
    }
   ],
   "source": [
    "dna_y_axis = dna_by_month[\"DNA Reading Mean\"].mean()\n",
    "dna_y_axis"
   ]
  },
  {
   "cell_type": "code",
   "execution_count": 112,
   "metadata": {},
   "outputs": [],
   "source": [
    "x_axis = [\"May\", \"June\", \"July\", \"August\", \"September\"]"
   ]
  },
  {
   "cell_type": "code",
   "execution_count": 119,
   "metadata": {},
   "outputs": [
    {
     "data": {
      "image/png": "[encoded data removed]",
      "text/plain": [
       "<Figure size 432x288 with 1 Axes>"
      ]
     },
     "metadata": {
      "needs_background": "light"
     },
     "output_type": "display_data"
    }
   ],
   "source": [
    "plt.bar(x_axis, dna_y_axis)\n",
    "\n",
    "plt.title(\"Which month has the most e coli? (DNA test)\")\n",
    "plt.xlabel(\"Month\")\n",
    "plt.ylabel(\"Average e coli level (CCE)\")\n",
    "\n",
    "plt.savefig(\"monthly e coli.png\")\n",
    "\n",
    "plt.show()"
   ]
  },
  {
   "cell_type": "code",
   "execution_count": 114,
   "metadata": {},
   "outputs": [
    {
     "data": {
      "text/plain": [
       "Sample Month\n",
       "5     162.750043\n",
       "6     131.254973\n",
       "7     163.658208\n",
       "8     160.541246\n",
       "9     147.932780\n",
       "10      1.000000\n",
       "Name: Culture Reading Mean, dtype: float64"
      ]
     },
     "execution_count": 114,
     "metadata": {},
     "output_type": "execute_result"
    }
   ],
   "source": [
    "culture_y_axis = culture_by_month[\"Culture Reading Mean\"].mean()\n",
    "culture_y_axis"
   ]
  },
  {
   "cell_type": "code",
   "execution_count": 115,
   "metadata": {},
   "outputs": [],
   "source": [
    "#dropping october\n",
    "culture_y_axis=culture_y_axis.drop(labels=10)"
   ]
  },
  {
   "cell_type": "code",
   "execution_count": 116,
   "metadata": {},
   "outputs": [],
   "source": [
    "x_axis = [\"May\", \"June\", \"July\", \"August\", \"September\"]"
   ]
  },
  {
   "cell_type": "code",
   "execution_count": 118,
   "metadata": {},
   "outputs": [
    {
     "data": {
      "image/png": "[encoded data removed]",
      "text/plain": [
       "<Figure size 432x288 with 1 Axes>"
      ]
     },
     "metadata": {
      "needs_background": "light"
     },
     "output_type": "display_data"
    }
   ],
   "source": [
    "plt.bar(x_axis, culture_y_axis)\n",
    "\n",
    "\n",
    "plt.title(\"Which month has the most e coli? (Culture test)\")\n",
    "plt.xlabel(\"Month\")\n",
    "plt.ylabel(\"Average e coli level (CFU/100ml)\")\n",
    "\n",
    "plt.show()"
   ]
  },
  {
   "cell_type": "code",
   "execution_count": 27,
   "metadata": {},
   "outputs": [],
   "source": [
    "dna_by_date = dna_data.groupby(\"Sample Date\")\n",
    "culture_by_date = culture_data.groupby(\"Sample Date\")"
   ]
  },
  {
   "cell_type": "code",
   "execution_count": 28,
   "metadata": {},
   "outputs": [],
   "source": [
    "daily_dna_means = dna_by_date[\"DNA Reading Mean\"].mean()\n",
    "daily_culture_means = culture_by_date[\"Culture Reading Mean\"].mean()"
   ]
  },
  {
   "cell_type": "code",
   "execution_count": 29,
   "metadata": {},
   "outputs": [
    {
     "data": {
      "text/plain": [
       "433"
      ]
     },
     "execution_count": 29,
     "metadata": {},
     "output_type": "execute_result"
    }
   ],
   "source": [
    "len(daily_dna_means)"
   ]
  },
  {
   "cell_type": "code",
   "execution_count": 30,
   "metadata": {},
   "outputs": [],
   "source": [
    "dates = dna_data[\"Sample Date\"].unique()"
   ]
  },
  {
   "cell_type": "code",
   "execution_count": 31,
   "metadata": {},
   "outputs": [
    {
     "data": {
      "text/plain": [
       "433"
      ]
     },
     "execution_count": 31,
     "metadata": {},
     "output_type": "execute_result"
    }
   ],
   "source": [
    "len(dates)"
   ]
  },
  {
   "cell_type": "code",
   "execution_count": 32,
   "metadata": {},
   "outputs": [
    {
     "data": {
      "image/png": "[encoded data removed]",
      "text/plain": [
       "<Figure size 432x288 with 1 Axes>"
      ]
     },
     "metadata": {
      "needs_background": "light"
     },
     "output_type": "display_data"
    }
   ],
   "source": [
    "x_axis = dates\n",
    "y_axis = daily_dna_means\n",
    "\n",
    "plt.plot(x_axis, y_axis)\n",
    "\n",
    "\n",
    "plt.title(\"e coli levels over time (city wide)\")\n",
    "plt.xlabel(\"date\")\n",
    "plt.ylabel(\"Average e coli level (CFU/100ml)\")\n",
    "\n",
    "plt.show()"
   ]
  },
  {
   "cell_type": "code",
   "execution_count": 33,
   "metadata": {},
   "outputs": [],
   "source": [
    "daily_dna_means = daily_dna_means.to_frame()\n",
    "daily_culture_means = daily_culture_means.to_frame()"
   ]
  },
  {
   "cell_type": "code",
   "execution_count": 34,
   "metadata": {},
   "outputs": [],
   "source": [
    "daily_dna_means.reset_index(drop=False, inplace=True)\n",
    "daily_culture_means.reset_index(drop=False, inplace=True)"
   ]
  },
  {
   "cell_type": "code",
   "execution_count": 35,
   "metadata": {},
   "outputs": [],
   "source": [
    "daily_dna_means=daily_dna_means.rename(columns = {\"Sample Date\":\"Date\",\"DNA Reading Mean\":\"Citywide Mean E Coli Level\"})"
   ]
  },
  {
   "cell_type": "code",
   "execution_count": 36,
   "metadata": {},
   "outputs": [
    {
     "data": {
      "text/plain": [
       "Index(['Sample Date', 'Culture Reading Mean'], dtype='object')"
      ]
     },
     "execution_count": 36,
     "metadata": {},
     "output_type": "execute_result"
    }
   ],
   "source": [
    "daily_culture_means.columns"
   ]
  },
  {
   "cell_type": "code",
   "execution_count": 37,
   "metadata": {},
   "outputs": [],
   "source": [
    "daily_culture_means = daily_culture_means.rename(columns = {\"Sample Date\":\"Date\",\"Culture Reading Mean\":\"Citywide Mean E Coli Level\"})"
   ]
  },
  {
   "cell_type": "code",
   "execution_count": 38,
   "metadata": {},
   "outputs": [],
   "source": [
    "daily_dna_means.to_csv('DNA_daily_citywide_means.csv')\n",
    "daily_culture_means.to_csv('culture_daily_citywide_means.csv')"
   ]
  },
  {
   "cell_type": "code",
   "execution_count": 39,
   "metadata": {},
   "outputs": [],
   "source": [
    "##########"
   ]
  },
  {
   "cell_type": "code",
   "execution_count": 40,
   "metadata": {},
   "outputs": [],
   "source": [
    "Milwaukee = pd.read_csv(\"Milwaukee_DNA_Rainfall.csv\")"
   ]
  },
  {
   "cell_type": "code",
   "execution_count": 41,
   "metadata": {},
   "outputs": [
    {
     "data": {
      "text/html": [
       "<div>\n",
       "<style scoped>\n",
       "    .dataframe tbody tr th:only-of-type {\n",
       "        vertical-align: middle;\n",
       "    }\n",
       "\n",
       "    .dataframe tbody tr th {\n",
       "        vertical-align: top;\n",
       "    }\n",
       "\n",
       "    .dataframe thead th {\n",
       "        text-align: right;\n",
       "    }\n",
       "</style>\n",
       "<table border=\"1\" class=\"dataframe\">\n",
       "  <thead>\n",
       "    <tr style=\"text-align: right;\">\n",
       "      <th></th>\n",
       "      <th>Unnamed: 0</th>\n",
       "      <th>Date</th>\n",
       "      <th>Rainfall (In)</th>\n",
       "    </tr>\n",
       "  </thead>\n",
       "  <tbody>\n",
       "    <tr>\n",
       "      <th>0</th>\n",
       "      <td>390</td>\n",
       "      <td>2015-05-26</td>\n",
       "      <td>0.0</td>\n",
       "    </tr>\n",
       "    <tr>\n",
       "      <th>1</th>\n",
       "      <td>274</td>\n",
       "      <td>2015-05-27</td>\n",
       "      <td>0.0</td>\n",
       "    </tr>\n",
       "    <tr>\n",
       "      <th>2</th>\n",
       "      <td>406</td>\n",
       "      <td>2015-05-28</td>\n",
       "      <td>0.0</td>\n",
       "    </tr>\n",
       "    <tr>\n",
       "      <th>3</th>\n",
       "      <td>200</td>\n",
       "      <td>2015-06-01</td>\n",
       "      <td>0.0</td>\n",
       "    </tr>\n",
       "    <tr>\n",
       "      <th>4</th>\n",
       "      <td>178</td>\n",
       "      <td>2015-06-02</td>\n",
       "      <td>0.0</td>\n",
       "    </tr>\n",
       "  </tbody>\n",
       "</table>\n",
       "</div>"
      ],
      "text/plain": [
       "   Unnamed: 0        Date  Rainfall (In)\n",
       "0         390  2015-05-26            0.0\n",
       "1         274  2015-05-27            0.0\n",
       "2         406  2015-05-28            0.0\n",
       "3         200  2015-06-01            0.0\n",
       "4         178  2015-06-02            0.0"
      ]
     },
     "execution_count": 41,
     "metadata": {},
     "output_type": "execute_result"
    }
   ],
   "source": [
    "Milwaukee.head()"
   ]
  },
  {
   "cell_type": "code",
   "execution_count": 92,
   "metadata": {},
   "outputs": [],
   "source": [
    "Milwaukee[\"Rolling avg\"] = Milwaukee.rolling(window=30, on=\"Date\")[\"Rainfall (In)\"].mean()"
   ]
  },
  {
   "cell_type": "code",
   "execution_count": 93,
   "metadata": {},
   "outputs": [
    {
     "data": {
      "text/html": [
       "<div>\n",
       "<style scoped>\n",
       "    .dataframe tbody tr th:only-of-type {\n",
       "        vertical-align: middle;\n",
       "    }\n",
       "\n",
       "    .dataframe tbody tr th {\n",
       "        vertical-align: top;\n",
       "    }\n",
       "\n",
       "    .dataframe thead th {\n",
       "        text-align: right;\n",
       "    }\n",
       "</style>\n",
       "<table border=\"1\" class=\"dataframe\">\n",
       "  <thead>\n",
       "    <tr style=\"text-align: right;\">\n",
       "      <th></th>\n",
       "      <th>Unnamed: 0</th>\n",
       "      <th>Date</th>\n",
       "      <th>Rainfall (In)</th>\n",
       "      <th>Rolling avg</th>\n",
       "    </tr>\n",
       "  </thead>\n",
       "  <tbody>\n",
       "    <tr>\n",
       "      <th>0</th>\n",
       "      <td>390</td>\n",
       "      <td>2015-05-26</td>\n",
       "      <td>0.0</td>\n",
       "      <td>NaN</td>\n",
       "    </tr>\n",
       "    <tr>\n",
       "      <th>1</th>\n",
       "      <td>274</td>\n",
       "      <td>2015-05-27</td>\n",
       "      <td>0.0</td>\n",
       "      <td>NaN</td>\n",
       "    </tr>\n",
       "    <tr>\n",
       "      <th>2</th>\n",
       "      <td>406</td>\n",
       "      <td>2015-05-28</td>\n",
       "      <td>0.0</td>\n",
       "      <td>NaN</td>\n",
       "    </tr>\n",
       "    <tr>\n",
       "      <th>3</th>\n",
       "      <td>200</td>\n",
       "      <td>2015-06-01</td>\n",
       "      <td>0.0</td>\n",
       "      <td>NaN</td>\n",
       "    </tr>\n",
       "    <tr>\n",
       "      <th>4</th>\n",
       "      <td>178</td>\n",
       "      <td>2015-06-02</td>\n",
       "      <td>0.0</td>\n",
       "      <td>NaN</td>\n",
       "    </tr>\n",
       "  </tbody>\n",
       "</table>\n",
       "</div>"
      ],
      "text/plain": [
       "   Unnamed: 0        Date  Rainfall (In)  Rolling avg\n",
       "0         390  2015-05-26            0.0          NaN\n",
       "1         274  2015-05-27            0.0          NaN\n",
       "2         406  2015-05-28            0.0          NaN\n",
       "3         200  2015-06-01            0.0          NaN\n",
       "4         178  2015-06-02            0.0          NaN"
      ]
     },
     "execution_count": 93,
     "metadata": {},
     "output_type": "execute_result"
    }
   ],
   "source": [
    "Milwaukee.head()"
   ]
  },
  {
   "cell_type": "code",
   "execution_count": 94,
   "metadata": {},
   "outputs": [
    {
     "data": {
      "text/html": [
       "<div>\n",
       "<style scoped>\n",
       "    .dataframe tbody tr th:only-of-type {\n",
       "        vertical-align: middle;\n",
       "    }\n",
       "\n",
       "    .dataframe tbody tr th {\n",
       "        vertical-align: top;\n",
       "    }\n",
       "\n",
       "    .dataframe thead th {\n",
       "        text-align: right;\n",
       "    }\n",
       "</style>\n",
       "<table border=\"1\" class=\"dataframe\">\n",
       "  <thead>\n",
       "    <tr style=\"text-align: right;\">\n",
       "      <th></th>\n",
       "      <th>Date</th>\n",
       "      <th>Citywide Mean E Coli Level</th>\n",
       "      <th>Unnamed: 0</th>\n",
       "      <th>Rainfall (In)</th>\n",
       "      <th>Rolling avg</th>\n",
       "    </tr>\n",
       "  </thead>\n",
       "  <tbody>\n",
       "    <tr>\n",
       "      <th>0</th>\n",
       "      <td>2015-05-26</td>\n",
       "      <td>147.8</td>\n",
       "      <td>390</td>\n",
       "      <td>0.0</td>\n",
       "      <td>NaN</td>\n",
       "    </tr>\n",
       "    <tr>\n",
       "      <th>1</th>\n",
       "      <td>2015-05-27</td>\n",
       "      <td>438.0</td>\n",
       "      <td>274</td>\n",
       "      <td>0.0</td>\n",
       "      <td>NaN</td>\n",
       "    </tr>\n",
       "    <tr>\n",
       "      <th>2</th>\n",
       "      <td>2015-05-28</td>\n",
       "      <td>223.4</td>\n",
       "      <td>406</td>\n",
       "      <td>0.0</td>\n",
       "      <td>NaN</td>\n",
       "    </tr>\n",
       "    <tr>\n",
       "      <th>3</th>\n",
       "      <td>2015-06-01</td>\n",
       "      <td>331.0</td>\n",
       "      <td>200</td>\n",
       "      <td>0.0</td>\n",
       "      <td>NaN</td>\n",
       "    </tr>\n",
       "    <tr>\n",
       "      <th>4</th>\n",
       "      <td>2015-06-02</td>\n",
       "      <td>157.8</td>\n",
       "      <td>178</td>\n",
       "      <td>0.0</td>\n",
       "      <td>NaN</td>\n",
       "    </tr>\n",
       "  </tbody>\n",
       "</table>\n",
       "</div>"
      ],
      "text/plain": [
       "         Date  Citywide Mean E Coli Level  Unnamed: 0  Rainfall (In)  \\\n",
       "0  2015-05-26                       147.8         390            0.0   \n",
       "1  2015-05-27                       438.0         274            0.0   \n",
       "2  2015-05-28                       223.4         406            0.0   \n",
       "3  2015-06-01                       331.0         200            0.0   \n",
       "4  2015-06-02                       157.8         178            0.0   \n",
       "\n",
       "   Rolling avg  \n",
       "0          NaN  \n",
       "1          NaN  \n",
       "2          NaN  \n",
       "3          NaN  \n",
       "4          NaN  "
      ]
     },
     "execution_count": 94,
     "metadata": {},
     "output_type": "execute_result"
    }
   ],
   "source": [
    "comparison = daily_dna_means.merge(Milwaukee, how=\"left\", on=\"Date\")\n",
    "comparison.head()"
   ]
  },
  {
   "cell_type": "code",
   "execution_count": 95,
   "metadata": {},
   "outputs": [],
   "source": [
    "for index, row in comparison.iterrows():\n",
    "\n",
    "    date = row[\"Date\"]\n",
    "    \n",
    "    formatted = datetime.datetime.strptime(date, \"%Y-%m-%d\")\n",
    "    \n",
    "    comparison.loc[index, \"year\"] = formatted.year"
   ]
  },
  {
   "cell_type": "code",
   "execution_count": 96,
   "metadata": {},
   "outputs": [],
   "source": [
    "comparison = comparison.loc[comparison[\"year\"]>=2018,:]"
   ]
  },
  {
   "cell_type": "code",
   "execution_count": 97,
   "metadata": {},
   "outputs": [
    {
     "data": {
      "text/html": [
       "<div>\n",
       "<style scoped>\n",
       "    .dataframe tbody tr th:only-of-type {\n",
       "        vertical-align: middle;\n",
       "    }\n",
       "\n",
       "    .dataframe tbody tr th {\n",
       "        vertical-align: top;\n",
       "    }\n",
       "\n",
       "    .dataframe thead th {\n",
       "        text-align: right;\n",
       "    }\n",
       "</style>\n",
       "<table border=\"1\" class=\"dataframe\">\n",
       "  <thead>\n",
       "    <tr style=\"text-align: right;\">\n",
       "      <th></th>\n",
       "      <th>Date</th>\n",
       "      <th>Citywide Mean E Coli Level</th>\n",
       "      <th>Unnamed: 0</th>\n",
       "      <th>Rainfall (In)</th>\n",
       "      <th>Rolling avg</th>\n",
       "      <th>year</th>\n",
       "    </tr>\n",
       "  </thead>\n",
       "  <tbody>\n",
       "    <tr>\n",
       "      <th>226</th>\n",
       "      <td>2018-05-25</td>\n",
       "      <td>472.625000</td>\n",
       "      <td>209</td>\n",
       "      <td>0.0</td>\n",
       "      <td>0.003333</td>\n",
       "      <td>2018.0</td>\n",
       "    </tr>\n",
       "    <tr>\n",
       "      <th>227</th>\n",
       "      <td>2018-05-26</td>\n",
       "      <td>699.316667</td>\n",
       "      <td>225</td>\n",
       "      <td>0.0</td>\n",
       "      <td>0.003333</td>\n",
       "      <td>2018.0</td>\n",
       "    </tr>\n",
       "    <tr>\n",
       "      <th>228</th>\n",
       "      <td>2018-05-27</td>\n",
       "      <td>603.900000</td>\n",
       "      <td>272</td>\n",
       "      <td>0.0</td>\n",
       "      <td>0.003333</td>\n",
       "      <td>2018.0</td>\n",
       "    </tr>\n",
       "    <tr>\n",
       "      <th>229</th>\n",
       "      <td>2018-05-28</td>\n",
       "      <td>234.240000</td>\n",
       "      <td>215</td>\n",
       "      <td>0.1</td>\n",
       "      <td>0.006667</td>\n",
       "      <td>2018.0</td>\n",
       "    </tr>\n",
       "    <tr>\n",
       "      <th>230</th>\n",
       "      <td>2018-05-29</td>\n",
       "      <td>257.550000</td>\n",
       "      <td>263</td>\n",
       "      <td>0.0</td>\n",
       "      <td>0.006667</td>\n",
       "      <td>2018.0</td>\n",
       "    </tr>\n",
       "  </tbody>\n",
       "</table>\n",
       "</div>"
      ],
      "text/plain": [
       "           Date  Citywide Mean E Coli Level  Unnamed: 0  Rainfall (In)  \\\n",
       "226  2018-05-25                  472.625000         209            0.0   \n",
       "227  2018-05-26                  699.316667         225            0.0   \n",
       "228  2018-05-27                  603.900000         272            0.0   \n",
       "229  2018-05-28                  234.240000         215            0.1   \n",
       "230  2018-05-29                  257.550000         263            0.0   \n",
       "\n",
       "     Rolling avg    year  \n",
       "226     0.003333  2018.0  \n",
       "227     0.003333  2018.0  \n",
       "228     0.003333  2018.0  \n",
       "229     0.006667  2018.0  \n",
       "230     0.006667  2018.0  "
      ]
     },
     "execution_count": 97,
     "metadata": {},
     "output_type": "execute_result"
    }
   ],
   "source": [
    "comparison.head()"
   ]
  },
  {
   "cell_type": "code",
   "execution_count": 98,
   "metadata": {},
   "outputs": [],
   "source": [
    "mke_x = comparison[\"Citywide Mean E Coli Level\"]\n",
    "mke_y = comparison[\"Rolling avg\"]"
   ]
  },
  {
   "cell_type": "code",
   "execution_count": 101,
   "metadata": {},
   "outputs": [
    {
     "data": {
      "text/plain": [
       "Text(5000, 0.06, 'y = -0.0x + 0.04')"
      ]
     },
     "execution_count": 101,
     "metadata": {},
     "output_type": "execute_result"
    },
    {
     "data": {
      "image/png": "[encoded data removed]",
      "text/plain": [
       "<Figure size 432x288 with 1 Axes>"
      ]
     },
     "metadata": {
      "needs_background": "light"
     },
     "output_type": "display_data"
    }
   ],
   "source": [
    "plt.scatter(mke_x, mke_y)\n",
    "plt.ylabel(\"10 day rolling avg rainfall\")\n",
    "plt.xlabel(\"citywide mean e coli\")\n",
    "\n",
    "(slope, intercept, rvalue, pvalue, stderr) = linregress(mke_x, mke_y)\n",
    "regress_values = mke_x * slope + intercept\n",
    "line_eq = \"y = \" + str(round(slope,3)) + \"x + \" + str(round(intercept,2))\n",
    "plt.plot(mke_x,regress_values,\"r-\")\n",
    "plt.annotate(line_eq,(5000,.06),fontsize=15,color=\"red\")"
   ]
  },
  {
   "cell_type": "code",
   "execution_count": 100,
   "metadata": {},
   "outputs": [
    {
     "data": {
      "text/plain": [
       "0.003924441437092657"
      ]
     },
     "execution_count": 100,
     "metadata": {},
     "output_type": "execute_result"
    }
   ],
   "source": [
    "pvalue"
   ]
  },
  {
   "cell_type": "code",
   "execution_count": 90,
   "metadata": {},
   "outputs": [
    {
     "data": {
      "text/plain": [
       "-5.352179223281711e-06"
      ]
     },
     "execution_count": 90,
     "metadata": {},
     "output_type": "execute_result"
    }
   ],
   "source": [
    "slope"
   ]
  },
  {
   "cell_type": "code",
   "execution_count": 51,
   "metadata": {},
   "outputs": [
    {
     "data": {
      "text/html": [
       "<div>\n",
       "<style scoped>\n",
       "    .dataframe tbody tr th:only-of-type {\n",
       "        vertical-align: middle;\n",
       "    }\n",
       "\n",
       "    .dataframe tbody tr th {\n",
       "        vertical-align: top;\n",
       "    }\n",
       "\n",
       "    .dataframe thead th {\n",
       "        text-align: right;\n",
       "    }\n",
       "</style>\n",
       "<table border=\"1\" class=\"dataframe\">\n",
       "  <thead>\n",
       "    <tr style=\"text-align: right;\">\n",
       "      <th></th>\n",
       "      <th>Date</th>\n",
       "      <th>Citywide Mean E Coli Level</th>\n",
       "      <th>datetime</th>\n",
       "    </tr>\n",
       "  </thead>\n",
       "  <tbody>\n",
       "    <tr>\n",
       "      <th>0</th>\n",
       "      <td>2015-05-26</td>\n",
       "      <td>147.8</td>\n",
       "      <td>2015-05-26</td>\n",
       "    </tr>\n",
       "    <tr>\n",
       "      <th>1</th>\n",
       "      <td>2015-05-27</td>\n",
       "      <td>438.0</td>\n",
       "      <td>2015-05-27</td>\n",
       "    </tr>\n",
       "    <tr>\n",
       "      <th>2</th>\n",
       "      <td>2015-05-28</td>\n",
       "      <td>223.4</td>\n",
       "      <td>2015-05-28</td>\n",
       "    </tr>\n",
       "    <tr>\n",
       "      <th>3</th>\n",
       "      <td>2015-06-01</td>\n",
       "      <td>331.0</td>\n",
       "      <td>2015-06-01</td>\n",
       "    </tr>\n",
       "    <tr>\n",
       "      <th>4</th>\n",
       "      <td>2015-06-02</td>\n",
       "      <td>157.8</td>\n",
       "      <td>2015-06-02</td>\n",
       "    </tr>\n",
       "  </tbody>\n",
       "</table>\n",
       "</div>"
      ],
      "text/plain": [
       "         Date  Citywide Mean E Coli Level   datetime\n",
       "0  2015-05-26                       147.8 2015-05-26\n",
       "1  2015-05-27                       438.0 2015-05-27\n",
       "2  2015-05-28                       223.4 2015-05-28\n",
       "3  2015-06-01                       331.0 2015-06-01\n",
       "4  2015-06-02                       157.8 2015-06-02"
      ]
     },
     "execution_count": 51,
     "metadata": {},
     "output_type": "execute_result"
    }
   ],
   "source": [
    "daily_dna_means.head()"
   ]
  },
  {
   "cell_type": "code",
   "execution_count": null,
   "metadata": {},
   "outputs": [],
   "source": []
  },
  {
   "cell_type": "code",
   "execution_count": 39,
   "metadata": {},
   "outputs": [],
   "source": [
    "for index, row in daily_dna_means.iterrows():\n",
    "\n",
    "    date = row[\"Date\"]\n",
    "    \n",
    "    formatted = datetime.datetime.strptime(date, \"%Y-%m-%d\")\n",
    "    \n",
    "    daily_dna_means.loc[index, \"datetime\"] = formatted"
   ]
  },
  {
   "cell_type": "code",
   "execution_count": 49,
   "metadata": {},
   "outputs": [
    {
     "data": {
      "text/plain": [
       "1"
      ]
     },
     "execution_count": 49,
     "metadata": {},
     "output_type": "execute_result"
    }
   ],
   "source": [
    " (daily_dna_means.loc[1,\"datetime\"] - daily_dna_means.loc[0,\"datetime\"]).days"
   ]
  },
  {
   "cell_type": "code",
   "execution_count": 50,
   "metadata": {},
   "outputs": [
    {
     "ename": "AttributeError",
     "evalue": "'Series' object has no attribute 'days'",
     "output_type": "error",
     "traceback": [
      "\u001b[0;31m---------------------------------------------------------------------------\u001b[0m",
      "\u001b[0;31mAttributeError\u001b[0m                            Traceback (most recent call last)",
      "\u001b[0;32m<ipython-input-50-b8234896bc51>\u001b[0m in \u001b[0;36m<module>\u001b[0;34m\u001b[0m\n\u001b[1;32m      1\u001b[0m \u001b[0mtoday\u001b[0m \u001b[0;34m=\u001b[0m \u001b[0mdaily_dna_means\u001b[0m\u001b[0;34m.\u001b[0m\u001b[0mloc\u001b[0m\u001b[0;34m[\u001b[0m\u001b[0;36m0\u001b[0m\u001b[0;34m,\u001b[0m\u001b[0;34m\"datetime\"\u001b[0m\u001b[0;34m]\u001b[0m\u001b[0;34m\u001b[0m\u001b[0;34m\u001b[0m\u001b[0m\n\u001b[1;32m      2\u001b[0m \u001b[0;34m\u001b[0m\u001b[0m\n\u001b[0;32m----> 3\u001b[0;31m \u001b[0mdaily_dna_means\u001b[0m\u001b[0;34m.\u001b[0m\u001b[0mloc\u001b[0m\u001b[0;34m[\u001b[0m\u001b[0;34m(\u001b[0m\u001b[0mdaily_dna_means\u001b[0m\u001b[0;34m[\u001b[0m\u001b[0;34m\"datetime\"\u001b[0m\u001b[0;34m]\u001b[0m \u001b[0;34m-\u001b[0m \u001b[0mtoday\u001b[0m\u001b[0;34m)\u001b[0m\u001b[0;34m.\u001b[0m\u001b[0mdays\u001b[0m \u001b[0;34m<=\u001b[0m\u001b[0;36m7\u001b[0m\u001b[0;34m,\u001b[0m\u001b[0;34m:\u001b[0m\u001b[0;34m]\u001b[0m\u001b[0;34m\u001b[0m\u001b[0;34m\u001b[0m\u001b[0m\n\u001b[0m\u001b[1;32m      4\u001b[0m \u001b[0;34m\u001b[0m\u001b[0m\n",
      "\u001b[0;32m~/opt/anaconda3/lib/python3.8/site-packages/pandas/core/generic.py\u001b[0m in \u001b[0;36m__getattr__\u001b[0;34m(self, name)\u001b[0m\n\u001b[1;32m   5137\u001b[0m             \u001b[0;32mif\u001b[0m \u001b[0mself\u001b[0m\u001b[0;34m.\u001b[0m\u001b[0m_info_axis\u001b[0m\u001b[0;34m.\u001b[0m\u001b[0m_can_hold_identifiers_and_holds_name\u001b[0m\u001b[0;34m(\u001b[0m\u001b[0mname\u001b[0m\u001b[0;34m)\u001b[0m\u001b[0;34m:\u001b[0m\u001b[0;34m\u001b[0m\u001b[0;34m\u001b[0m\u001b[0m\n\u001b[1;32m   5138\u001b[0m                 \u001b[0;32mreturn\u001b[0m \u001b[0mself\u001b[0m\u001b[0;34m[\u001b[0m\u001b[0mname\u001b[0m\u001b[0;34m]\u001b[0m\u001b[0;34m\u001b[0m\u001b[0;34m\u001b[0m\u001b[0m\n\u001b[0;32m-> 5139\u001b[0;31m             \u001b[0;32mreturn\u001b[0m \u001b[0mobject\u001b[0m\u001b[0;34m.\u001b[0m\u001b[0m__getattribute__\u001b[0m\u001b[0;34m(\u001b[0m\u001b[0mself\u001b[0m\u001b[0;34m,\u001b[0m \u001b[0mname\u001b[0m\u001b[0;34m)\u001b[0m\u001b[0;34m\u001b[0m\u001b[0;34m\u001b[0m\u001b[0m\n\u001b[0m\u001b[1;32m   5140\u001b[0m \u001b[0;34m\u001b[0m\u001b[0m\n\u001b[1;32m   5141\u001b[0m     \u001b[0;32mdef\u001b[0m \u001b[0m__setattr__\u001b[0m\u001b[0;34m(\u001b[0m\u001b[0mself\u001b[0m\u001b[0;34m,\u001b[0m \u001b[0mname\u001b[0m\u001b[0;34m:\u001b[0m \u001b[0mstr\u001b[0m\u001b[0;34m,\u001b[0m \u001b[0mvalue\u001b[0m\u001b[0;34m)\u001b[0m \u001b[0;34m->\u001b[0m \u001b[0;32mNone\u001b[0m\u001b[0;34m:\u001b[0m\u001b[0;34m\u001b[0m\u001b[0;34m\u001b[0m\u001b[0m\n",
      "\u001b[0;31mAttributeError\u001b[0m: 'Series' object has no attribute 'days'"
     ]
    }
   ],
   "source": [
    "today = daily_dna_means.loc[0,\"datetime\"]\n",
    "\n",
    "daily_dna_means.loc[(daily_dna_means[\"datetime\"] - today).days <=7,:]\n",
    "\n"
   ]
  },
  {
   "cell_type": "code",
   "execution_count": null,
   "metadata": {},
   "outputs": [],
   "source": [
    "for index, row in daily_dna_means.iterrows():\n",
    "    \n",
    "    today = row[\"datetime\"]\n",
    "    \n",
    "    week = [daily_dna_means.loc[(daily_dna_means[\"datetime\"]-today).days <=7,:]]\n",
    "    \n",
    "    avg = week[\"Citywide Mean E Coli Level\"].mean()\n",
    "    \n",
    "    daily_dna_means.loc[index, \"rolling 7 day avg\"] = avg"
   ]
  }
 ],
 "metadata": {
  "kernelspec": {
   "display_name": "Python 3",
   "language": "python",
   "name": "python3"
  },
  "language_info": {
   "codemirror_mode": {
    "name": "ipython",
    "version": 3
   },
   "file_extension": ".py",
   "mimetype": "text/x-python",
   "name": "python",
   "nbconvert_exporter": "python",
   "pygments_lexer": "ipython3",
   "version": "3.8.5"
  }
 },
 "nbformat": 4,
 "nbformat_minor": 4
}
