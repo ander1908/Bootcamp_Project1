{
 "cells": [
  {
   "cell_type": "code",
   "execution_count": 1,
   "metadata": {},
   "outputs": [],
   "source": [
    "#Adding Dependencies\n",
    "import matplotlib.pyplot as plt\n",
    "import pandas as pd\n",
    "import numpy as np\n",
    "import gmaps\n",
    "import os\n",
    "import datetime"
   ]
  },
  {
   "cell_type": "code",
   "execution_count": 2,
   "metadata": {},
   "outputs": [],
   "source": [
    "#Import both excel files\n",
    "culture_df = pd.read_csv('cleaned_date_culture_data.csv')\n",
    "dna_df = pd.read_csv('Cleaned_Date_Dna_Data.csv')"
   ]
  },
  {
   "cell_type": "code",
   "execution_count": 3,
   "metadata": {},
   "outputs": [],
   "source": [
    "#establish thresholds for the readings to \"closure levels\"\n",
    "#https://data.cityofchicago.org/Parks-Recreation/Beach-Lab-Data/2ivx-z93u/\n",
    "\n",
    "#Culture Threshold (CFU Colony Forming Units/ 100 ml of water)\n",
    "culture_thresh = 235\n",
    "\n",
    "#DNA Threshold (CCE calibrator Cell equivalents / 100 ml of water)\n",
    "dna_thresh = 1000"
   ]
  },
  {
   "cell_type": "code",
   "execution_count": 4,
   "metadata": {},
   "outputs": [],
   "source": [
    "#filter existing Dataframes to remove all acceptable days\n",
    "#Assume that the Mean was used for threshold analysis\n",
    "#Culture\n",
    "closure_cult_df = culture_df[culture_df[\"Culture Reading Mean\"] >= culture_thresh]\n",
    "\n",
    "#DNA\n",
    "closure_dna_df = dna_df[dna_df[\"DNA Reading Mean\"] >= dna_thresh]"
   ]
  },
  {
   "cell_type": "code",
   "execution_count": 5,
   "metadata": {},
   "outputs": [
    {
     "data": {
      "text/html": [
       "<div>\n",
       "<style scoped>\n",
       "    .dataframe tbody tr th:only-of-type {\n",
       "        vertical-align: middle;\n",
       "    }\n",
       "\n",
       "    .dataframe tbody tr th {\n",
       "        vertical-align: top;\n",
       "    }\n",
       "\n",
       "    .dataframe thead th {\n",
       "        text-align: right;\n",
       "    }\n",
       "</style>\n",
       "<table border=\"1\" class=\"dataframe\">\n",
       "  <thead>\n",
       "    <tr style=\"text-align: right;\">\n",
       "      <th></th>\n",
       "      <th>Unnamed: 0</th>\n",
       "      <th>Culture Test ID</th>\n",
       "      <th>Culture Sample 1 Timestamp</th>\n",
       "      <th>Beach</th>\n",
       "      <th>Culture Sample 1 Reading</th>\n",
       "      <th>Culture Sample 2 Reading</th>\n",
       "      <th>Culture Reading Mean</th>\n",
       "      <th>Latitude</th>\n",
       "      <th>Longitude</th>\n",
       "      <th>Sample Date</th>\n",
       "      <th>Sample Time</th>\n",
       "    </tr>\n",
       "  </thead>\n",
       "  <tbody>\n",
       "    <tr>\n",
       "      <th>1</th>\n",
       "      <td>2374</td>\n",
       "      <td>112689.0</td>\n",
       "      <td>2016-06-01 07:15:00</td>\n",
       "      <td>Calumet</td>\n",
       "      <td>629.0</td>\n",
       "      <td>1300.0</td>\n",
       "      <td>904.3</td>\n",
       "      <td>41.7142</td>\n",
       "      <td>-87.5299</td>\n",
       "      <td>2016-06-01</td>\n",
       "      <td>07:15:00</td>\n",
       "    </tr>\n",
       "    <tr>\n",
       "      <th>2</th>\n",
       "      <td>2375</td>\n",
       "      <td>112669.0</td>\n",
       "      <td>2016-06-01 08:00:00</td>\n",
       "      <td>Calumet</td>\n",
       "      <td>345.0</td>\n",
       "      <td>517.0</td>\n",
       "      <td>422.3</td>\n",
       "      <td>41.7142</td>\n",
       "      <td>-87.5299</td>\n",
       "      <td>2016-06-01</td>\n",
       "      <td>08:00:00</td>\n",
       "    </tr>\n",
       "    <tr>\n",
       "      <th>4</th>\n",
       "      <td>4983</td>\n",
       "      <td>93134.0</td>\n",
       "      <td>2015-07-07 00:00:00</td>\n",
       "      <td>Leone</td>\n",
       "      <td>727.0</td>\n",
       "      <td>727.0</td>\n",
       "      <td>727.0</td>\n",
       "      <td>42.0131</td>\n",
       "      <td>-87.6635</td>\n",
       "      <td>2015-07-07</td>\n",
       "      <td>00:00:00</td>\n",
       "    </tr>\n",
       "    <tr>\n",
       "      <th>13</th>\n",
       "      <td>4993</td>\n",
       "      <td>105382.0</td>\n",
       "      <td>2014-07-15 00:00:00</td>\n",
       "      <td>63rd Street</td>\n",
       "      <td>1414.0</td>\n",
       "      <td>1300.0</td>\n",
       "      <td>1355.8</td>\n",
       "      <td>41.7827</td>\n",
       "      <td>-87.5748</td>\n",
       "      <td>2014-07-15</td>\n",
       "      <td>00:00:00</td>\n",
       "    </tr>\n",
       "    <tr>\n",
       "      <th>18</th>\n",
       "      <td>4999</td>\n",
       "      <td>95242.0</td>\n",
       "      <td>2015-06-02 00:00:00</td>\n",
       "      <td>South Shore</td>\n",
       "      <td>291.0</td>\n",
       "      <td>328.0</td>\n",
       "      <td>308.9</td>\n",
       "      <td>41.7689</td>\n",
       "      <td>-87.5636</td>\n",
       "      <td>2015-06-02</td>\n",
       "      <td>00:00:00</td>\n",
       "    </tr>\n",
       "  </tbody>\n",
       "</table>\n",
       "</div>"
      ],
      "text/plain": [
       "    Unnamed: 0  Culture Test ID Culture Sample 1 Timestamp        Beach  \\\n",
       "1         2374         112689.0        2016-06-01 07:15:00      Calumet   \n",
       "2         2375         112669.0        2016-06-01 08:00:00      Calumet   \n",
       "4         4983          93134.0        2015-07-07 00:00:00        Leone   \n",
       "13        4993         105382.0        2014-07-15 00:00:00  63rd Street   \n",
       "18        4999          95242.0        2015-06-02 00:00:00  South Shore   \n",
       "\n",
       "    Culture Sample 1 Reading  Culture Sample 2 Reading  Culture Reading Mean  \\\n",
       "1                      629.0                    1300.0                 904.3   \n",
       "2                      345.0                     517.0                 422.3   \n",
       "4                      727.0                     727.0                 727.0   \n",
       "13                    1414.0                    1300.0                1355.8   \n",
       "18                     291.0                     328.0                 308.9   \n",
       "\n",
       "    Latitude  Longitude Sample Date Sample Time  \n",
       "1    41.7142   -87.5299  2016-06-01    07:15:00  \n",
       "2    41.7142   -87.5299  2016-06-01    08:00:00  \n",
       "4    42.0131   -87.6635  2015-07-07    00:00:00  \n",
       "13   41.7827   -87.5748  2014-07-15    00:00:00  \n",
       "18   41.7689   -87.5636  2015-06-02    00:00:00  "
      ]
     },
     "execution_count": 5,
     "metadata": {},
     "output_type": "execute_result"
    }
   ],
   "source": [
    "#test\n",
    "closure_cult_df.head()"
   ]
  },
  {
   "cell_type": "code",
   "execution_count": 6,
   "metadata": {},
   "outputs": [
    {
     "data": {
      "text/html": [
       "<div>\n",
       "<style scoped>\n",
       "    .dataframe tbody tr th:only-of-type {\n",
       "        vertical-align: middle;\n",
       "    }\n",
       "\n",
       "    .dataframe tbody tr th {\n",
       "        vertical-align: top;\n",
       "    }\n",
       "\n",
       "    .dataframe thead th {\n",
       "        text-align: right;\n",
       "    }\n",
       "</style>\n",
       "<table border=\"1\" class=\"dataframe\">\n",
       "  <thead>\n",
       "    <tr style=\"text-align: right;\">\n",
       "      <th></th>\n",
       "      <th>Unnamed: 0</th>\n",
       "      <th>DNA Test ID</th>\n",
       "      <th>DNA Sample Timestamp</th>\n",
       "      <th>Beach</th>\n",
       "      <th>DNA Sample 1 Reading</th>\n",
       "      <th>DNA Sample 2 Reading</th>\n",
       "      <th>DNA Reading Mean</th>\n",
       "      <th>Latitude</th>\n",
       "      <th>Longitude</th>\n",
       "      <th>Sample Date</th>\n",
       "      <th>Sample Time</th>\n",
       "    </tr>\n",
       "  </thead>\n",
       "  <tbody>\n",
       "    <tr>\n",
       "      <th>39</th>\n",
       "      <td>53</td>\n",
       "      <td>13778.0</td>\n",
       "      <td>2020-07-08 00:00:00</td>\n",
       "      <td>Oak Street</td>\n",
       "      <td>2560.0</td>\n",
       "      <td>3001.0</td>\n",
       "      <td>2771.7</td>\n",
       "      <td>41.9032</td>\n",
       "      <td>-87.6235</td>\n",
       "      <td>2020-07-08</td>\n",
       "      <td>00:00:00</td>\n",
       "    </tr>\n",
       "    <tr>\n",
       "      <th>40</th>\n",
       "      <td>54</td>\n",
       "      <td>13785.0</td>\n",
       "      <td>2020-07-06 12:52:00</td>\n",
       "      <td>North Avenue</td>\n",
       "      <td>1651.0</td>\n",
       "      <td>1928.0</td>\n",
       "      <td>1784.1</td>\n",
       "      <td>41.9148</td>\n",
       "      <td>-87.6273</td>\n",
       "      <td>2020-07-06</td>\n",
       "      <td>12:52:00</td>\n",
       "    </tr>\n",
       "    <tr>\n",
       "      <th>50</th>\n",
       "      <td>64</td>\n",
       "      <td>13800.0</td>\n",
       "      <td>2020-07-06 12:51:00</td>\n",
       "      <td>South Shore</td>\n",
       "      <td>930.0</td>\n",
       "      <td>2143.0</td>\n",
       "      <td>1411.7</td>\n",
       "      <td>41.7689</td>\n",
       "      <td>-87.5636</td>\n",
       "      <td>2020-07-06</td>\n",
       "      <td>12:51:00</td>\n",
       "    </tr>\n",
       "    <tr>\n",
       "      <th>58</th>\n",
       "      <td>72</td>\n",
       "      <td>13797.0</td>\n",
       "      <td>2020-07-08 00:00:00</td>\n",
       "      <td>North Avenue</td>\n",
       "      <td>1651.0</td>\n",
       "      <td>1928.0</td>\n",
       "      <td>1784.1</td>\n",
       "      <td>41.9148</td>\n",
       "      <td>-87.6273</td>\n",
       "      <td>2020-07-08</td>\n",
       "      <td>00:00:00</td>\n",
       "    </tr>\n",
       "    <tr>\n",
       "      <th>59</th>\n",
       "      <td>73</td>\n",
       "      <td>13774.0</td>\n",
       "      <td>2020-07-08 00:00:00</td>\n",
       "      <td>South Shore</td>\n",
       "      <td>930.0</td>\n",
       "      <td>2143.0</td>\n",
       "      <td>1411.7</td>\n",
       "      <td>41.7689</td>\n",
       "      <td>-87.5636</td>\n",
       "      <td>2020-07-08</td>\n",
       "      <td>00:00:00</td>\n",
       "    </tr>\n",
       "  </tbody>\n",
       "</table>\n",
       "</div>"
      ],
      "text/plain": [
       "    Unnamed: 0  DNA Test ID DNA Sample Timestamp         Beach  \\\n",
       "39          53      13778.0  2020-07-08 00:00:00    Oak Street   \n",
       "40          54      13785.0  2020-07-06 12:52:00  North Avenue   \n",
       "50          64      13800.0  2020-07-06 12:51:00   South Shore   \n",
       "58          72      13797.0  2020-07-08 00:00:00  North Avenue   \n",
       "59          73      13774.0  2020-07-08 00:00:00   South Shore   \n",
       "\n",
       "    DNA Sample 1 Reading  DNA Sample 2 Reading  DNA Reading Mean  Latitude  \\\n",
       "39                2560.0                3001.0            2771.7   41.9032   \n",
       "40                1651.0                1928.0            1784.1   41.9148   \n",
       "50                 930.0                2143.0            1411.7   41.7689   \n",
       "58                1651.0                1928.0            1784.1   41.9148   \n",
       "59                 930.0                2143.0            1411.7   41.7689   \n",
       "\n",
       "    Longitude Sample Date Sample Time  \n",
       "39   -87.6235  2020-07-08    00:00:00  \n",
       "40   -87.6273  2020-07-06    12:52:00  \n",
       "50   -87.5636  2020-07-06    12:51:00  \n",
       "58   -87.6273  2020-07-08    00:00:00  \n",
       "59   -87.5636  2020-07-08    00:00:00  "
      ]
     },
     "execution_count": 6,
     "metadata": {},
     "output_type": "execute_result"
    }
   ],
   "source": [
    "#test\n",
    "closure_dna_df.head()"
   ]
  },
  {
   "cell_type": "code",
   "execution_count": 7,
   "metadata": {},
   "outputs": [
    {
     "name": "stderr",
     "output_type": "stream",
     "text": [
      "<ipython-input-7-cb0dbec98916>:1: SettingWithCopyWarning: \n",
      "A value is trying to be set on a copy of a slice from a DataFrame.\n",
      "Try using .loc[row_indexer,col_indexer] = value instead\n",
      "\n",
      "See the caveats in the documentation: https://pandas.pydata.org/pandas-docs/stable/user_guide/indexing.html#returning-a-view-versus-a-copy\n",
      "  closure_dna_df[\"Sample Month\"]= \"\"\n"
     ]
    }
   ],
   "source": [
    "closure_dna_df[\"Sample Month\"]= \"\"\n",
    "\n"
   ]
  },
  {
   "cell_type": "code",
   "execution_count": 8,
   "metadata": {},
   "outputs": [
    {
     "name": "stderr",
     "output_type": "stream",
     "text": [
      "<ipython-input-8-1015df23f19a>:1: SettingWithCopyWarning: \n",
      "A value is trying to be set on a copy of a slice from a DataFrame.\n",
      "Try using .loc[row_indexer,col_indexer] = value instead\n",
      "\n",
      "See the caveats in the documentation: https://pandas.pydata.org/pandas-docs/stable/user_guide/indexing.html#returning-a-view-versus-a-copy\n",
      "  closure_cult_df[\"Sample Month\"]=\"\"\n"
     ]
    }
   ],
   "source": [
    "closure_cult_df[\"Sample Month\"]=\"\""
   ]
  },
  {
   "cell_type": "code",
   "execution_count": 9,
   "metadata": {},
   "outputs": [
    {
     "name": "stderr",
     "output_type": "stream",
     "text": [
      "<ipython-input-9-dc6b9ff97e9c>:1: SettingWithCopyWarning: \n",
      "A value is trying to be set on a copy of a slice from a DataFrame.\n",
      "Try using .loc[row_indexer,col_indexer] = value instead\n",
      "\n",
      "See the caveats in the documentation: https://pandas.pydata.org/pandas-docs/stable/user_guide/indexing.html#returning-a-view-versus-a-copy\n",
      "  closure_dna_df[\"Sample Month\"]= pd.DatetimeIndex(closure_dna_df[\"Sample Date\"]).month\n"
     ]
    },
    {
     "data": {
      "text/html": [
       "<div>\n",
       "<style scoped>\n",
       "    .dataframe tbody tr th:only-of-type {\n",
       "        vertical-align: middle;\n",
       "    }\n",
       "\n",
       "    .dataframe tbody tr th {\n",
       "        vertical-align: top;\n",
       "    }\n",
       "\n",
       "    .dataframe thead th {\n",
       "        text-align: right;\n",
       "    }\n",
       "</style>\n",
       "<table border=\"1\" class=\"dataframe\">\n",
       "  <thead>\n",
       "    <tr style=\"text-align: right;\">\n",
       "      <th></th>\n",
       "      <th>Unnamed: 0</th>\n",
       "      <th>DNA Test ID</th>\n",
       "      <th>DNA Sample Timestamp</th>\n",
       "      <th>Beach</th>\n",
       "      <th>DNA Sample 1 Reading</th>\n",
       "      <th>DNA Sample 2 Reading</th>\n",
       "      <th>DNA Reading Mean</th>\n",
       "      <th>Latitude</th>\n",
       "      <th>Longitude</th>\n",
       "      <th>Sample Date</th>\n",
       "      <th>Sample Time</th>\n",
       "      <th>Sample Month</th>\n",
       "    </tr>\n",
       "  </thead>\n",
       "  <tbody>\n",
       "    <tr>\n",
       "      <th>39</th>\n",
       "      <td>53</td>\n",
       "      <td>13778.0</td>\n",
       "      <td>2020-07-08 00:00:00</td>\n",
       "      <td>Oak Street</td>\n",
       "      <td>2560.0</td>\n",
       "      <td>3001.0</td>\n",
       "      <td>2771.7</td>\n",
       "      <td>41.9032</td>\n",
       "      <td>-87.6235</td>\n",
       "      <td>2020-07-08</td>\n",
       "      <td>00:00:00</td>\n",
       "      <td>7</td>\n",
       "    </tr>\n",
       "    <tr>\n",
       "      <th>40</th>\n",
       "      <td>54</td>\n",
       "      <td>13785.0</td>\n",
       "      <td>2020-07-06 12:52:00</td>\n",
       "      <td>North Avenue</td>\n",
       "      <td>1651.0</td>\n",
       "      <td>1928.0</td>\n",
       "      <td>1784.1</td>\n",
       "      <td>41.9148</td>\n",
       "      <td>-87.6273</td>\n",
       "      <td>2020-07-06</td>\n",
       "      <td>12:52:00</td>\n",
       "      <td>7</td>\n",
       "    </tr>\n",
       "    <tr>\n",
       "      <th>50</th>\n",
       "      <td>64</td>\n",
       "      <td>13800.0</td>\n",
       "      <td>2020-07-06 12:51:00</td>\n",
       "      <td>South Shore</td>\n",
       "      <td>930.0</td>\n",
       "      <td>2143.0</td>\n",
       "      <td>1411.7</td>\n",
       "      <td>41.7689</td>\n",
       "      <td>-87.5636</td>\n",
       "      <td>2020-07-06</td>\n",
       "      <td>12:51:00</td>\n",
       "      <td>7</td>\n",
       "    </tr>\n",
       "    <tr>\n",
       "      <th>58</th>\n",
       "      <td>72</td>\n",
       "      <td>13797.0</td>\n",
       "      <td>2020-07-08 00:00:00</td>\n",
       "      <td>North Avenue</td>\n",
       "      <td>1651.0</td>\n",
       "      <td>1928.0</td>\n",
       "      <td>1784.1</td>\n",
       "      <td>41.9148</td>\n",
       "      <td>-87.6273</td>\n",
       "      <td>2020-07-08</td>\n",
       "      <td>00:00:00</td>\n",
       "      <td>7</td>\n",
       "    </tr>\n",
       "    <tr>\n",
       "      <th>59</th>\n",
       "      <td>73</td>\n",
       "      <td>13774.0</td>\n",
       "      <td>2020-07-08 00:00:00</td>\n",
       "      <td>South Shore</td>\n",
       "      <td>930.0</td>\n",
       "      <td>2143.0</td>\n",
       "      <td>1411.7</td>\n",
       "      <td>41.7689</td>\n",
       "      <td>-87.5636</td>\n",
       "      <td>2020-07-08</td>\n",
       "      <td>00:00:00</td>\n",
       "      <td>7</td>\n",
       "    </tr>\n",
       "  </tbody>\n",
       "</table>\n",
       "</div>"
      ],
      "text/plain": [
       "    Unnamed: 0  DNA Test ID DNA Sample Timestamp         Beach  \\\n",
       "39          53      13778.0  2020-07-08 00:00:00    Oak Street   \n",
       "40          54      13785.0  2020-07-06 12:52:00  North Avenue   \n",
       "50          64      13800.0  2020-07-06 12:51:00   South Shore   \n",
       "58          72      13797.0  2020-07-08 00:00:00  North Avenue   \n",
       "59          73      13774.0  2020-07-08 00:00:00   South Shore   \n",
       "\n",
       "    DNA Sample 1 Reading  DNA Sample 2 Reading  DNA Reading Mean  Latitude  \\\n",
       "39                2560.0                3001.0            2771.7   41.9032   \n",
       "40                1651.0                1928.0            1784.1   41.9148   \n",
       "50                 930.0                2143.0            1411.7   41.7689   \n",
       "58                1651.0                1928.0            1784.1   41.9148   \n",
       "59                 930.0                2143.0            1411.7   41.7689   \n",
       "\n",
       "    Longitude Sample Date Sample Time  Sample Month  \n",
       "39   -87.6235  2020-07-08    00:00:00             7  \n",
       "40   -87.6273  2020-07-06    12:52:00             7  \n",
       "50   -87.5636  2020-07-06    12:51:00             7  \n",
       "58   -87.6273  2020-07-08    00:00:00             7  \n",
       "59   -87.5636  2020-07-08    00:00:00             7  "
      ]
     },
     "execution_count": 9,
     "metadata": {},
     "output_type": "execute_result"
    }
   ],
   "source": [
    "closure_dna_df[\"Sample Month\"]= pd.DatetimeIndex(closure_dna_df[\"Sample Date\"]).month\n",
    "closure_dna_df.head()"
   ]
  },
  {
   "cell_type": "code",
   "execution_count": 28,
   "metadata": {},
   "outputs": [
    {
     "name": "stderr",
     "output_type": "stream",
     "text": [
      "<ipython-input-28-a4c1dc6707e5>:1: SettingWithCopyWarning: \n",
      "A value is trying to be set on a copy of a slice from a DataFrame.\n",
      "Try using .loc[row_indexer,col_indexer] = value instead\n",
      "\n",
      "See the caveats in the documentation: https://pandas.pydata.org/pandas-docs/stable/user_guide/indexing.html#returning-a-view-versus-a-copy\n",
      "  closure_cult_df[\"Sample Month\"]= pd.DatetimeIndex(closure_cult_df[\"Sample Date\"]).month\n"
     ]
    },
    {
     "data": {
      "text/html": [
       "<div>\n",
       "<style scoped>\n",
       "    .dataframe tbody tr th:only-of-type {\n",
       "        vertical-align: middle;\n",
       "    }\n",
       "\n",
       "    .dataframe tbody tr th {\n",
       "        vertical-align: top;\n",
       "    }\n",
       "\n",
       "    .dataframe thead th {\n",
       "        text-align: right;\n",
       "    }\n",
       "</style>\n",
       "<table border=\"1\" class=\"dataframe\">\n",
       "  <thead>\n",
       "    <tr style=\"text-align: right;\">\n",
       "      <th></th>\n",
       "      <th>Unnamed: 0</th>\n",
       "      <th>Culture Test ID</th>\n",
       "      <th>Culture Sample 1 Timestamp</th>\n",
       "      <th>Beach</th>\n",
       "      <th>Culture Sample 1 Reading</th>\n",
       "      <th>Culture Sample 2 Reading</th>\n",
       "      <th>Culture Reading Mean</th>\n",
       "      <th>Latitude</th>\n",
       "      <th>Longitude</th>\n",
       "      <th>Sample Date</th>\n",
       "      <th>Sample Time</th>\n",
       "      <th>Sample Month</th>\n",
       "    </tr>\n",
       "  </thead>\n",
       "  <tbody>\n",
       "    <tr>\n",
       "      <th>1</th>\n",
       "      <td>2374</td>\n",
       "      <td>112689.0</td>\n",
       "      <td>2016-06-01 07:15:00</td>\n",
       "      <td>Calumet</td>\n",
       "      <td>629.0</td>\n",
       "      <td>1300.0</td>\n",
       "      <td>904.3</td>\n",
       "      <td>41.7142</td>\n",
       "      <td>-87.5299</td>\n",
       "      <td>2016-06-01</td>\n",
       "      <td>07:15:00</td>\n",
       "      <td>6</td>\n",
       "    </tr>\n",
       "    <tr>\n",
       "      <th>2</th>\n",
       "      <td>2375</td>\n",
       "      <td>112669.0</td>\n",
       "      <td>2016-06-01 08:00:00</td>\n",
       "      <td>Calumet</td>\n",
       "      <td>345.0</td>\n",
       "      <td>517.0</td>\n",
       "      <td>422.3</td>\n",
       "      <td>41.7142</td>\n",
       "      <td>-87.5299</td>\n",
       "      <td>2016-06-01</td>\n",
       "      <td>08:00:00</td>\n",
       "      <td>6</td>\n",
       "    </tr>\n",
       "    <tr>\n",
       "      <th>4</th>\n",
       "      <td>4983</td>\n",
       "      <td>93134.0</td>\n",
       "      <td>2015-07-07 00:00:00</td>\n",
       "      <td>Leone</td>\n",
       "      <td>727.0</td>\n",
       "      <td>727.0</td>\n",
       "      <td>727.0</td>\n",
       "      <td>42.0131</td>\n",
       "      <td>-87.6635</td>\n",
       "      <td>2015-07-07</td>\n",
       "      <td>00:00:00</td>\n",
       "      <td>7</td>\n",
       "    </tr>\n",
       "    <tr>\n",
       "      <th>13</th>\n",
       "      <td>4993</td>\n",
       "      <td>105382.0</td>\n",
       "      <td>2014-07-15 00:00:00</td>\n",
       "      <td>63rd Street</td>\n",
       "      <td>1414.0</td>\n",
       "      <td>1300.0</td>\n",
       "      <td>1355.8</td>\n",
       "      <td>41.7827</td>\n",
       "      <td>-87.5748</td>\n",
       "      <td>2014-07-15</td>\n",
       "      <td>00:00:00</td>\n",
       "      <td>7</td>\n",
       "    </tr>\n",
       "    <tr>\n",
       "      <th>18</th>\n",
       "      <td>4999</td>\n",
       "      <td>95242.0</td>\n",
       "      <td>2015-06-02 00:00:00</td>\n",
       "      <td>South Shore</td>\n",
       "      <td>291.0</td>\n",
       "      <td>328.0</td>\n",
       "      <td>308.9</td>\n",
       "      <td>41.7689</td>\n",
       "      <td>-87.5636</td>\n",
       "      <td>2015-06-02</td>\n",
       "      <td>00:00:00</td>\n",
       "      <td>6</td>\n",
       "    </tr>\n",
       "  </tbody>\n",
       "</table>\n",
       "</div>"
      ],
      "text/plain": [
       "    Unnamed: 0  Culture Test ID Culture Sample 1 Timestamp        Beach  \\\n",
       "1         2374         112689.0        2016-06-01 07:15:00      Calumet   \n",
       "2         2375         112669.0        2016-06-01 08:00:00      Calumet   \n",
       "4         4983          93134.0        2015-07-07 00:00:00        Leone   \n",
       "13        4993         105382.0        2014-07-15 00:00:00  63rd Street   \n",
       "18        4999          95242.0        2015-06-02 00:00:00  South Shore   \n",
       "\n",
       "    Culture Sample 1 Reading  Culture Sample 2 Reading  Culture Reading Mean  \\\n",
       "1                      629.0                    1300.0                 904.3   \n",
       "2                      345.0                     517.0                 422.3   \n",
       "4                      727.0                     727.0                 727.0   \n",
       "13                    1414.0                    1300.0                1355.8   \n",
       "18                     291.0                     328.0                 308.9   \n",
       "\n",
       "    Latitude  Longitude Sample Date Sample Time  Sample Month  \n",
       "1    41.7142   -87.5299  2016-06-01    07:15:00             6  \n",
       "2    41.7142   -87.5299  2016-06-01    08:00:00             6  \n",
       "4    42.0131   -87.6635  2015-07-07    00:00:00             7  \n",
       "13   41.7827   -87.5748  2014-07-15    00:00:00             7  \n",
       "18   41.7689   -87.5636  2015-06-02    00:00:00             6  "
      ]
     },
     "execution_count": 28,
     "metadata": {},
     "output_type": "execute_result"
    }
   ],
   "source": [
    "closure_cult_df[\"Sample Month\"]= pd.DatetimeIndex(closure_cult_df[\"Sample Date\"]).month\n",
    "closure_cult_df.head()"
   ]
  },
  {
   "cell_type": "code",
   "execution_count": 29,
   "metadata": {},
   "outputs": [
    {
     "name": "stdout",
     "output_type": "stream",
     "text": [
      "Sample Month\n",
      "5    161\n",
      "6    515\n",
      "7    659\n",
      "8    719\n",
      "9     62\n",
      "Name: Culture Test ID, dtype: int64\n"
     ]
    },
    {
     "data": {
      "text/html": [
       "<div>\n",
       "<style scoped>\n",
       "    .dataframe tbody tr th:only-of-type {\n",
       "        vertical-align: middle;\n",
       "    }\n",
       "\n",
       "    .dataframe tbody tr th {\n",
       "        vertical-align: top;\n",
       "    }\n",
       "\n",
       "    .dataframe thead th {\n",
       "        text-align: right;\n",
       "    }\n",
       "</style>\n",
       "<table border=\"1\" class=\"dataframe\">\n",
       "  <thead>\n",
       "    <tr style=\"text-align: right;\">\n",
       "      <th></th>\n",
       "      <th>Culture Test ID</th>\n",
       "    </tr>\n",
       "    <tr>\n",
       "      <th>Sample Month</th>\n",
       "      <th></th>\n",
       "    </tr>\n",
       "  </thead>\n",
       "  <tbody>\n",
       "    <tr>\n",
       "      <th>5</th>\n",
       "      <td>161</td>\n",
       "    </tr>\n",
       "    <tr>\n",
       "      <th>6</th>\n",
       "      <td>515</td>\n",
       "    </tr>\n",
       "    <tr>\n",
       "      <th>7</th>\n",
       "      <td>659</td>\n",
       "    </tr>\n",
       "    <tr>\n",
       "      <th>8</th>\n",
       "      <td>719</td>\n",
       "    </tr>\n",
       "    <tr>\n",
       "      <th>9</th>\n",
       "      <td>62</td>\n",
       "    </tr>\n",
       "  </tbody>\n",
       "</table>\n",
       "</div>"
      ],
      "text/plain": [
       "              Culture Test ID\n",
       "Sample Month                 \n",
       "5                         161\n",
       "6                         515\n",
       "7                         659\n",
       "8                         719\n",
       "9                          62"
      ]
     },
     "execution_count": 29,
     "metadata": {},
     "output_type": "execute_result"
    }
   ],
   "source": [
    "\n",
    "cl_cult_group=closure_cult_df.groupby(\"Sample Month\")[\"Culture Test ID\"].count()\n",
    "print(cl_cult_group)\n",
    "cl_cult_group_df=pd.DataFrame(cl_cult_group)\n",
    "cl_cult_group_df"
   ]
  },
  {
   "cell_type": "code",
   "execution_count": 30,
   "metadata": {},
   "outputs": [
    {
     "name": "stdout",
     "output_type": "stream",
     "text": [
      "Sample Month\n",
      "5     28\n",
      "6    156\n",
      "7    289\n",
      "8    182\n",
      "9     21\n",
      "Name: DNA Test ID, dtype: int64\n"
     ]
    },
    {
     "data": {
      "text/html": [
       "<div>\n",
       "<style scoped>\n",
       "    .dataframe tbody tr th:only-of-type {\n",
       "        vertical-align: middle;\n",
       "    }\n",
       "\n",
       "    .dataframe tbody tr th {\n",
       "        vertical-align: top;\n",
       "    }\n",
       "\n",
       "    .dataframe thead th {\n",
       "        text-align: right;\n",
       "    }\n",
       "</style>\n",
       "<table border=\"1\" class=\"dataframe\">\n",
       "  <thead>\n",
       "    <tr style=\"text-align: right;\">\n",
       "      <th></th>\n",
       "      <th>DNA Test ID</th>\n",
       "    </tr>\n",
       "    <tr>\n",
       "      <th>Sample Month</th>\n",
       "      <th></th>\n",
       "    </tr>\n",
       "  </thead>\n",
       "  <tbody>\n",
       "    <tr>\n",
       "      <th>5</th>\n",
       "      <td>28</td>\n",
       "    </tr>\n",
       "    <tr>\n",
       "      <th>6</th>\n",
       "      <td>156</td>\n",
       "    </tr>\n",
       "    <tr>\n",
       "      <th>7</th>\n",
       "      <td>289</td>\n",
       "    </tr>\n",
       "    <tr>\n",
       "      <th>8</th>\n",
       "      <td>182</td>\n",
       "    </tr>\n",
       "    <tr>\n",
       "      <th>9</th>\n",
       "      <td>21</td>\n",
       "    </tr>\n",
       "  </tbody>\n",
       "</table>\n",
       "</div>"
      ],
      "text/plain": [
       "              DNA Test ID\n",
       "Sample Month             \n",
       "5                      28\n",
       "6                     156\n",
       "7                     289\n",
       "8                     182\n",
       "9                      21"
      ]
     },
     "execution_count": 30,
     "metadata": {},
     "output_type": "execute_result"
    }
   ],
   "source": [
    "cl_dna_group=closure_dna_df.groupby(\"Sample Month\")[\"DNA Test ID\"].count()\n",
    "print(cl_dna_group)\n",
    "cl_dna_group_df=pd.DataFrame(cl_dna_group)\n",
    "cl_dna_group_df\n"
   ]
  },
  {
   "cell_type": "code",
   "execution_count": null,
   "metadata": {},
   "outputs": [],
   "source": []
  },
  {
   "cell_type": "code",
   "execution_count": 13,
   "metadata": {},
   "outputs": [],
   "source": [
    "#closure counts per month"
   ]
  },
  {
   "cell_type": "code",
   "execution_count": 14,
   "metadata": {},
   "outputs": [],
   "source": [
    "#set up bins for the months of the year\n",
    "#bins would be equivalent for both, reading timestamps the same\n",
    "\n",
    "month_labels = [ \"January\",\n",
    "              \"February\",\n",
    "              \"March\",\n",
    "              \"April\",\n",
    "              \"May\",\n",
    "              \"June\",\n",
    "              \"July\",\n",
    "              \"August\",\n",
    "              \"September\",\n",
    "              \"October\",\n",
    "              \"November\",\n",
    "              \"December\"]\n",
    "\n",
    "summer_labels= [\"May\",\n",
    "              \"June\",\n",
    "              \"July\",\n",
    "              \"August\",\n",
    "              \"September\"]"
   ]
  },
  {
   "cell_type": "code",
   "execution_count": null,
   "metadata": {},
   "outputs": [],
   "source": []
  },
  {
   "cell_type": "code",
   "execution_count": null,
   "metadata": {},
   "outputs": [],
   "source": []
  },
  {
   "cell_type": "code",
   "execution_count": null,
   "metadata": {},
   "outputs": [],
   "source": []
  },
  {
   "cell_type": "code",
   "execution_count": null,
   "metadata": {},
   "outputs": [],
   "source": []
  },
  {
   "cell_type": "code",
   "execution_count": null,
   "metadata": {},
   "outputs": [],
   "source": []
  },
  {
   "cell_type": "code",
   "execution_count": 15,
   "metadata": {},
   "outputs": [
    {
     "data": {
      "text/plain": [
       "Text(0, 0.5, 'Days exceeding Threshold')"
      ]
     },
     "execution_count": 15,
     "metadata": {},
     "output_type": "execute_result"
    },
    {
     "data": {
      "image/png": "[encoded data removed]",
      "text/plain": [
       "<Figure size 432x288 with 1 Axes>"
      ]
     },
     "metadata": {
      "needs_background": "light"
     },
     "output_type": "display_data"
    }
   ],
   "source": [
    "x_axis=np.arange(len(cl_cult_group_df))\n",
    "tick_locations = [value for value in x_axis]\n",
    "\n",
    "plt.bar(x_axis,cl_cult_group_df[\"Culture Test ID\"])\n",
    "plt.xticks(tick_locations,summer_labels,rotation = \"vertical\")\n",
    "plt.title(\"Days Exceeding Threshold by Month\")\n",
    "plt.xlabel(\"Months\")\n",
    "plt.ylabel(\"Days exceeding Threshold\")"
   ]
  },
  {
   "cell_type": "code",
   "execution_count": 16,
   "metadata": {},
   "outputs": [
    {
     "data": {
      "text/plain": [
       "Text(0, 0.5, 'Days exceeding Threshold')"
      ]
     },
     "execution_count": 16,
     "metadata": {},
     "output_type": "execute_result"
    },
    {
     "data": {
      "image/png": "[encoded data removed]",
      "text/plain": [
       "<Figure size 432x288 with 1 Axes>"
      ]
     },
     "metadata": {
      "needs_background": "light"
     },
     "output_type": "display_data"
    }
   ],
   "source": [
    "#DNA Graph\n",
    "# (uses x_axis and tick from above)\n",
    "    \n",
    "plt.bar(x_axis,cl_dna_group_df[\"DNA Test ID\"])\n",
    "plt.xticks(tick_locations,summer_labels,rotation = \"vertical\")\n",
    "plt.title(\"Days Exceeding Threshold by Month\")\n",
    "plt.xlabel(\"Months\")\n",
    "plt.ylabel(\"Days exceeding Threshold\")"
   ]
  },
  {
   "cell_type": "code",
   "execution_count": 49,
   "metadata": {},
   "outputs": [
    {
     "name": "stdout",
     "output_type": "stream",
     "text": [
      "Sample Month\n",
      "5    930.657764\n",
      "6    780.439223\n",
      "7    808.103187\n",
      "8    745.955633\n",
      "9    752.185484\n",
      "Name: Culture Reading Mean, dtype: float64\n"
     ]
    },
    {
     "data": {
      "text/html": [
       "<div>\n",
       "<style scoped>\n",
       "    .dataframe tbody tr th:only-of-type {\n",
       "        vertical-align: middle;\n",
       "    }\n",
       "\n",
       "    .dataframe tbody tr th {\n",
       "        vertical-align: top;\n",
       "    }\n",
       "\n",
       "    .dataframe thead th {\n",
       "        text-align: right;\n",
       "    }\n",
       "</style>\n",
       "<table border=\"1\" class=\"dataframe\">\n",
       "  <thead>\n",
       "    <tr style=\"text-align: right;\">\n",
       "      <th></th>\n",
       "      <th>Culture Reading Mean</th>\n",
       "      <th>Mean CFU level above Threshold</th>\n",
       "    </tr>\n",
       "    <tr>\n",
       "      <th>Sample Month</th>\n",
       "      <th></th>\n",
       "      <th></th>\n",
       "    </tr>\n",
       "  </thead>\n",
       "  <tbody>\n",
       "    <tr>\n",
       "      <th>5</th>\n",
       "      <td>930.657764</td>\n",
       "      <td>695.657764</td>\n",
       "    </tr>\n",
       "    <tr>\n",
       "      <th>6</th>\n",
       "      <td>780.439223</td>\n",
       "      <td>545.439223</td>\n",
       "    </tr>\n",
       "    <tr>\n",
       "      <th>7</th>\n",
       "      <td>808.103187</td>\n",
       "      <td>573.103187</td>\n",
       "    </tr>\n",
       "    <tr>\n",
       "      <th>8</th>\n",
       "      <td>745.955633</td>\n",
       "      <td>510.955633</td>\n",
       "    </tr>\n",
       "    <tr>\n",
       "      <th>9</th>\n",
       "      <td>752.185484</td>\n",
       "      <td>517.185484</td>\n",
       "    </tr>\n",
       "  </tbody>\n",
       "</table>\n",
       "</div>"
      ],
      "text/plain": [
       "              Culture Reading Mean  Mean CFU level above Threshold\n",
       "Sample Month                                                      \n",
       "5                       930.657764                      695.657764\n",
       "6                       780.439223                      545.439223\n",
       "7                       808.103187                      573.103187\n",
       "8                       745.955633                      510.955633\n",
       "9                       752.185484                      517.185484"
      ]
     },
     "execution_count": 49,
     "metadata": {},
     "output_type": "execute_result"
    }
   ],
   "source": [
    "#Additional Stats - Find Average Level above threshold\n",
    "cl_cult_mean=closure_cult_df.groupby(\"Sample Month\")[\"Culture Reading Mean\"].mean()\n",
    "print(cl_cult_mean)\n",
    "cl_cult_mean_df=pd.DataFrame(cl_cult_mean)\n",
    "cl_cult_mean_df\n",
    "cl_cult_mean_df[\"Mean CFU level above Threshold\"] = cl_cult_mean_df[\"Culture Reading Mean\"]-culture_thresh\n",
    "cl_cult_mean_df"
   ]
  },
  {
   "cell_type": "code",
   "execution_count": 44,
   "metadata": {},
   "outputs": [
    {
     "data": {
      "image/png": "[encoded data removed]",
      "text/plain": [
       "<Figure size 432x288 with 1 Axes>"
      ]
     },
     "metadata": {
      "needs_background": "light"
     },
     "output_type": "display_data"
    }
   ],
   "source": [
    "#Line graph showing levels above threshold in each month\n",
    "x_axis = [0,1,2,3,4]\n",
    "points = cl_cult_mean_df[\"Mean CFU level above Threshold\"]\n",
    "plt.plot(x_axis, points)\n",
    "plt.xticks(np.arange(5), summer_labels)\n",
    "plt.yticks(np.arange(0,800,100))\n",
    "\n",
    "plt.xlabel(\"Months\")\n",
    "plt.ylabel(\"Average CFU level above Threshold\")\n",
    "plt.title(\"Average CFU Levels above Threshold by Month\")\n",
    "plt.show()"
   ]
  },
  {
   "cell_type": "code",
   "execution_count": 50,
   "metadata": {},
   "outputs": [
    {
     "name": "stdout",
     "output_type": "stream",
     "text": [
      "Sample Month\n",
      "5    2463.157143\n",
      "6    4273.587821\n",
      "7    3168.998616\n",
      "8    4799.155495\n",
      "9    2513.985714\n",
      "Name: DNA Reading Mean, dtype: float64\n"
     ]
    },
    {
     "data": {
      "text/html": [
       "<div>\n",
       "<style scoped>\n",
       "    .dataframe tbody tr th:only-of-type {\n",
       "        vertical-align: middle;\n",
       "    }\n",
       "\n",
       "    .dataframe tbody tr th {\n",
       "        vertical-align: top;\n",
       "    }\n",
       "\n",
       "    .dataframe thead th {\n",
       "        text-align: right;\n",
       "    }\n",
       "</style>\n",
       "<table border=\"1\" class=\"dataframe\">\n",
       "  <thead>\n",
       "    <tr style=\"text-align: right;\">\n",
       "      <th></th>\n",
       "      <th>DNA Reading Mean</th>\n",
       "      <th>Mean CCE level above Threshold</th>\n",
       "    </tr>\n",
       "    <tr>\n",
       "      <th>Sample Month</th>\n",
       "      <th></th>\n",
       "      <th></th>\n",
       "    </tr>\n",
       "  </thead>\n",
       "  <tbody>\n",
       "    <tr>\n",
       "      <th>5</th>\n",
       "      <td>2463.157143</td>\n",
       "      <td>1463.157143</td>\n",
       "    </tr>\n",
       "    <tr>\n",
       "      <th>6</th>\n",
       "      <td>4273.587821</td>\n",
       "      <td>3273.587821</td>\n",
       "    </tr>\n",
       "    <tr>\n",
       "      <th>7</th>\n",
       "      <td>3168.998616</td>\n",
       "      <td>2168.998616</td>\n",
       "    </tr>\n",
       "    <tr>\n",
       "      <th>8</th>\n",
       "      <td>4799.155495</td>\n",
       "      <td>3799.155495</td>\n",
       "    </tr>\n",
       "    <tr>\n",
       "      <th>9</th>\n",
       "      <td>2513.985714</td>\n",
       "      <td>1513.985714</td>\n",
       "    </tr>\n",
       "  </tbody>\n",
       "</table>\n",
       "</div>"
      ],
      "text/plain": [
       "              DNA Reading Mean  Mean CCE level above Threshold\n",
       "Sample Month                                                  \n",
       "5                  2463.157143                     1463.157143\n",
       "6                  4273.587821                     3273.587821\n",
       "7                  3168.998616                     2168.998616\n",
       "8                  4799.155495                     3799.155495\n",
       "9                  2513.985714                     1513.985714"
      ]
     },
     "execution_count": 50,
     "metadata": {},
     "output_type": "execute_result"
    }
   ],
   "source": [
    "#Additional Stats - Find Average Level above threshold\n",
    "cl_dna_mean=closure_dna_df.groupby(\"Sample Month\")[\"DNA Reading Mean\"].mean()\n",
    "print(cl_dna_mean)\n",
    "cl_dna_mean_df=pd.DataFrame(cl_dna_mean)\n",
    "cl_dna_mean_df\n",
    "\n",
    "cl_dna_mean_df[\"Mean CCE level above Threshold\"] = cl_dna_mean_df[\"DNA Reading Mean\"]-dna_thresh\n",
    "cl_dna_mean_df"
   ]
  },
  {
   "cell_type": "code",
   "execution_count": 51,
   "metadata": {},
   "outputs": [
    {
     "data": {
      "image/png": "[encoded data removed]",
      "text/plain": [
       "<Figure size 432x288 with 1 Axes>"
      ]
     },
     "metadata": {
      "needs_background": "light"
     },
     "output_type": "display_data"
    }
   ],
   "source": [
    "#Line graph showing levels above threshold in each month\n",
    "x_axis = [0,1,2,3,4]\n",
    "points = cl_dna_mean_df[\"Mean CCE level above Threshold\"]\n",
    "plt.plot(x_axis, points)\n",
    "plt.xticks(np.arange(5), summer_labels)\n",
    "plt.yticks(np.arange(0,4000,1000))\n",
    "\n",
    "plt.xlabel(\"Months\")\n",
    "plt.ylabel(\"Average CCE level above Threshold\")\n",
    "plt.title(\"Average CCE Levels above Threshold by Month\")\n",
    "plt.show()"
   ]
  },
  {
   "cell_type": "code",
   "execution_count": null,
   "metadata": {},
   "outputs": [],
   "source": []
  },
  {
   "cell_type": "code",
   "execution_count": null,
   "metadata": {},
   "outputs": [],
   "source": []
  },
  {
   "cell_type": "code",
   "execution_count": null,
   "metadata": {},
   "outputs": [],
   "source": []
  }
 ],
 "metadata": {
  "kernelspec": {
   "display_name": "Python 3",
   "language": "python",
   "name": "python3"
  },
  "language_info": {
   "codemirror_mode": {
    "name": "ipython",
    "version": 3
   },
   "file_extension": ".py",
   "mimetype": "text/x-python",
   "name": "python",
   "nbconvert_exporter": "python",
   "pygments_lexer": "ipython3",
   "version": "3.8.5"
  }
 },
 "nbformat": 4,
 "nbformat_minor": 4
}
