{
 "cells": [
  {
   "cell_type": "code",
   "execution_count": 1,
   "metadata": {},
   "outputs": [],
   "source": [
    "# Dependencies and Setup\n",
    "import matplotlib.pyplot as plt\n",
    "import pandas as pd\n",
    "import numpy as np\n",
    "import requests\n",
    "import gmaps\n",
    "import os\n",
    "\n",
    "# Import API key\n",
    "from config import g_key"
   ]
  },
  {
   "cell_type": "code",
   "execution_count": 2,
   "metadata": {},
   "outputs": [],
   "source": [
    "cleaned_culture_data = pd.read_csv(\"Cleaned_Date_Culture_Data.csv\")\n",
    "cleaned_dna_data = pd.read_csv(\"Cleaned_Date_DNA_Data.csv\")"
   ]
  },
  {
   "cell_type": "code",
   "execution_count": 4,
   "metadata": {},
   "outputs": [
    {
     "data": {
      "text/html": [
       "<div>\n",
       "<style scoped>\n",
       "    .dataframe tbody tr th:only-of-type {\n",
       "        vertical-align: middle;\n",
       "    }\n",
       "\n",
       "    .dataframe tbody tr th {\n",
       "        vertical-align: top;\n",
       "    }\n",
       "\n",
       "    .dataframe thead th {\n",
       "        text-align: right;\n",
       "    }\n",
       "</style>\n",
       "<table border=\"1\" class=\"dataframe\">\n",
       "  <thead>\n",
       "    <tr style=\"text-align: right;\">\n",
       "      <th></th>\n",
       "      <th>Beach</th>\n",
       "      <th>Culture Reading Mean</th>\n",
       "      <th>Latitude</th>\n",
       "      <th>Longitude</th>\n",
       "    </tr>\n",
       "  </thead>\n",
       "  <tbody>\n",
       "    <tr>\n",
       "      <th>0</th>\n",
       "      <td>12th Street</td>\n",
       "      <td>151.680685</td>\n",
       "      <td>41.8638</td>\n",
       "      <td>-87.6083</td>\n",
       "    </tr>\n",
       "    <tr>\n",
       "      <th>1</th>\n",
       "      <td>57th Street</td>\n",
       "      <td>154.944431</td>\n",
       "      <td>41.7911</td>\n",
       "      <td>-87.5797</td>\n",
       "    </tr>\n",
       "    <tr>\n",
       "      <th>2</th>\n",
       "      <td>63rd Street</td>\n",
       "      <td>306.450355</td>\n",
       "      <td>41.7827</td>\n",
       "      <td>-87.5748</td>\n",
       "    </tr>\n",
       "    <tr>\n",
       "      <th>3</th>\n",
       "      <td>Calumet</td>\n",
       "      <td>227.592369</td>\n",
       "      <td>41.7142</td>\n",
       "      <td>-87.5299</td>\n",
       "    </tr>\n",
       "    <tr>\n",
       "      <th>4</th>\n",
       "      <td>Fargo</td>\n",
       "      <td>44.843750</td>\n",
       "      <td>42.0161</td>\n",
       "      <td>-87.6647</td>\n",
       "    </tr>\n",
       "  </tbody>\n",
       "</table>\n",
       "</div>"
      ],
      "text/plain": [
       "         Beach  Culture Reading Mean  Latitude  Longitude\n",
       "0  12th Street            151.680685   41.8638   -87.6083\n",
       "1  57th Street            154.944431   41.7911   -87.5797\n",
       "2  63rd Street            306.450355   41.7827   -87.5748\n",
       "3      Calumet            227.592369   41.7142   -87.5299\n",
       "4        Fargo             44.843750   42.0161   -87.6647"
      ]
     },
     "execution_count": 4,
     "metadata": {},
     "output_type": "execute_result"
    }
   ],
   "source": [
    "culture_beach_lat_long_df = cleaned_culture_data[[\"Beach\", \"Latitude\", \"Longitude\"]]\n",
    "culture_beach_lat_long_df = culture_beach_lat_long_df.drop_duplicates(subset=\"Beach\")\n",
    "culture_beach_data = pd.read_csv(\"Culture Beach Data.csv\")\n",
    "beach_culture_df = pd.merge(culture_beach_data, culture_beach_lat_long_df, on=\"Beach\", how=\"inner\")\n",
    "beach_culture_df.head()"
   ]
  },
  {
   "cell_type": "code",
   "execution_count": 37,
   "metadata": {},
   "outputs": [
    {
     "data": {
      "text/html": [
       "<div>\n",
       "<style scoped>\n",
       "    .dataframe tbody tr th:only-of-type {\n",
       "        vertical-align: middle;\n",
       "    }\n",
       "\n",
       "    .dataframe tbody tr th {\n",
       "        vertical-align: top;\n",
       "    }\n",
       "\n",
       "    .dataframe thead th {\n",
       "        text-align: right;\n",
       "    }\n",
       "</style>\n",
       "<table border=\"1\" class=\"dataframe\">\n",
       "  <thead>\n",
       "    <tr style=\"text-align: right;\">\n",
       "      <th></th>\n",
       "      <th>Beach</th>\n",
       "      <th>DNA Reading Mean</th>\n",
       "      <th>Latitude</th>\n",
       "      <th>Longitude</th>\n",
       "    </tr>\n",
       "  </thead>\n",
       "  <tbody>\n",
       "    <tr>\n",
       "      <th>0</th>\n",
       "      <td>12th Street</td>\n",
       "      <td>677.739410</td>\n",
       "      <td>41.8638</td>\n",
       "      <td>-87.6083</td>\n",
       "    </tr>\n",
       "    <tr>\n",
       "      <th>1</th>\n",
       "      <td>57th Street</td>\n",
       "      <td>341.875410</td>\n",
       "      <td>41.7911</td>\n",
       "      <td>-87.5797</td>\n",
       "    </tr>\n",
       "    <tr>\n",
       "      <th>2</th>\n",
       "      <td>63rd Street</td>\n",
       "      <td>823.011876</td>\n",
       "      <td>41.7827</td>\n",
       "      <td>-87.5748</td>\n",
       "    </tr>\n",
       "    <tr>\n",
       "      <th>3</th>\n",
       "      <td>Calumet</td>\n",
       "      <td>516.911944</td>\n",
       "      <td>41.7142</td>\n",
       "      <td>-87.5299</td>\n",
       "    </tr>\n",
       "    <tr>\n",
       "      <th>4</th>\n",
       "      <td>Foster</td>\n",
       "      <td>200.337954</td>\n",
       "      <td>41.9785</td>\n",
       "      <td>-87.6515</td>\n",
       "    </tr>\n",
       "  </tbody>\n",
       "</table>\n",
       "</div>"
      ],
      "text/plain": [
       "         Beach  DNA Reading Mean  Latitude  Longitude\n",
       "0  12th Street        677.739410   41.8638   -87.6083\n",
       "1  57th Street        341.875410   41.7911   -87.5797\n",
       "2  63rd Street        823.011876   41.7827   -87.5748\n",
       "3      Calumet        516.911944   41.7142   -87.5299\n",
       "4       Foster        200.337954   41.9785   -87.6515"
      ]
     },
     "execution_count": 37,
     "metadata": {},
     "output_type": "execute_result"
    }
   ],
   "source": [
    "dna_beach_lat_long_df = cleaned_dna_data[[\"Beach\", \"Latitude\", \"Longitude\"]]\n",
    "dna_beach_lat_long_df = dna_beach_lat_long_df.drop_duplicates(subset=\"Beach\")\n",
    "dna_beach_data = pd.read_csv(\"DNA Beach Data.csv\")\n",
    "dna_beach_df = pd.merge(dna_beach_data, dna_beach_lat_long_df, on=\"Beach\", how=\"inner\")\n",
    "dna_beach_df.head()"
   ]
  },
  {
   "cell_type": "code",
   "execution_count": 29,
   "metadata": {},
   "outputs": [],
   "source": [
    "# Configuring gmaps key\n",
    "gmaps.configure(api_key=g_key)"
   ]
  },
  {
   "cell_type": "code",
   "execution_count": 30,
   "metadata": {},
   "outputs": [
    {
     "data": {
      "application/vnd.jupyter.widget-view+json": {
       "model_id": "b2441567ef39441192916682668a6b94",
       "version_major": 2,
       "version_minor": 0
      },
      "text/plain": [
       "Figure(layout=FigureLayout(height='420px'))"
      ]
     },
     "metadata": {},
     "output_type": "display_data"
    }
   ],
   "source": [
    "# Creating heatmap\n",
    "locations = beach_culture_df[[\"Latitude\", \"Longitude\"]]\n",
    "fig = gmaps.figure()\n",
    "\n",
    "heat_layer = gmaps.heatmap_layer(locations, weights=beach_culture_df[\"Culture Reading Mean\"], \n",
    "                                 dissipating=False, max_intensity=beach_culture_df[\"Culture Reading Mean\"].max(),\n",
    "                                 point_radius = 0.01)\n",
    "fig.add_layer(heat_layer)\n",
    "new_marker = gmaps.marker_layer(locations, info_box_content=beach_culture_df[\"Beach\"])\n",
    "fig.add_layer(new_marker)\n",
    "fig"
   ]
  },
  {
   "cell_type": "code",
   "execution_count": 35,
   "metadata": {},
   "outputs": [
    {
     "data": {
      "application/vnd.jupyter.widget-view+json": {
       "model_id": "84441415600d4959974e2946669d4c24",
       "version_major": 2,
       "version_minor": 0
      },
      "text/plain": [
       "Figure(layout=FigureLayout(height='420px'))"
      ]
     },
     "metadata": {},
     "output_type": "display_data"
    }
   ],
   "source": [
    "# Creating heatmap\n",
    "locations = dna_beach_df[[\"Latitude\", \"Longitude\"]]\n",
    "fig2 = gmaps.figure()\n",
    "\n",
    "heat_layer = gmaps.heatmap_layer(locations, weights=dna_beach_df[\"DNA Reading Mean\"], \n",
    "                                 dissipating=False, max_intensity=dna_beach_df[\"DNA Reading Mean\"].max(),\n",
    "                                 point_radius = 0.01)\n",
    "fig2.add_layer(heat_layer)\n",
    "new_marker = gmaps.marker_layer(locations, info_box_content=dna_beach_df[\"Beach\"])\n",
    "fig2.add_layer(new_marker)\n",
    "fig2"
   ]
  },
  {
   "cell_type": "code",
   "execution_count": null,
   "metadata": {},
   "outputs": [],
   "source": []
  }
 ],
 "metadata": {
  "kernelspec": {
   "display_name": "Python 3",
   "language": "python",
   "name": "python3"
  },
  "language_info": {
   "codemirror_mode": {
    "name": "ipython",
    "version": 3
   },
   "file_extension": ".py",
   "mimetype": "text/x-python",
   "name": "python",
   "nbconvert_exporter": "python",
   "pygments_lexer": "ipython3",
   "version": "3.8.3"
  }
 },
 "nbformat": 4,
 "nbformat_minor": 4
}
