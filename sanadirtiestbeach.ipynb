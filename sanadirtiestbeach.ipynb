{
 "cells": [
  {
   "cell_type": "code",
   "execution_count": 4,
   "metadata": {},
   "outputs": [],
   "source": [
    "import pandas as pd \n",
    "import matplotlib.pyplot as plt\n",
    "import datetime"
   ]
  },
  {
   "cell_type": "code",
   "execution_count": 9,
   "metadata": {},
   "outputs": [],
   "source": [
    "#cleandata\n",
    "culture_data = pd.read_csv(\"Cleaned_Date_Culture_Data.csv\")"
   ]
  },
  {
   "cell_type": "code",
   "execution_count": 33,
   "metadata": {
    "scrolled": true
   },
   "outputs": [
    {
     "data": {
      "text/html": [
       "<div>\n",
       "<style scoped>\n",
       "    .dataframe tbody tr th:only-of-type {\n",
       "        vertical-align: middle;\n",
       "    }\n",
       "\n",
       "    .dataframe tbody tr th {\n",
       "        vertical-align: top;\n",
       "    }\n",
       "\n",
       "    .dataframe thead th {\n",
       "        text-align: right;\n",
       "    }\n",
       "</style>\n",
       "<table border=\"1\" class=\"dataframe\">\n",
       "  <thead>\n",
       "    <tr style=\"text-align: right;\">\n",
       "      <th></th>\n",
       "      <th>Unnamed: 0</th>\n",
       "      <th>Culture Test ID</th>\n",
       "      <th>Culture Sample 1 Timestamp</th>\n",
       "      <th>Beach</th>\n",
       "      <th>Culture Sample 1 Reading</th>\n",
       "      <th>Culture Sample 2 Reading</th>\n",
       "      <th>Culture Reading Mean</th>\n",
       "      <th>Latitude</th>\n",
       "      <th>Longitude</th>\n",
       "      <th>Sample Date</th>\n",
       "      <th>Sample Time</th>\n",
       "    </tr>\n",
       "  </thead>\n",
       "  <tbody>\n",
       "    <tr>\n",
       "      <th>14817</th>\n",
       "      <td>24278</td>\n",
       "      <td>108062.0</td>\n",
       "      <td>2013-08-19 00:00:00</td>\n",
       "      <td>Juneway</td>\n",
       "      <td>2.0</td>\n",
       "      <td>1.0</td>\n",
       "      <td>1.4</td>\n",
       "      <td>42.0224</td>\n",
       "      <td>-87.6674</td>\n",
       "      <td>2013-08-19</td>\n",
       "      <td>00:00:00</td>\n",
       "    </tr>\n",
       "    <tr>\n",
       "      <th>14818</th>\n",
       "      <td>24280</td>\n",
       "      <td>109868.0</td>\n",
       "      <td>2014-07-31 00:00:00</td>\n",
       "      <td>Leone</td>\n",
       "      <td>25.0</td>\n",
       "      <td>18.0</td>\n",
       "      <td>21.2</td>\n",
       "      <td>42.0131</td>\n",
       "      <td>-87.6635</td>\n",
       "      <td>2014-07-31</td>\n",
       "      <td>00:00:00</td>\n",
       "    </tr>\n",
       "    <tr>\n",
       "      <th>14819</th>\n",
       "      <td>24281</td>\n",
       "      <td>113525.0</td>\n",
       "      <td>2016-07-26 09:00:00</td>\n",
       "      <td>Howard</td>\n",
       "      <td>30.0</td>\n",
       "      <td>36.0</td>\n",
       "      <td>32.9</td>\n",
       "      <td>42.0188</td>\n",
       "      <td>-87.6663</td>\n",
       "      <td>2016-07-26</td>\n",
       "      <td>09:00:00</td>\n",
       "    </tr>\n",
       "    <tr>\n",
       "      <th>14820</th>\n",
       "      <td>24283</td>\n",
       "      <td>112193.0</td>\n",
       "      <td>2012-05-24 00:00:00</td>\n",
       "      <td>Howard</td>\n",
       "      <td>10.8</td>\n",
       "      <td>8.6</td>\n",
       "      <td>9.6</td>\n",
       "      <td>42.0188</td>\n",
       "      <td>-87.6663</td>\n",
       "      <td>2012-05-24</td>\n",
       "      <td>00:00:00</td>\n",
       "    </tr>\n",
       "    <tr>\n",
       "      <th>14821</th>\n",
       "      <td>24284</td>\n",
       "      <td>112347.0</td>\n",
       "      <td>2014-06-16 00:00:00</td>\n",
       "      <td>Rainbow</td>\n",
       "      <td>25.0</td>\n",
       "      <td>12.0</td>\n",
       "      <td>17.3</td>\n",
       "      <td>41.7580</td>\n",
       "      <td>-87.5510</td>\n",
       "      <td>2014-06-16</td>\n",
       "      <td>00:00:00</td>\n",
       "    </tr>\n",
       "  </tbody>\n",
       "</table>\n",
       "</div>"
      ],
      "text/plain": [
       "       Unnamed: 0  Culture Test ID Culture Sample 1 Timestamp    Beach  \\\n",
       "14817       24278         108062.0        2013-08-19 00:00:00  Juneway   \n",
       "14818       24280         109868.0        2014-07-31 00:00:00    Leone   \n",
       "14819       24281         113525.0        2016-07-26 09:00:00   Howard   \n",
       "14820       24283         112193.0        2012-05-24 00:00:00   Howard   \n",
       "14821       24284         112347.0        2014-06-16 00:00:00  Rainbow   \n",
       "\n",
       "       Culture Sample 1 Reading  Culture Sample 2 Reading  \\\n",
       "14817                       2.0                       1.0   \n",
       "14818                      25.0                      18.0   \n",
       "14819                      30.0                      36.0   \n",
       "14820                      10.8                       8.6   \n",
       "14821                      25.0                      12.0   \n",
       "\n",
       "       Culture Reading Mean  Latitude  Longitude Sample Date Sample Time  \n",
       "14817                   1.4   42.0224   -87.6674  2013-08-19    00:00:00  \n",
       "14818                  21.2   42.0131   -87.6635  2014-07-31    00:00:00  \n",
       "14819                  32.9   42.0188   -87.6663  2016-07-26    09:00:00  \n",
       "14820                   9.6   42.0188   -87.6663  2012-05-24    00:00:00  \n",
       "14821                  17.3   41.7580   -87.5510  2014-06-16    00:00:00  "
      ]
     },
     "execution_count": 33,
     "metadata": {},
     "output_type": "execute_result"
    }
   ],
   "source": [
    "culture_data.tail()"
   ]
  },
  {
   "cell_type": "code",
   "execution_count": 11,
   "metadata": {},
   "outputs": [],
   "source": [
    "#cleandnadata\n",
    "dna_data = pd.read_csv(\"Cleaned_Date_DNA_Data.csv\")"
   ]
  },
  {
   "cell_type": "code",
   "execution_count": 36,
   "metadata": {},
   "outputs": [
    {
     "data": {
      "text/html": [
       "<div>\n",
       "<style scoped>\n",
       "    .dataframe tbody tr th:only-of-type {\n",
       "        vertical-align: middle;\n",
       "    }\n",
       "\n",
       "    .dataframe tbody tr th {\n",
       "        vertical-align: top;\n",
       "    }\n",
       "\n",
       "    .dataframe thead th {\n",
       "        text-align: right;\n",
       "    }\n",
       "</style>\n",
       "<table border=\"1\" class=\"dataframe\">\n",
       "  <thead>\n",
       "    <tr style=\"text-align: right;\">\n",
       "      <th></th>\n",
       "      <th>Unnamed: 0</th>\n",
       "      <th>DNA Test ID</th>\n",
       "      <th>DNA Sample Timestamp</th>\n",
       "      <th>Beach</th>\n",
       "      <th>DNA Sample 1 Reading</th>\n",
       "      <th>DNA Sample 2 Reading</th>\n",
       "      <th>DNA Reading Mean</th>\n",
       "      <th>Latitude</th>\n",
       "      <th>Longitude</th>\n",
       "      <th>Sample Date</th>\n",
       "      <th>Sample Time</th>\n",
       "    </tr>\n",
       "  </thead>\n",
       "  <tbody>\n",
       "    <tr>\n",
       "      <th>0</th>\n",
       "      <td>3</td>\n",
       "      <td>10601.0</td>\n",
       "      <td>2019-06-03 12:08:00</td>\n",
       "      <td>63rd Street</td>\n",
       "      <td>15.0</td>\n",
       "      <td>121.0</td>\n",
       "      <td>42.6</td>\n",
       "      <td>41.7827</td>\n",
       "      <td>-87.5748</td>\n",
       "      <td>2019-06-03</td>\n",
       "      <td>12:08:00</td>\n",
       "    </tr>\n",
       "    <tr>\n",
       "      <th>1</th>\n",
       "      <td>4</td>\n",
       "      <td>10600.0</td>\n",
       "      <td>2019-06-03 12:08:00</td>\n",
       "      <td>South Shore</td>\n",
       "      <td>1006.0</td>\n",
       "      <td>16.0</td>\n",
       "      <td>126.9</td>\n",
       "      <td>41.7689</td>\n",
       "      <td>-87.5636</td>\n",
       "      <td>2019-06-03</td>\n",
       "      <td>12:08:00</td>\n",
       "    </tr>\n",
       "  </tbody>\n",
       "</table>\n",
       "</div>"
      ],
      "text/plain": [
       "   Unnamed: 0  DNA Test ID DNA Sample Timestamp        Beach  \\\n",
       "0           3      10601.0  2019-06-03 12:08:00  63rd Street   \n",
       "1           4      10600.0  2019-06-03 12:08:00  South Shore   \n",
       "\n",
       "   DNA Sample 1 Reading  DNA Sample 2 Reading  DNA Reading Mean  Latitude  \\\n",
       "0                  15.0                 121.0              42.6   41.7827   \n",
       "1                1006.0                  16.0             126.9   41.7689   \n",
       "\n",
       "   Longitude Sample Date Sample Time  \n",
       "0   -87.5748  2019-06-03    12:08:00  \n",
       "1   -87.5636  2019-06-03    12:08:00  "
      ]
     },
     "execution_count": 36,
     "metadata": {},
     "output_type": "execute_result"
    }
   ],
   "source": [
    "dna_data.head(2)"
   ]
  },
  {
   "cell_type": "code",
   "execution_count": 52,
   "metadata": {},
   "outputs": [],
   "source": [
    "#groupculturedata\n",
    "group_frame = culture_data.groupby(\"Beach\").mean()[\"Culture Reading Mean\"]"
   ]
  },
  {
   "cell_type": "code",
   "execution_count": 54,
   "metadata": {
    "scrolled": true
   },
   "outputs": [
    {
     "data": {
      "text/plain": [
       "Beach\n",
       "12th Street    -87.608300\n",
       "57th Street    -87.579700\n",
       "63rd Street    -87.574800\n",
       "Calumet        -87.529900\n",
       "Fargo          -87.664700\n",
       "Foster         -87.651500\n",
       "Howard         -87.666300\n",
       "Humboldt       -87.703717\n",
       "Juneway        -87.667400\n",
       "Lane           -87.654500\n",
       "Leone          -87.663500\n",
       "Loyola         -87.663500\n",
       "Montrose       -87.638500\n",
       "Montrose Dog   -87.642617\n",
       "North Avenue   -87.627300\n",
       "North Shore    -87.656400\n",
       "Oak Street     -87.623500\n",
       "Oakwood        -87.597600\n",
       "Ohio Street    -87.615200\n",
       "Osterman       -87.654500\n",
       "Rainbow        -87.551000\n",
       "Rogers         -87.666600\n",
       "South Shore    -87.563600\n",
       "Name: Longitude, dtype: float64"
      ]
     },
     "execution_count": 54,
     "metadata": {},
     "output_type": "execute_result"
    }
   ],
   "source": [
    "group_frame"
   ]
  },
  {
   "cell_type": "code",
   "execution_count": 55,
   "metadata": {},
   "outputs": [],
   "source": [
    "group_frame.to_csv(\"Culture Beach Data.csv\")"
   ]
  },
  {
   "cell_type": "code",
   "execution_count": 43,
   "metadata": {},
   "outputs": [
    {
     "data": {
      "text/plain": [
       "Text(0.5, 1.0, 'Chicago Beach Average E-Coli Culture')"
      ]
     },
     "execution_count": 43,
     "metadata": {},
     "output_type": "execute_result"
    },
    {
     "data": {
      "image/png": "[encoded data removed]",
      "text/plain": [
       "<Figure size 864x576 with 1 Axes>"
      ]
     },
     "metadata": {
      "needs_background": "light"
     },
     "output_type": "display_data"
    }
   ],
   "source": [
    "group_frame.plot(kind='bar', figsize=(12,8))\n",
    "plt.ylabel('Mean of E-Coli')\n",
    "plt.title('Chicago Beach Average E-Coli Culture')"
   ]
  },
  {
   "cell_type": "code",
   "execution_count": 15,
   "metadata": {},
   "outputs": [],
   "source": [
    "group_dna = dna_data.groupby(\"Beach\").mean()[\"DNA Reading Mean\"]"
   ]
  },
  {
   "cell_type": "code",
   "execution_count": 16,
   "metadata": {},
   "outputs": [
    {
     "data": {
      "text/plain": [
       "Beach\n",
       "12th Street                        677.739410\n",
       "57th Street                        341.875410\n",
       "63rd Street                        823.011876\n",
       "Calumet                            516.911944\n",
       "Foster                             200.337954\n",
       "Hartigan (Albion)                  458.830693\n",
       "Howard                             404.903041\n",
       "Humboldt                          2065.181053\n",
       "Leone                              308.458804\n",
       "Margaret T Burroughs (31st)        693.496783\n",
       "Marion Mahony Griffin (Jarvis)     295.021667\n",
       "Montrose                           596.424171\n",
       "North Avenue                       213.359946\n",
       "Oak Street                         187.700339\n",
       "Oakwood                            249.603158\n",
       "Ohio Street                        359.520109\n",
       "Osterman                           333.573510\n",
       "Rainbow                            649.664941\n",
       "Rogers                            1220.797872\n",
       "South Shore                        539.419159\n",
       "Name: DNA Reading Mean, dtype: float64"
      ]
     },
     "execution_count": 16,
     "metadata": {},
     "output_type": "execute_result"
    }
   ],
   "source": [
    "group_dna"
   ]
  },
  {
   "cell_type": "code",
   "execution_count": 47,
   "metadata": {},
   "outputs": [],
   "source": [
    "group_dna.to_csv(\"DNA Beach Data.csv\")"
   ]
  },
  {
   "cell_type": "code",
   "execution_count": 45,
   "metadata": {},
   "outputs": [
    {
     "data": {
      "text/plain": [
       "Text(0.5, 1.0, 'Chicago DNA  - Avoid Humboldt')"
      ]
     },
     "execution_count": 45,
     "metadata": {},
     "output_type": "execute_result"
    },
    {
     "data": {
      "image/png": "[encoded data removed]",
      "text/plain": [
       "<Figure size 864x576 with 1 Axes>"
      ]
     },
     "metadata": {
      "needs_background": "light"
     },
     "output_type": "display_data"
    }
   ],
   "source": [
    "group_dna.plot(kind='bar', figsize=(12,8))\n",
    "plt.ylabel('DNA')\n",
    "plt.title('Chicago DNA  - Avoid Humboldt')"
   ]
  },
  {
   "cell_type": "code",
   "execution_count": null,
   "metadata": {},
   "outputs": [],
   "source": []
  }
 ],
 "metadata": {
  "kernelspec": {
   "display_name": "Python 3",
   "language": "python",
   "name": "python3"
  },
  "language_info": {
   "codemirror_mode": {
    "name": "ipython",
    "version": 3
   },
   "file_extension": ".py",
   "mimetype": "text/x-python",
   "name": "python",
   "nbconvert_exporter": "python",
   "pygments_lexer": "ipython3",
   "version": "3.8.5"
  }
 },
 "nbformat": 4,
 "nbformat_minor": 4
}
